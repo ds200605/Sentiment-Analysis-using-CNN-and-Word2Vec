{
 "cells": [
  {
   "cell_type": "code",
   "execution_count": 2,
   "metadata": {
    "executionInfo": {
     "elapsed": 1462,
     "status": "ok",
     "timestamp": 1634961562955,
     "user": {
      "displayName": "Miondlicht",
      "photoUrl": "https://lh3.googleusercontent.com/a/default-user=s64",
      "userId": "03919276898062335465"
     },
     "user_tz": -420
    },
    "id": "VLpA5OOYHXmE"
   },
   "outputs": [],
   "source": [
    "import pandas as pd\n",
    "import numpy as np\n",
    "import spacy\n",
    "from spacy.lang.en.stop_words import STOP_WORDS as stopwords\n",
    "import re\n",
    "import string\n",
    "from nltk.tokenize import word_tokenize\n",
    "from textblob import TextBlob,Word\n",
    "from nltk.corpus import words,wordnet\n",
    "from nltk.stem import WordNetLemmatizer"
   ]
  },
  {
   "cell_type": "code",
   "execution_count": 3,
   "metadata": {
    "colab": {
     "base_uri": "https://localhost:8080/"
    },
    "executionInfo": {
     "elapsed": 17,
     "status": "ok",
     "timestamp": 1634961562959,
     "user": {
      "displayName": "Miondlicht",
      "photoUrl": "https://lh3.googleusercontent.com/a/default-user=s64",
      "userId": "03919276898062335465"
     },
     "user_tz": -420
    },
    "id": "hZCDO2q9N4iX",
    "outputId": "702041b6-af09-4a8b-8072-5b4f783b5818"
   },
   "outputs": [
    {
     "name": "stdout",
     "output_type": "stream",
     "text": [
      "[nltk_data] Downloading package punkt to\n",
      "[nltk_data]     C:\\Users\\tyx\\AppData\\Roaming\\nltk_data...\n",
      "[nltk_data]   Package punkt is already up-to-date!\n",
      "[nltk_data] Downloading package averaged_perceptron_tagger to\n",
      "[nltk_data]     C:\\Users\\tyx\\AppData\\Roaming\\nltk_data...\n",
      "[nltk_data]   Unzipping taggers\\averaged_perceptron_tagger.zip.\n",
      "[nltk_data] Downloading package wordnet to\n",
      "[nltk_data]     C:\\Users\\tyx\\AppData\\Roaming\\nltk_data...\n",
      "[nltk_data]   Package wordnet is already up-to-date!\n"
     ]
    },
    {
     "data": {
      "text/plain": [
       "True"
      ]
     },
     "execution_count": 3,
     "metadata": {},
     "output_type": "execute_result"
    }
   ],
   "source": [
    "import nltk\n",
    "nltk.download('punkt')\n",
    "nltk.download('averaged_perceptron_tagger')\n",
    "nltk.download('wordnet')"
   ]
  },
  {
   "cell_type": "code",
   "execution_count": 5,
   "metadata": {},
   "outputs": [
    {
     "name": "stdout",
     "output_type": "stream",
     "text": [
      "end\n",
      "Absorbing character study by Andr脙漏 Turpin .\n",
      "There 's an energy to Y Tu Mam脙隆 Tambi脙漏n .\n",
      "Garc脙颅a Bernal and Talanc脙鲁n are an immensely appealing couple , and even though their story is predictable , you 'll want things to work out .\n",
      "Sch脙录tte 's dramatic snapshot of the artist three days before his death offers an interesting bit of speculation as to the issues Brecht faced as his life drew to a close .\n",
      "A moving and solidly entertaining comedy\\/drama that should bolster director and co-writer Juan Jos脙漏 Campanella 's reputation in the United States .\n",
      "Apart from its own considerable achievement , Metropolis confirms Tezuka 's status as both the primary visual influence on the anim脙漏 tradition and its defining philosophical conscience .\n",
      "B脙漏art and Berling are both superb , while Huppert ... is magnificent .\n",
      "Thanks to The Ch脙垄teau 's balance of whimsicality , narrative discipline and serious improvisation , almost every relationship and personality in the film yields surprises .\n",
      "A jaw-droppingly beautiful work that upends nearly every clich脙漏 of Japanese animation while delivering a more than satisfactory amount of carnage .\n",
      "Parts seem like they were lifted from Terry Gilliam 's subconscious , pressed through Kafka 's meat grinder and into Bu脙卤uel 's casings\n",
      "Lead actress Ga脙炉 , she of the impossibly long limbs and sweetly conspiratorial smile , is a towering siren .\n",
      "The fluid motion is astounding on any number of levels -- including the physical demands made on B脙录ttner -- and it implies in its wake the intractable , irreversible flow of history .\n",
      "While Guzm脙隆n frustratingly refuses to give Pinochet 's crimes a political context , his distance from the material is mostly admirable .\n",
      "A fascinating glimpse into an insular world that gives the lie to many clich脙漏s and showcases a group of dedicated artists .\n",
      "With elements cribbed from Lang 's Metropolis , Welles ' Kane , and Eisenstein 's Potemkin , the true wonder of Rintar脙麓 's Metropolis is the number of lasting images all its own .\n",
      "A coming-of-age film that avoids the cartoonish clich脙漏s and sneering humor of the genre as it provides a fresh view of an old type -- the uncertain girl on the brink of womanhood .\n",
      "Heartwarming here relies less on forced air than on Petter N脙娄ss ' delicate , clever direction ... and a wonderful , imaginative script by Axel Hellstenius .\n",
      "For 95 often hilarious minutes , ( Cho ) riffs on the diciness of colonics , on straight versus gay personal ads , on how men would act if they had periods , and on the perils of a certain outr脙漏 sexual practice .\n",
      "An elegant film with often surprising twists and an intermingling of naivet脙漏 and sophistication .\n",
      "... somehow manages to escape the shackles of its own clich脙漏s to be the best espionage picture to come out in weeks .\n",
      "Famuyiwa 's feature deals with its subject matter in a tasteful , intelligent manner , rather than forcing us to endure every plot contrivance that the clich脙漏-riddled genre can offer .\n",
      "Bon app脙漏tit !\n",
      "Like the best 60 Minutes expos脙漏 , the film ( at 80 minutes ) is actually quite entertaining .\n",
      "Like Mike is a harmlessly na脙炉ve slice of b-ball fantasy , fit for filling in during the real NBA 's off-season .\n",
      "An enjoyable comedy of lingual and cultural differences ... The Ch脙垄teau is a film -- full of life and small delights -- that has all the wiggling energy of young kitten .\n",
      "With an obvious rapport with her actors and a striking style behind the camera , H脙漏l脙篓ne Angel is definitely a director to watch .\n",
      "Y Tu Mam脙隆 Tambi脙漏n is hilariously , gloriously alive , and quite often hotter than Georgia asphalt .\n",
      "To some eyes this will seem like a recycling of clich脙漏s , an assassin 's greatest hits .\n",
      "Berling and B脙漏art ... continue to impress , and Isabelle Huppert ... again shows uncanny skill in getting under the skin of her characters .\n",
      "( Cuar脙鲁n has ) created a substantive movie out of several cliched movie structures : the road movie , the coming-of-age movie , and the teenage sex comedy .\n",
      "Veret脙漏 has a whip-smart sense of narrative bluffs .\n",
      "The action clich脙漏s just pile up .\n",
      "Pascale Bailly 's rom-com provides Am脙漏lie 's Audrey Tautou with another fabuleux destin -- i.e. , a banal spiritual quest .\n",
      "The plot is nothing but boilerplate clich脙漏s from start to finish , and the script assumes that not only would subtlety be lost on the target audience , but that it 's also too stupid to realize that they 've already seen this exact same movie a hundred times\n",
      "Gaghan ... has thrown every suspenseful clich脙漏 in the book at this nonsensical story .\n",
      "I 'm sure the filmmakers found this a remarkable and novel concept , but anybody who has ever seen an independent film can report that it is instead a cheap clich脙漏 .\n",
      "A mimetic approximation of better films like Contempt and 8脗聽1\\/2 .\n",
      "Absurdities and clich脙漏s accumulate like lint in a fat man 's navel .\n",
      "Brady achieves the remarkable feat of squandering a topnotch foursome of actors ... by shoving them into every clich脙漏d white-trash situation imaginable .\n",
      "Typical anim脙漏 , with cheapo animation ( like Saturday morning TV in the '60s ) , a complex sword-and-sorcery plot and characters who all have big round eyes and Japanese names .\n",
      "The most repugnant adaptation of a classic text since Roland Joff脙漏 and Demi Moore 's The Scarlet Letter .\n",
      "` The Ch脙垄teau is never quite able to overcome the cultural moat surrounding its ludicrous and contrived plot . '\n",
      "Howard conjures the past via surrealist flourishes so overwrought you 'd swear he just stepped out of a Bu脙卤uel retrospective .\n",
      "The characters are based on stock clich脙漏s , and the attempt to complicate the story only defies credibility .\n",
      "Traffics in the kind of prechewed racial clich脙漏s that have already been through the corporate stand-up-comedy mill .\n",
      "As social expos脙漏 , Skins has its heart in the right place , but that 's not much to hang a soap opera on .\n",
      "The Ch脙垄teau would have been benefited from a sharper , cleaner script before it went in front of the camera .\n",
      "An overstylized , pur脙漏ed m脙漏lange of sex , psychology , drugs and philosophy .\n",
      "A clich脙漏d and shallow cautionary tale about the hard-partying lives of gay men .\n",
      "Buries an interesting storyline about morality and the choices we make underneath such a mountain of clich脙漏s and borrowed images that it might more accurately be titled Mr. Chips off the Old Block .\n",
      "In the real world , an actor this uncharismatically beautiful would have a r脙漏sum脙漏 loaded with credits like `` Girl in Bar # 3 . ''\n",
      "In its own way , Joshua is as blasphemous and nonsensical as a Luis Bu脙卤uel film without the latter 's attendant intelligence , poetry , passion , and genius .\n",
      "Not a stereotype is omitted nor a clich脙漏 left unsaid .\n",
      "First-time director Jo脙拢o Pedro Rodrigues ' unwillingness to define his hero 's background or motivations becomes more and more frustrating as the film goes on .\n",
      "The movie barely makes sense , with its unbelievable na脙炉vet脙漏 and arbitrary flashbacks .\n",
      "Got some good , organic character work , lots of obvious political insights and little room for engaging , imaginative filmmaking in its nearly 2脗聽1\\/2 - hour , dissipated length .\n",
      "With its paint fights , motorized scooter chases and dewy-eyed sentiment , it 's a pretty listless collection of kid-movie clich脙漏s .\n",
      "Her film is like a beautiful food entr脙漏e that is n't heated properly , so that it ends up a bit cold and relatively flavorless .\n",
      "Though Jones and Snipes are enthralling , the movie bogs down in rhetoric and clich脙漏 .\n",
      "Contrived pastiche of caper clich脙漏s .\n",
      "A collage of clich脙漏s and a dim echo of allusions to other films .\n",
      "The film is like sitting in a downtown caf脙漏 , overhearing a bunch of typical late-twenty-somethings natter on about nothing , and desperately wishing you could change tables .\n",
      "It 's mired in a shabby script that piles layer upon layer of Action Man clich脙漏 atop wooden dialogue and a shifting tone that falls far short of the peculiarly moral amorality of ( Woo 's ) best work .\n",
      "Much of the digitally altered footage appears jagged , as if filmed directly from a television monitor , while the extensive use of stock footage quickly becomes a tiresome clich脙漏 .\n",
      "Starts out ballsy and stylish but fails to keep it up and settles into clich脙漏s .\n",
      "Five screenwriters are credited with the clich脙漏-laden screenplay ; it seems as if each watered down the version of the one before .\n",
      "An uninspired preachy and clich脙漏d war film .\n",
      "It jumps around with little logic or continuity , presenting backstage bytes of information that never amount to a satisfying complete picture of this particular , anciently demanding m脙漏tier .\n",
      "Amid the clich脙漏 and foreshadowing , Cage manages a degree of casual realism ... that is routinely dynamited by Blethyn .\n",
      "Gets the look and the period trappings right , but it otherwise drowns in a sea of visual and verbal clich脙漏s .\n",
      "Plays like John Le Carr脙漏 with a couple of burnt-out cylinders .\n",
      "After Collateral Damage , you might imagine that most every aggrieved father clich脙漏 has been unturned .\n",
      "It recycles every clich脙漏 about gays in what is essentially an extended soap opera .\n",
      "The plan to make Enough into ` an inspiring tale of survival wrapped in the heart-pounding suspense of a stylish psychological thriller ' has flopped as surely as a souffl脙漏 gone wrong .\n",
      "After the first 10 minutes , which is worth seeing , the movie sinks into an abyss of clich脙漏s , depression and bad alternative music .\n",
      "How much you are moved by the emotional tumult of ( Fran脙搂ois and Mich脙篓le 's ) relationship depends a lot on how interesting and likable you find them .\n",
      "Rather less than the sum of its underventilated p脙篓re-fils confrontations .\n",
      "Here , alas , it collapses like an overcooked souffl脙漏 .\n",
      "For all of its insights into the dream world of teen life , and its electronic expression through cyber culture , the film gives no quarter to anyone seeking to pull a cohesive story out of its 2脗聽1\\/2 - hour running time .\n",
      "Stale and clich脙漏d to a fault .\n",
      "The movie 's messages are quite admirable , but the story is just too clich脙漏d and too often strains credulity .\n",
      "Sheridan seems terrified of the book 's irreverent energy , and scotches most of its 脙漏lan , humor , bile , and irony .\n",
      "Ultimately , the film never recovers from the clumsy clich脙漏 of the ugly American abroad , and the too-frosty exterior Ms. Paltrow employs to authenticate her British persona is another liability .\n",
      "The threat implied in the title Pok脙漏mon 4ever is terrifying -- like locusts in a horde these things will keep coming .\n",
      "Marinated in clich脙漏s and mawkish dialogue .\n",
      "It appears to have been modeled on the worst revenge-of-the-nerds clich脙漏s the filmmakers could dredge up .\n",
      "If Hill is n't quite his generation 's Don Siegel ( or Robert Aldrich ) , it 's because there 's no discernible feeling beneath the chest hair ; it 's all bluster and clich脙漏 .\n",
      "This off-putting French romantic comedy is sure to test severely the indulgence of fans of Am脙漏lie .\n",
      "Rather than real figures , Elling and Kjell Bjarne become symbolic characters whose actions are supposed to relate something about the na脙炉f 's encounter with the world .\n",
      "Touch脙漏 !\n",
      "end3d1\n"
     ]
    },
    {
     "name": "stdout",
     "output_type": "stream",
     "text": [
      "But in Imax 3-D , the clich脙漏s disappear into the vertiginous perspectives opened up by the photography .\n",
      "Jir脙颅 Hubac 's script is a gem .\n",
      "M脙录nch 's genuine insight makes the film 's occasional overindulgence forgivable .\n",
      "As a randy film about sexy people in gorgeous places being pushed and pulled ( literally and figuratively ) by desire ... ( Sex and Luc脙颅a ) makes for an arousing good time .\n",
      "Complex , affecting and uniquely Almod脙鲁var , the film evokes strong emotions and pushes viewers to question their deepest notions of moral right and wrong .\n",
      "Occasionally funny , always very colorful and enjoyably overblown in the traditional Almod脙鲁var style .\n",
      "Nair stuffs the film with dancing , henna , ornamentation , and group song , but her narrative clich脙漏s and telegraphed episodes smell of old soap opera .\n",
      "So clich脙漏d that , at one point , they literally upset an apple cart .\n",
      "A gob of drivel so sickly sweet , even the eager consumers of Moore 's pasteurized ditties will retch it up like rancid cr脙篓me br脙禄l脙漏e .\n",
      "Birot 's directorial debut ( she co-wrote the script with Christophe Honor脙漏 ) is n't so much bad as it is bland .\n",
      "end3d1\n",
      "( N脙娄s ) directed the stage version of Elling , and gets fine performances from his two leads who originated the characters on stage .\n",
      "Audrey Tatou has a knack for picking roles that magnify her outrageous charm , and in this literate French comedy , she 's as morning-glory exuberant as she was in Am脙漏lie .\n",
      "Vera 's three actors -- Moll脙聽 , Gil and Bardem -- excel in insightful , empathetic performances .\n",
      "Displaying about equal amounts of naivet脙漏 , passion and talent , Beneath Clouds establishes Sen as a filmmaker of considerable potential .\n",
      "Without non-stop techno or the existential overtones of a Kieslowski morality tale , Maelstr脙露m is just another Winter Sleepers .\n",
      "There 's just no currency in deriding James Bond for being a clich脙漏d , doddering , misogynistic boy 's club .\n",
      "How do you spell clich脙漏 ?\n",
      "end3d1\n"
     ]
    }
   ],
   "source": [
    "from __future__ import print_function\n",
    "from __future__ import division\n",
    "from __future__ import absolute_import\n",
    " \n",
    "def delblankline(infile1, infile2, trainfile, validfile, testfile):\n",
    "    with open(infile1, 'r') as info1, open(infile2, 'r') as info2, \\\n",
    "            open(trainfile, 'w') as train, open(validfile, 'w') as valid, open(testfile, 'w') as test:\n",
    "        lines1 = info1.readlines()\n",
    "        lines2 = info2.readlines()\n",
    "        for i in range(1, len(lines1)):\n",
    "            t1 = lines1[i].replace(\"-LRB-\", \"(\")\n",
    "            t2 = t1.replace(\"-RRB-\", \")\")\n",
    "            k = lines2[i].strip().split(\",\")\n",
    "            t = t2.strip().split('\\t')\n",
    "            if k[1] == '1':\n",
    "                train.writelines(t[1])\n",
    "                train.writelines(\"\\n\")\n",
    "            elif k[1] == '2':\n",
    "                test.writelines(t[1])\n",
    "                test.writelines(\"\\n\")\n",
    "            elif k[1] == '3':\n",
    "                valid.writelines(t[1])\n",
    "                valid.writelines(\"\\n\")\n",
    "        print(\"end\")\n",
    "\n",
    "def tag_sentiment(infile,infile0, infile1, infile2):\n",
    "    # (\"sentiment_labels.txt\", \"dictionary.txt\", \"train.txt\",\"train_final.txt\")\n",
    "    with open(infile, 'r') as info, open(infile0, 'r') as info0, open(infile1, 'r') as info1, \\\n",
    "        open(infile2, 'w') as info2:\n",
    "        lines = info.readlines()\n",
    "        lines0 = info0.readlines()\n",
    "        lines1 = info1.readlines()\n",
    "        \n",
    "        text2id = {}\n",
    "        for i in range(0, len(lines0)):\n",
    "            s = lines0[i].strip().split(\"|\")\n",
    "            text2id[s[0]] = s[1]\n",
    " \n",
    "        id2sentiment = {}\n",
    "        for i in range(0, len(lines)):\n",
    "            s = lines[i].strip().split(\"|\")\n",
    "            id2sentiment[s[0]] = s[1]\n",
    "        \n",
    "        for line in lines1:\n",
    "            if line.strip() not in text2id:\n",
    "                print(line.strip())\n",
    "                # 由于特殊字符不匹配造成\n",
    "                continue\n",
    "            else:\n",
    "                text_id = text2id[line.strip()]\n",
    "            sentiment_score = id2sentiment[text_id]\n",
    "            info2.write(line.strip() + \"|\" + str(sentiment_score) + \"\\n\")\n",
    "        print(\"end3d1\")\n",
    " \n",
    " \n",
    "delblankline(\"stanfordSentimentTreebank\\\\datasetSentences.txt\", \"stanfordSentimentTreebank\\\\datasetSplit.txt\", \"stanfordSentimentTreebank\\\\train.txt\", \"stanfordSentimentTreebank\\\\valid.txt\", \"stanfordSentimentTreebank\\\\test.txt\")\n",
    "# 获取原始的训练集，测试集，验证集\n",
    "# train有8544条，dev有1101条，test有 2210条\n",
    "tag_sentiment(\"stanfordSentimentTreebank\\\\sentiment_labels.txt\", \"stanfordSentimentTreebank\\\\dictionary.txt\", \"stanfordSentimentTreebank\\\\train.txt\",\"stanfordSentimentTreebank\\\\train_final.txt\")\n",
    "tag_sentiment(\"stanfordSentimentTreebank\\\\sentiment_labels.txt\", \"stanfordSentimentTreebank\\\\dictionary.txt\", \"stanfordSentimentTreebank\\\\test.txt\",\"stanfordSentimentTreebank\\\\test_final.txt\")\n",
    "tag_sentiment(\"stanfordSentimentTreebank\\\\sentiment_labels.txt\", \"stanfordSentimentTreebank\\\\dictionary.txt\", \"stanfordSentimentTreebank\\\\valid.txt\",\"stanfordSentimentTreebank\\\\valid_final.txt\")\n",
    "# 获取训练集，测试集，验证集句子对应的情感值\n",
    "# 由于文本里面的特殊字符造成的不匹配，训练集，测试集，验证集会相对于上一步少几条"
   ]
  },
  {
   "cell_type": "markdown",
   "metadata": {
    "id": "K2MrZFpV2hAG"
   },
   "source": [
    "**Open Dataset**"
   ]
  },
  {
   "cell_type": "code",
   "execution_count": 13,
   "metadata": {
    "colab": {
     "base_uri": "https://localhost:8080/",
     "height": 422
    },
    "executionInfo": {
     "elapsed": 10,
     "status": "ok",
     "timestamp": 1634961562959,
     "user": {
      "displayName": "Miondlicht",
      "photoUrl": "https://lh3.googleusercontent.com/a/default-user=s64",
      "userId": "03919276898062335465"
     },
     "user_tz": -420
    },
    "id": "vPseXJ9iUW7r",
    "outputId": "1d0dcb58-426c-4035-b0de-cdf8a8d56589"
   },
   "outputs": [
    {
     "name": "stdout",
     "output_type": "stream",
     "text": [
      "                                     sentences_original  sen_values\n",
      "0     The Rock is destined to be the 21st Century 's...    0.694440\n",
      "1     The gorgeously elaborate continuation of `` Th...    0.833330\n",
      "2     Singer\\/composer Bryan Adams contributes a sle...    0.625000\n",
      "3     You 'd think by now America would have had eno...    0.500000\n",
      "4                  Yet the act is still charming here .    0.722220\n",
      "5     Whether or not you 're enlightened by any of D...    0.833330\n",
      "6     Just the labour involved in creating the layer...    0.875000\n",
      "7     Part of the charm of Satin Rouge is that it av...    0.722220\n",
      "8     a screenplay more ingeniously constructed than...    0.833330\n",
      "9              `` Extreme Ops '' exceeds expectations .    0.736110\n",
      "10    Good fun , good action , good acting , good di...    0.902780\n",
      "11    You Should Pay Nine Bucks for This : Because y...    0.444440\n",
      "12                     Dramas like this make it human .    0.805560\n",
      "13    A thunderous ride at first , quiet cadences of...    0.444440\n",
      "14    Still , this flick is fun , and host to some t...    0.819440\n",
      "15    Australian actor\\/director John Polson and awa...    0.750000\n",
      "16    You walk out of The Good Girl with mixed emoti...    0.611110\n",
      "17    Post 9\\/11 the philosophical message of `` Per...    0.444440\n",
      "18    If you love reading and\\/or poetry , then by a...    0.777780\n",
      "19                           You 'll probably love it .    0.819440\n",
      "20    `` Frailty '' has been written so well , that ...    0.638890\n",
      "21        near the end takes on a whole other meaning .    0.555560\n",
      "22    Grenier is terrific , bringing an unforced , r...    0.875000\n",
      "23    The Sundance Film Festival has become so buzz-...    0.555560\n",
      "24    ` Tadpole ' was one of the films so declared t...    0.513890\n",
      "25                           The actors are fantastic .    0.944440\n",
      "26    They are what makes it worth the trip to the t...    0.722220\n",
      "27    ( Taymor ) utilizes the idea of making Kahlo '...    0.930560\n",
      "28                             This is n't a new idea .    0.333330\n",
      "29    It 's been done before but never so vividly or...    0.819440\n",
      "...                                                 ...         ...\n",
      "8424                    A reality-snubbing hodgepodge .    0.222220\n",
      "8425                                   Mildly amusing .    0.597220\n",
      "8426                           Fairly run-of-the-mill .    0.319440\n",
      "8427                              Mildly entertaining .    0.416670\n",
      "8428                                         Terrible .    0.111110\n",
      "8429                         Degenerates into hogwash .    0.055556\n",
      "8430                         Meandering and confusing .    0.236110\n",
      "8431                                           Crummy .    0.138890\n",
      "8432                            An opportunity missed .    0.222220\n",
      "8433                                      Wishy-washy .    0.222220\n",
      "8434               Inconsequential road-and-buddy pic .    0.388890\n",
      "8435                               Insufferably naive .    0.277780\n",
      "8436                    Ill-considered , unholy hokum .    0.263890\n",
      "8437                                   Amazingly lame .    0.069444\n",
      "8438                                    ( A ) slummer .    0.333330\n",
      "8439                     ( A ) poorly executed comedy .    0.180560\n",
      "8440                         ... really horrible drek .    0.111110\n",
      "8441                          An intriguing near-miss .    0.500000\n",
      "8442                          Flat , misguided comedy .    0.319440\n",
      "8443                         Predictably melodramatic .    0.291670\n",
      "8444                      Rashomon-for-dipsticks tale .    0.180560\n",
      "8445                                         Bearable .    0.430560\n",
      "8446                                           Barely .    0.458330\n",
      "8447                    Staggeringly dreadful romance .    0.138890\n",
      "8448                       Well-made but mush-hearted .    0.638890\n",
      "8449                                    A real snooze .    0.111110\n",
      "8450                                     No surprises .    0.222220\n",
      "8451  We 've seen the hippie-turned-yuppie plot befo...    0.750000\n",
      "8452  Her fans walked out muttering words like `` ho...    0.138890\n",
      "8453                                In this case zero .    0.347220\n",
      "\n",
      "[8454 rows x 2 columns]\n",
      "                                     sentences_original  sen_values\n",
      "0     It 's a lovely film with lovely performances b...     0.79167\n",
      "1     No one goes unindicted here , which is probabl...     0.51389\n",
      "2     And if you 're not nearly moved to tears by a ...     0.76389\n",
      "3                      A warm , funny , engaging film .     0.88889\n",
      "4     Uses sharp humor and insight into human nature...     0.80556\n",
      "5     Half Submarine flick , Half Ghost Story , All ...     0.47222\n",
      "6       Entertains by providing good , lively company .     0.72222\n",
      "7     Dazzles with its fully-written characters , it...     0.97222\n",
      "8     Visually imaginative , thematically instructiv...     0.90278\n",
      "9     Nothing 's at stake , just a twisty double-cro...     0.69444\n",
      "10    Unlike the speedy wham-bam effect of most Holl...     0.81944\n",
      "11    You 'll gasp appalled and laugh outraged and p...     0.66667\n",
      "12    The band 's courage in the face of official re...     0.66667\n",
      "13    Although German cooking does not come readily ...     0.68056\n",
      "14    A beguiling splash of pastel colors and pranki...     0.80556\n",
      "15    As surreal as a dream and as detailed as a pho...     0.81944\n",
      "16    ( Lawrence bounces ) all over the stage , danc...     0.77778\n",
      "17    The film serves as a valuable time capsule to ...     0.44444\n",
      "18    What 's surprising about Full Frontal is that ...     0.65278\n",
      "19    Whether you like rap music or loathe it , you ...     0.79167\n",
      "20    ... an otherwise intense , twist-and-turn thri...     0.62500\n",
      "21    It provides the grand , intelligent entertainm...     0.90278\n",
      "22    There 's ... tremendous energy from the cast ,...     0.75000\n",
      "23    It moves quickly , adroitly , and without fuss...     0.63889\n",
      "24                         A deep and meaningful film .     0.87500\n",
      "25    The film 's welcome breeziness and some unbeli...     0.86111\n",
      "26    It 's a remarkably solid and subtly satirical ...     0.83333\n",
      "27    Enormously entertaining for moviegoers of any ...     0.86111\n",
      "28    A poignant , artfully crafted meditation on mo...     0.95833\n",
      "29    A rarity among recent Iranian films : It 's a ...     0.87500\n",
      "...                                                 ...         ...\n",
      "1064  Prurient playthings aside , there 's little to...     0.22222\n",
      "1065  This is a train wreck of an action film -- a s...     0.27778\n",
      "1066  The film flat lines when it should peak and is...     0.23611\n",
      "1067  It 's played in the most straight-faced fashio...     0.31944\n",
      "1068  The heavy-handed film is almost laughable as a...     0.18056\n",
      "1069  Van Wilder brings a whole new meaning to the p...     0.50000\n",
      "1070  At least one scene is so disgusting that viewe...     0.25000\n",
      "1071  A disappointment for those who love alternate ...     0.26389\n",
      "1072  The film tries too hard to be funny and tries ...     0.26389\n",
      "1073         The end result is a film that 's neither .     0.34722\n",
      "1074  Every nanosecond of the The New Guy reminds yo...     0.36111\n",
      "1075              Something like scrubbing the toilet .     0.22222\n",
      "1076                            Or emptying rat traps .     0.36111\n",
      "1077    Or doing last year 's taxes with your ex-wife .     0.29167\n",
      "1078  Scooby Dooby Doo \\/ And Shaggy too \\/ You both...     0.72222\n",
      "1079  \\/ But Daphne , you 're too Buff \\/ Fred think...     0.33333\n",
      "1080  Is the time really ripe for a warmed-over Jame...     0.37500\n",
      "1081  There 's enough melodrama in this Magnolia Pri...     0.23611\n",
      "1082  However it may please those who love movies th...     0.36111\n",
      "1083  The humor is n't as sharp , the effects not as...     0.19444\n",
      "1084                     But it could have been worse .     0.36111\n",
      "1085  Some of their jokes work , but most fail miser...     0.20833\n",
      "1086  Even horror fans will most likely not find wha...     0.12500\n",
      "1087  comes off like a rejected ABC Afterschool Spec...     0.16667\n",
      "1088  ... Designed to provide a mix of smiles and te...     0.22222\n",
      "1089  it seems to me the film is about the art of ri...     0.29167\n",
      "1090  It 's just disappointingly superficial -- a mo...     0.33333\n",
      "1091  The title not only describes its main characte...     0.23611\n",
      "1092  Sometimes it feels as if it might have been ma...     0.44444\n",
      "1093  Schaeffer has to find some hook on which to ha...     0.27778\n",
      "\n",
      "[1094 rows x 2 columns]\n",
      "                                     sentences_original  sen_values\n",
      "0                        Effective but too-tepid biopic    0.513890\n",
      "1     If you sometimes like to go to the movies to h...    0.736110\n",
      "2     Emerges as something rare , an issue movie tha...    0.861110\n",
      "3     The film provides some great insight into the ...    0.597220\n",
      "4     Offers that rare combination of entertainment ...    0.833330\n",
      "5     Perhaps no picture ever made has more literall...    0.694440\n",
      "6     Steers turns in a snappy screenplay that curls...    0.777780\n",
      "7                         But he somehow pulls it off .    0.736110\n",
      "8     Take Care of My Cat offers a refreshingly diff...    0.763890\n",
      "9     This is a film well worth seeing , talking and...    0.902780\n",
      "10    What really surprises about Wisegirls is its l...    0.625000\n",
      "11    ( Wendigo is ) why we go to the cinema : to be...    0.777780\n",
      "12    One of the greatest family-oriented , fantasy-...    0.930560\n",
      "13    Ultimately , it ponders the reasons we need st...    0.458330\n",
      "14    An utterly compelling ` who wrote it ' in whic...    0.777780\n",
      "15           Illuminating if overly talky documentary .    0.472220\n",
      "16             A masterpiece four years in the making .    0.972220\n",
      "17    The movie 's ripe , enrapturing beauty will te...    0.763890\n",
      "18    Offers a breath of the fresh air of true sophi...    0.888890\n",
      "19    A thoughtful , provocative , insistently human...    0.819440\n",
      "20    With a cast that includes some of the top acto...    0.861110\n",
      "21    A disturbing and frighteningly evocative assem...    0.583330\n",
      "22    Not for everyone , but for those with whom it ...    0.736110\n",
      "23    Scores a few points for doing what it does wit...    0.722220\n",
      "24    Occasionally melodramatic , it 's also extreme...    0.777780\n",
      "25    An idealistic love story that brings out the l...    0.680560\n",
      "26    At about 95 minutes , Treasure Planet maintain...    0.736110\n",
      "27    However , it lacks grandeur and that epic qual...    0.250000\n",
      "28    It helps that Lil Bow Wow ... tones down his p...    0.763890\n",
      "29    Guaranteed to move anyone who ever shook , rat...    0.833330\n",
      "...                                                 ...         ...\n",
      "2170  `` An entire film about researchers quietly re...    0.166670\n",
      "2171  Pryor Lite , with half the demons , half the d...    0.361110\n",
      "2172  What 's at stake in this film is nothing more ...    0.194440\n",
      "2173   The stories here suffer from the chosen format .    0.347220\n",
      "2174  While the mystery surrounding the nature of th...    0.388890\n",
      "2175                   Just how extreme are these ops ?    0.500000\n",
      "2176  I regret to report that these ops are just not...    0.361110\n",
      "2177  The actors are forced to grapple with hazy mot...    0.333330\n",
      "2178  John Leguizamo may be a dramatic actor -- just...    0.180560\n",
      "2179  The sequel has turned completely and irrevocab...    0.166670\n",
      "2180  Hardly makes the kind of points Egoyan wanted ...    0.430560\n",
      "2181  Rainy days and movies about the disintegration...    0.375000\n",
      "2182  The Master Of Disaster - it 's a piece of drec...    0.097222\n",
      "2183  The film has a few cute ideas and several mode...    0.291670\n",
      "2184  The stupidest , most insulting movie of 2002 '...    0.000000\n",
      "2185  It 's so underwritten that you ca n't figure o...    0.263890\n",
      "2186  A film so tedious that it is impossible to car...    0.194440\n",
      "2187  None of this violates the letter of Behan 's b...    0.222220\n",
      "2188  Bad Company leaves a bad taste , not only beca...    0.180560\n",
      "2189  Even if it ultimately disappoints , the pictur...    0.472220\n",
      "2190              Fails to bring as much to the table .    0.250000\n",
      "2191  A film made with as little wit , interest , an...    0.388890\n",
      "2192  Disturbingly superficial in its approach to th...    0.194440\n",
      "2193  If you 're not the target demographic ... this...    0.347220\n",
      "2194                                  I hate this movie    0.305560\n",
      "2195                  An imaginative comedy\\/thriller .    0.777780\n",
      "2196                      ( A ) rare , beautiful film .    0.916670\n",
      "2197                 ( An ) hilarious romantic comedy .    0.888890\n",
      "2198                Never ( sinks ) into exploitation .    0.625000\n",
      "2199                        ( U ) nrelentingly stupid .    0.069444\n",
      "\n",
      "[2200 rows x 2 columns]\n"
     ]
    },
    {
     "name": "stderr",
     "output_type": "stream",
     "text": [
      "C:\\Users\\tyx\\Anaconda3\\lib\\site-packages\\ipykernel_launcher.py:6: ParserWarning: Falling back to the 'python' engine because the 'c' engine does not support regex separators (separators > 1 char and different from '\\s+' are interpreted as regex); you can avoid this warning by specifying engine='python'.\n",
      "  \n",
      "C:\\Users\\tyx\\Anaconda3\\lib\\site-packages\\ipykernel_launcher.py:8: ParserWarning: Falling back to the 'python' engine because the 'c' engine does not support regex separators (separators > 1 char and different from '\\s+' are interpreted as regex); you can avoid this warning by specifying engine='python'.\n",
      "  \n",
      "C:\\Users\\tyx\\Anaconda3\\lib\\site-packages\\ipykernel_launcher.py:10: ParserWarning: Falling back to the 'python' engine because the 'c' engine does not support regex separators (separators > 1 char and different from '\\s+' are interpreted as regex); you can avoid this warning by specifying engine='python'.\n",
      "  # Remove the CWD from sys.path while we load stuff.\n"
     ]
    }
   ],
   "source": [
    "# df = pd.read_csv('/content/drive/MyDrive/Colab Notebooks/TUGAS AKHIR /tweets.csv', encoding='latin1')\n",
    "# df\n",
    "\n",
    "# read the .txt file\n",
    "import pandas as pd\n",
    "reviews = pd.read_table('stanfordSentimentTreebank\\\\train_final.txt',sep = '\\|',header=None, names=['sentences_original','sen_values'])\n",
    "\n",
    "valid = pd.read_table('stanfordSentimentTreebank\\\\valid_final.txt',sep = '\\|',header=None, names=['sentences_original','sen_values'])\n",
    "\n",
    "test = pd.read_table('stanfordSentimentTreebank\\\\test_final.txt',sep = '\\|',header=None, names=['sentences_original','sen_values'])\n",
    "\n",
    "print(reviews)\n",
    "print(valid)\n",
    "print(test)"
   ]
  },
  {
   "cell_type": "code",
   "execution_count": 14,
   "metadata": {},
   "outputs": [
    {
     "name": "stdout",
     "output_type": "stream",
     "text": [
      "                                     sentences_original  sen_values    label\n",
      "0     The Rock is destined to be the 21st Century 's...    0.694440      pos\n",
      "1     The gorgeously elaborate continuation of `` Th...    0.833330      pos\n",
      "2     Singer\\/composer Bryan Adams contributes a sle...    0.625000      pos\n",
      "3     You 'd think by now America would have had eno...    0.500000  neutral\n",
      "4                  Yet the act is still charming here .    0.722220      pos\n",
      "5     Whether or not you 're enlightened by any of D...    0.833330      pos\n",
      "6     Just the labour involved in creating the layer...    0.875000      pos\n",
      "7     Part of the charm of Satin Rouge is that it av...    0.722220      pos\n",
      "8     a screenplay more ingeniously constructed than...    0.833330      pos\n",
      "9              `` Extreme Ops '' exceeds expectations .    0.736110      pos\n",
      "10    Good fun , good action , good acting , good di...    0.902780      pos\n",
      "11    You Should Pay Nine Bucks for This : Because y...    0.444440  neutral\n",
      "12                     Dramas like this make it human .    0.805560      pos\n",
      "13    A thunderous ride at first , quiet cadences of...    0.444440  neutral\n",
      "14    Still , this flick is fun , and host to some t...    0.819440      pos\n",
      "15    Australian actor\\/director John Polson and awa...    0.750000      pos\n",
      "16    You walk out of The Good Girl with mixed emoti...    0.611110      pos\n",
      "17    Post 9\\/11 the philosophical message of `` Per...    0.444440  neutral\n",
      "18    If you love reading and\\/or poetry , then by a...    0.777780      pos\n",
      "19                           You 'll probably love it .    0.819440      pos\n",
      "20    `` Frailty '' has been written so well , that ...    0.638890      pos\n",
      "21        near the end takes on a whole other meaning .    0.555560  neutral\n",
      "22    Grenier is terrific , bringing an unforced , r...    0.875000      pos\n",
      "23    The Sundance Film Festival has become so buzz-...    0.555560  neutral\n",
      "24    ` Tadpole ' was one of the films so declared t...    0.513890  neutral\n",
      "25                           The actors are fantastic .    0.944440      pos\n",
      "26    They are what makes it worth the trip to the t...    0.722220      pos\n",
      "27    ( Taymor ) utilizes the idea of making Kahlo '...    0.930560      pos\n",
      "28                             This is n't a new idea .    0.333330      neg\n",
      "29    It 's been done before but never so vividly or...    0.819440      pos\n",
      "...                                                 ...         ...      ...\n",
      "8424                    A reality-snubbing hodgepodge .    0.222220      neg\n",
      "8425                                   Mildly amusing .    0.597220  neutral\n",
      "8426                           Fairly run-of-the-mill .    0.319440      neg\n",
      "8427                              Mildly entertaining .    0.416670  neutral\n",
      "8428                                         Terrible .    0.111110      neg\n",
      "8429                         Degenerates into hogwash .    0.055556      neg\n",
      "8430                         Meandering and confusing .    0.236110      neg\n",
      "8431                                           Crummy .    0.138890      neg\n",
      "8432                            An opportunity missed .    0.222220      neg\n",
      "8433                                      Wishy-washy .    0.222220      neg\n",
      "8434               Inconsequential road-and-buddy pic .    0.388890      neg\n",
      "8435                               Insufferably naive .    0.277780      neg\n",
      "8436                    Ill-considered , unholy hokum .    0.263890      neg\n",
      "8437                                   Amazingly lame .    0.069444      neg\n",
      "8438                                    ( A ) slummer .    0.333330      neg\n",
      "8439                     ( A ) poorly executed comedy .    0.180560      neg\n",
      "8440                         ... really horrible drek .    0.111110      neg\n",
      "8441                          An intriguing near-miss .    0.500000  neutral\n",
      "8442                          Flat , misguided comedy .    0.319440      neg\n",
      "8443                         Predictably melodramatic .    0.291670      neg\n",
      "8444                      Rashomon-for-dipsticks tale .    0.180560      neg\n",
      "8445                                         Bearable .    0.430560  neutral\n",
      "8446                                           Barely .    0.458330  neutral\n",
      "8447                    Staggeringly dreadful romance .    0.138890      neg\n",
      "8448                       Well-made but mush-hearted .    0.638890      pos\n",
      "8449                                    A real snooze .    0.111110      neg\n",
      "8450                                     No surprises .    0.222220      neg\n",
      "8451  We 've seen the hippie-turned-yuppie plot befo...    0.750000      pos\n",
      "8452  Her fans walked out muttering words like `` ho...    0.138890      neg\n",
      "8453                                In this case zero .    0.347220      neg\n",
      "\n",
      "[8454 rows x 3 columns]\n",
      "                                     sentences_original  sen_values    label\n",
      "0     It 's a lovely film with lovely performances b...     0.79167      pos\n",
      "1     No one goes unindicted here , which is probabl...     0.51389  neutral\n",
      "2     And if you 're not nearly moved to tears by a ...     0.76389      pos\n",
      "3                      A warm , funny , engaging film .     0.88889      pos\n",
      "4     Uses sharp humor and insight into human nature...     0.80556      pos\n",
      "5     Half Submarine flick , Half Ghost Story , All ...     0.47222  neutral\n",
      "6       Entertains by providing good , lively company .     0.72222      pos\n",
      "7     Dazzles with its fully-written characters , it...     0.97222      pos\n",
      "8     Visually imaginative , thematically instructiv...     0.90278      pos\n",
      "9     Nothing 's at stake , just a twisty double-cro...     0.69444      pos\n",
      "10    Unlike the speedy wham-bam effect of most Holl...     0.81944      pos\n",
      "11    You 'll gasp appalled and laugh outraged and p...     0.66667      pos\n",
      "12    The band 's courage in the face of official re...     0.66667      pos\n",
      "13    Although German cooking does not come readily ...     0.68056      pos\n",
      "14    A beguiling splash of pastel colors and pranki...     0.80556      pos\n",
      "15    As surreal as a dream and as detailed as a pho...     0.81944      pos\n",
      "16    ( Lawrence bounces ) all over the stage , danc...     0.77778      pos\n",
      "17    The film serves as a valuable time capsule to ...     0.44444  neutral\n",
      "18    What 's surprising about Full Frontal is that ...     0.65278      pos\n",
      "19    Whether you like rap music or loathe it , you ...     0.79167      pos\n",
      "20    ... an otherwise intense , twist-and-turn thri...     0.62500      pos\n",
      "21    It provides the grand , intelligent entertainm...     0.90278      pos\n",
      "22    There 's ... tremendous energy from the cast ,...     0.75000      pos\n",
      "23    It moves quickly , adroitly , and without fuss...     0.63889      pos\n",
      "24                         A deep and meaningful film .     0.87500      pos\n",
      "25    The film 's welcome breeziness and some unbeli...     0.86111      pos\n",
      "26    It 's a remarkably solid and subtly satirical ...     0.83333      pos\n",
      "27    Enormously entertaining for moviegoers of any ...     0.86111      pos\n",
      "28    A poignant , artfully crafted meditation on mo...     0.95833      pos\n",
      "29    A rarity among recent Iranian films : It 's a ...     0.87500      pos\n",
      "...                                                 ...         ...      ...\n",
      "1064  Prurient playthings aside , there 's little to...     0.22222      neg\n",
      "1065  This is a train wreck of an action film -- a s...     0.27778      neg\n",
      "1066  The film flat lines when it should peak and is...     0.23611      neg\n",
      "1067  It 's played in the most straight-faced fashio...     0.31944      neg\n",
      "1068  The heavy-handed film is almost laughable as a...     0.18056      neg\n",
      "1069  Van Wilder brings a whole new meaning to the p...     0.50000  neutral\n",
      "1070  At least one scene is so disgusting that viewe...     0.25000      neg\n",
      "1071  A disappointment for those who love alternate ...     0.26389      neg\n",
      "1072  The film tries too hard to be funny and tries ...     0.26389      neg\n",
      "1073         The end result is a film that 's neither .     0.34722      neg\n",
      "1074  Every nanosecond of the The New Guy reminds yo...     0.36111      neg\n",
      "1075              Something like scrubbing the toilet .     0.22222      neg\n",
      "1076                            Or emptying rat traps .     0.36111      neg\n",
      "1077    Or doing last year 's taxes with your ex-wife .     0.29167      neg\n",
      "1078  Scooby Dooby Doo \\/ And Shaggy too \\/ You both...     0.72222      pos\n",
      "1079  \\/ But Daphne , you 're too Buff \\/ Fred think...     0.33333      neg\n",
      "1080  Is the time really ripe for a warmed-over Jame...     0.37500      neg\n",
      "1081  There 's enough melodrama in this Magnolia Pri...     0.23611      neg\n",
      "1082  However it may please those who love movies th...     0.36111      neg\n",
      "1083  The humor is n't as sharp , the effects not as...     0.19444      neg\n",
      "1084                     But it could have been worse .     0.36111      neg\n",
      "1085  Some of their jokes work , but most fail miser...     0.20833      neg\n",
      "1086  Even horror fans will most likely not find wha...     0.12500      neg\n",
      "1087  comes off like a rejected ABC Afterschool Spec...     0.16667      neg\n",
      "1088  ... Designed to provide a mix of smiles and te...     0.22222      neg\n",
      "1089  it seems to me the film is about the art of ri...     0.29167      neg\n",
      "1090  It 's just disappointingly superficial -- a mo...     0.33333      neg\n",
      "1091  The title not only describes its main characte...     0.23611      neg\n",
      "1092  Sometimes it feels as if it might have been ma...     0.44444  neutral\n",
      "1093  Schaeffer has to find some hook on which to ha...     0.27778      neg\n",
      "\n",
      "[1094 rows x 3 columns]\n",
      "                                     sentences_original  sen_values    label\n",
      "0                        Effective but too-tepid biopic    0.513890  neutral\n",
      "1     If you sometimes like to go to the movies to h...    0.736110      pos\n",
      "2     Emerges as something rare , an issue movie tha...    0.861110      pos\n",
      "3     The film provides some great insight into the ...    0.597220  neutral\n",
      "4     Offers that rare combination of entertainment ...    0.833330      pos\n",
      "5     Perhaps no picture ever made has more literall...    0.694440      pos\n",
      "6     Steers turns in a snappy screenplay that curls...    0.777780      pos\n",
      "7                         But he somehow pulls it off .    0.736110      pos\n",
      "8     Take Care of My Cat offers a refreshingly diff...    0.763890      pos\n",
      "9     This is a film well worth seeing , talking and...    0.902780      pos\n",
      "10    What really surprises about Wisegirls is its l...    0.625000      pos\n",
      "11    ( Wendigo is ) why we go to the cinema : to be...    0.777780      pos\n",
      "12    One of the greatest family-oriented , fantasy-...    0.930560      pos\n",
      "13    Ultimately , it ponders the reasons we need st...    0.458330  neutral\n",
      "14    An utterly compelling ` who wrote it ' in whic...    0.777780      pos\n",
      "15           Illuminating if overly talky documentary .    0.472220  neutral\n",
      "16             A masterpiece four years in the making .    0.972220      pos\n",
      "17    The movie 's ripe , enrapturing beauty will te...    0.763890      pos\n",
      "18    Offers a breath of the fresh air of true sophi...    0.888890      pos\n",
      "19    A thoughtful , provocative , insistently human...    0.819440      pos\n",
      "20    With a cast that includes some of the top acto...    0.861110      pos\n",
      "21    A disturbing and frighteningly evocative assem...    0.583330  neutral\n",
      "22    Not for everyone , but for those with whom it ...    0.736110      pos\n",
      "23    Scores a few points for doing what it does wit...    0.722220      pos\n",
      "24    Occasionally melodramatic , it 's also extreme...    0.777780      pos\n",
      "25    An idealistic love story that brings out the l...    0.680560      pos\n",
      "26    At about 95 minutes , Treasure Planet maintain...    0.736110      pos\n",
      "27    However , it lacks grandeur and that epic qual...    0.250000      neg\n",
      "28    It helps that Lil Bow Wow ... tones down his p...    0.763890      pos\n",
      "29    Guaranteed to move anyone who ever shook , rat...    0.833330      pos\n",
      "...                                                 ...         ...      ...\n",
      "2170  `` An entire film about researchers quietly re...    0.166670      neg\n",
      "2171  Pryor Lite , with half the demons , half the d...    0.361110      neg\n",
      "2172  What 's at stake in this film is nothing more ...    0.194440      neg\n",
      "2173   The stories here suffer from the chosen format .    0.347220      neg\n",
      "2174  While the mystery surrounding the nature of th...    0.388890      neg\n",
      "2175                   Just how extreme are these ops ?    0.500000  neutral\n",
      "2176  I regret to report that these ops are just not...    0.361110      neg\n",
      "2177  The actors are forced to grapple with hazy mot...    0.333330      neg\n",
      "2178  John Leguizamo may be a dramatic actor -- just...    0.180560      neg\n",
      "2179  The sequel has turned completely and irrevocab...    0.166670      neg\n",
      "2180  Hardly makes the kind of points Egoyan wanted ...    0.430560  neutral\n",
      "2181  Rainy days and movies about the disintegration...    0.375000      neg\n",
      "2182  The Master Of Disaster - it 's a piece of drec...    0.097222      neg\n",
      "2183  The film has a few cute ideas and several mode...    0.291670      neg\n",
      "2184  The stupidest , most insulting movie of 2002 '...    0.000000      neg\n",
      "2185  It 's so underwritten that you ca n't figure o...    0.263890      neg\n",
      "2186  A film so tedious that it is impossible to car...    0.194440      neg\n",
      "2187  None of this violates the letter of Behan 's b...    0.222220      neg\n",
      "2188  Bad Company leaves a bad taste , not only beca...    0.180560      neg\n",
      "2189  Even if it ultimately disappoints , the pictur...    0.472220  neutral\n",
      "2190              Fails to bring as much to the table .    0.250000      neg\n",
      "2191  A film made with as little wit , interest , an...    0.388890      neg\n",
      "2192  Disturbingly superficial in its approach to th...    0.194440      neg\n",
      "2193  If you 're not the target demographic ... this...    0.347220      neg\n",
      "2194                                  I hate this movie    0.305560      neg\n",
      "2195                  An imaginative comedy\\/thriller .    0.777780      pos\n",
      "2196                      ( A ) rare , beautiful film .    0.916670      pos\n",
      "2197                 ( An ) hilarious romantic comedy .    0.888890      pos\n",
      "2198                Never ( sinks ) into exploitation .    0.625000      pos\n",
      "2199                        ( U ) nrelentingly stupid .    0.069444      neg\n",
      "\n",
      "[2200 rows x 3 columns]\n"
     ]
    }
   ],
   "source": [
    "# set labels\n",
    "def set_labels(reviews):\n",
    "\n",
    "\n",
    "    reviews.loc[(reviews['sen_values'] >=0 ) & (reviews['sen_values'] <= 0.4),\n",
    "                'label'] = 'neg'\n",
    "\n",
    "    reviews.loc[(reviews['sen_values'] > 0.4) & (reviews['sen_values'] <= 0.6),\n",
    "                'label'] = 'neutral'\n",
    "\n",
    "    reviews.loc[(reviews['sen_values'] > 0.6) & (reviews['sen_values'] <= 1.0),\n",
    "                'label'] = 'pos'\n",
    "    \n",
    "    \n",
    "\n",
    "set_labels(reviews)\n",
    "set_labels(valid)\n",
    "set_labels(test)\n",
    "\n",
    "print(reviews)\n",
    "print(valid)\n",
    "print(test)"
   ]
  },
  {
   "cell_type": "code",
   "execution_count": 15,
   "metadata": {
    "colab": {
     "base_uri": "https://localhost:8080/"
    },
    "executionInfo": {
     "elapsed": 10,
     "status": "ok",
     "timestamp": 1634961562960,
     "user": {
      "displayName": "Miondlicht",
      "photoUrl": "https://lh3.googleusercontent.com/a/default-user=s64",
      "userId": "03919276898062335465"
     },
     "user_tz": -420
    },
    "id": "pNI7OJlnNZcV",
    "outputId": "d10f5dae-217c-47dc-b170-39619ecf1a71"
   },
   "outputs": [
    {
     "data": {
      "text/plain": [
       "pos        3583\n",
       "neg        3259\n",
       "neutral    1612\n",
       "Name: label, dtype: int64"
      ]
     },
     "execution_count": 15,
     "metadata": {},
     "output_type": "execute_result"
    }
   ],
   "source": [
    "reviews['label'].value_counts()"
   ]
  },
  {
   "cell_type": "code",
   "execution_count": 16,
   "metadata": {},
   "outputs": [
    {
     "data": {
      "text/plain": [
       "pos        440\n",
       "neg        426\n",
       "neutral    228\n",
       "Name: label, dtype: int64"
      ]
     },
     "execution_count": 16,
     "metadata": {},
     "output_type": "execute_result"
    }
   ],
   "source": [
    "valid['label'].value_counts()"
   ]
  },
  {
   "cell_type": "code",
   "execution_count": 17,
   "metadata": {},
   "outputs": [
    {
     "data": {
      "text/plain": [
       "neg        908\n",
       "pos        903\n",
       "neutral    389\n",
       "Name: label, dtype: int64"
      ]
     },
     "execution_count": 17,
     "metadata": {},
     "output_type": "execute_result"
    }
   ],
   "source": [
    "test['label'].value_counts()"
   ]
  },
  {
   "cell_type": "markdown",
   "metadata": {
    "id": "clQu6lOABk9x"
   },
   "source": [
    "# Lowercase Conversion"
   ]
  },
  {
   "cell_type": "code",
   "execution_count": 18,
   "metadata": {
    "executionInfo": {
     "elapsed": 8,
     "status": "ok",
     "timestamp": 1634961562960,
     "user": {
      "displayName": "Miondlicht",
      "photoUrl": "https://lh3.googleusercontent.com/a/default-user=s64",
      "userId": "03919276898062335465"
     },
     "user_tz": -420
    },
    "id": "DHj940zxBi3P"
   },
   "outputs": [
    {
     "name": "stdout",
     "output_type": "stream",
     "text": [
      "                                     sentences_original  sen_values    label\n",
      "0     the rock is destined to be the 21st century s ...    0.694440      pos\n",
      "1     the gorgeously elaborate continuation of the l...    0.833330      pos\n",
      "2     singer composer bryan adams contributes a slew...    0.625000      pos\n",
      "3     you d think by now america would have had enou...    0.500000  neutral\n",
      "4                   yet the act is still charming here     0.722220      pos\n",
      "5     whether or not you re enlightened by any of de...    0.833330      pos\n",
      "6     just the labour involved in creating the layer...    0.875000      pos\n",
      "7     part of the charm of satin rouge is that it av...    0.722220      pos\n",
      "8     a screenplay more ingeniously constructed than...    0.833330      pos\n",
      "9                     extreme ops exceeds expectations     0.736110      pos\n",
      "10    good fun good action good acting good dialogue...    0.902780      pos\n",
      "11    you should pay nine bucks for this because you...    0.444440  neutral\n",
      "12                      dramas like this make it human     0.805560      pos\n",
      "13    a thunderous ride at first quiet cadences of p...    0.444440  neutral\n",
      "14    still this flick is fun and host to some truly...    0.819440      pos\n",
      "15    australian actor director john polson and awar...    0.750000      pos\n",
      "16    you walk out of the good girl with mixed emoti...    0.611110      pos\n",
      "17    post 9 11 the philosophical message of persona...    0.444440  neutral\n",
      "18    if you love reading and or poetry then by all ...    0.777780      pos\n",
      "19                             you ll probably love it     0.819440      pos\n",
      "20     frailty has been written so well that even a ...    0.638890      pos\n",
      "21         near the end takes on a whole other meaning     0.555560  neutral\n",
      "22    grenier is terrific bringing an unforced rapid...    0.875000      pos\n",
      "23    the sundance film festival has become so buzz ...    0.555560  neutral\n",
      "24     tadpole was one of the films so declared this...    0.513890  neutral\n",
      "25                            the actors are fantastic     0.944440      pos\n",
      "26    they are what makes it worth the trip to the t...    0.722220      pos\n",
      "27     taymor utilizes the idea of making kahlo s ar...    0.930560      pos\n",
      "28                              this is n t a new idea     0.333330      neg\n",
      "29    it s been done before but never so vividly or ...    0.819440      pos\n",
      "...                                                 ...         ...      ...\n",
      "8424                     a reality snubbing hodgepodge     0.222220      neg\n",
      "8425                                    mildly amusing     0.597220  neutral\n",
      "8426                            fairly run of the mill     0.319440      neg\n",
      "8427                               mildly entertaining     0.416670  neutral\n",
      "8428                                          terrible     0.111110      neg\n",
      "8429                          degenerates into hogwash     0.055556      neg\n",
      "8430                          meandering and confusing     0.236110      neg\n",
      "8431                                            crummy     0.138890      neg\n",
      "8432                             an opportunity missed     0.222220      neg\n",
      "8433                                       wishy washy     0.222220      neg\n",
      "8434                inconsequential road and buddy pic     0.388890      neg\n",
      "8435                                insufferably naive     0.277780      neg\n",
      "8436                       ill considered unholy hokum     0.263890      neg\n",
      "8437                                    amazingly lame     0.069444      neg\n",
      "8438                                         a slummer     0.333330      neg\n",
      "8439                          a poorly executed comedy     0.180560      neg\n",
      "8440                              really horrible drek     0.111110      neg\n",
      "8441                           an intriguing near miss     0.500000  neutral\n",
      "8442                             flat misguided comedy     0.319440      neg\n",
      "8443                          predictably melodramatic     0.291670      neg\n",
      "8444                       rashomon for dipsticks tale     0.180560      neg\n",
      "8445                                          bearable     0.430560  neutral\n",
      "8446                                            barely     0.458330  neutral\n",
      "8447                     staggeringly dreadful romance     0.138890      neg\n",
      "8448                        well made but mush hearted     0.638890      pos\n",
      "8449                                     a real snooze     0.111110      neg\n",
      "8450                                      no surprises     0.222220      neg\n",
      "8451  we ve seen the hippie turned yuppie plot befor...    0.750000      pos\n",
      "8452  her fans walked out muttering words like horri...    0.138890      neg\n",
      "8453                                 in this case zero     0.347220      neg\n",
      "\n",
      "[8454 rows x 3 columns]\n",
      "                                     sentences_original  sen_values    label\n",
      "0     it s a lovely film with lovely performances by...     0.79167      pos\n",
      "1     no one goes unindicted here which is probably ...     0.51389  neutral\n",
      "2     and if you re not nearly moved to tears by a c...     0.76389      pos\n",
      "3                           a warm funny engaging film      0.88889      pos\n",
      "4     uses sharp humor and insight into human nature...     0.80556      pos\n",
      "5     half submarine flick half ghost story all in o...     0.47222  neutral\n",
      "6          entertains by providing good lively company      0.72222      pos\n",
      "7     dazzles with its fully written characters its ...     0.97222      pos\n",
      "8     visually imaginative thematically instructive ...     0.90278      pos\n",
      "9     nothing s at stake just a twisty double cross ...     0.69444      pos\n",
      "10    unlike the speedy wham bam effect of most holl...     0.81944      pos\n",
      "11    you ll gasp appalled and laugh outraged and po...     0.66667      pos\n",
      "12    the band s courage in the face of official rep...     0.66667      pos\n",
      "13    although german cooking does not come readily ...     0.68056      pos\n",
      "14    a beguiling splash of pastel colors and pranki...     0.80556      pos\n",
      "15    as surreal as a dream and as detailed as a pho...     0.81944      pos\n",
      "16     lawrence bounces all over the stage dancing r...     0.77778      pos\n",
      "17    the film serves as a valuable time capsule to ...     0.44444  neutral\n",
      "18    what s surprising about full frontal is that d...     0.65278      pos\n",
      "19    whether you like rap music or loathe it you ca...     0.79167      pos\n",
      "20     an otherwise intense twist and turn thriller ...     0.62500      pos\n",
      "21    it provides the grand intelligent entertainmen...     0.90278      pos\n",
      "22    there s tremendous energy from the cast a sens...     0.75000      pos\n",
      "23    it moves quickly adroitly and without fuss it ...     0.63889      pos\n",
      "24                          a deep and meaningful film      0.87500      pos\n",
      "25    the film s welcome breeziness and some unbelie...     0.86111      pos\n",
      "26    it s a remarkably solid and subtly satirical t...     0.83333      pos\n",
      "27    enormously entertaining for moviegoers of any ...     0.86111      pos\n",
      "28    a poignant artfully crafted meditation on mort...     0.95833      pos\n",
      "29    a rarity among recent iranian films it s a com...     0.87500      pos\n",
      "...                                                 ...         ...      ...\n",
      "1064  prurient playthings aside there s little to lo...     0.22222      neg\n",
      "1065  this is a train wreck of an action film a stup...     0.27778      neg\n",
      "1066  the film flat lines when it should peak and is...     0.23611      neg\n",
      "1067  it s played in the most straight faced fashion...     0.31944      neg\n",
      "1068  the heavy handed film is almost laughable as a...     0.18056      neg\n",
      "1069  van wilder brings a whole new meaning to the p...     0.50000  neutral\n",
      "1070  at least one scene is so disgusting that viewe...     0.25000      neg\n",
      "1071  a disappointment for those who love alternate ...     0.26389      neg\n",
      "1072  the film tries too hard to be funny and tries ...     0.26389      neg\n",
      "1073           the end result is a film that s neither      0.34722      neg\n",
      "1074  every nanosecond of the the new guy reminds yo...     0.36111      neg\n",
      "1075               something like scrubbing the toilet      0.22222      neg\n",
      "1076                             or emptying rat traps      0.36111      neg\n",
      "1077      or doing last year s taxes with your ex wife      0.29167      neg\n",
      "1078  scooby dooby doo and shaggy too you both look ...     0.72222      pos\n",
      "1079   but daphne you re too buff fred thinks he s t...     0.33333      neg\n",
      "1080  is the time really ripe for a warmed over jame...     0.37500      neg\n",
      "1081  there s enough melodrama in this magnolia prim...     0.23611      neg\n",
      "1082  however it may please those who love movies th...     0.36111      neg\n",
      "1083  the humor is n t as sharp the effects not as i...     0.19444      neg\n",
      "1084                      but it could have been worse      0.36111      neg\n",
      "1085  some of their jokes work but most fail miserab...     0.20833      neg\n",
      "1086  even horror fans will most likely not find wha...     0.12500      neg\n",
      "1087  comes off like a rejected abc afterschool spec...     0.16667      neg\n",
      "1088   designed to provide a mix of smiles and tears...     0.22222      neg\n",
      "1089  it seems to me the film is about the art of ri...     0.29167      neg\n",
      "1090  it s just disappointingly superficial a movie ...     0.33333      neg\n",
      "1091  the title not only describes its main characte...     0.23611      neg\n",
      "1092  sometimes it feels as if it might have been ma...     0.44444  neutral\n",
      "1093  schaeffer has to find some hook on which to ha...     0.27778      neg\n",
      "\n",
      "[1094 rows x 3 columns]\n",
      "                                     sentences_original  sen_values    label\n",
      "0                        effective but too tepid biopic    0.513890  neutral\n",
      "1     if you sometimes like to go to the movies to h...    0.736110      pos\n",
      "2     emerges as something rare an issue movie that ...    0.861110      pos\n",
      "3     the film provides some great insight into the ...    0.597220  neutral\n",
      "4     offers that rare combination of entertainment ...    0.833330      pos\n",
      "5     perhaps no picture ever made has more literall...    0.694440      pos\n",
      "6     steers turns in a snappy screenplay that curls...    0.777780      pos\n",
      "7                          but he somehow pulls it off     0.736110      pos\n",
      "8     take care of my cat offers a refreshingly diff...    0.763890      pos\n",
      "9     this is a film well worth seeing talking and s...    0.902780      pos\n",
      "10    what really surprises about wisegirls is its l...    0.625000      pos\n",
      "11     wendigo is why we go to the cinema to be fed ...    0.777780      pos\n",
      "12    one of the greatest family oriented fantasy ad...    0.930560      pos\n",
      "13    ultimately it ponders the reasons we need stor...    0.458330  neutral\n",
      "14    an utterly compelling who wrote it in which th...    0.777780      pos\n",
      "15            illuminating if overly talky documentary     0.472220  neutral\n",
      "16              a masterpiece four years in the making     0.972220      pos\n",
      "17    the movie s ripe enrapturing beauty will tempt...    0.763890      pos\n",
      "18    offers a breath of the fresh air of true sophi...    0.888890      pos\n",
      "19    a thoughtful provocative insistently humanizin...    0.819440      pos\n",
      "20    with a cast that includes some of the top acto...    0.861110      pos\n",
      "21    a disturbing and frighteningly evocative assem...    0.583330  neutral\n",
      "22    not for everyone but for those with whom it wi...    0.736110      pos\n",
      "23    scores a few points for doing what it does wit...    0.722220      pos\n",
      "24    occasionally melodramatic it s also extremely ...    0.777780      pos\n",
      "25    an idealistic love story that brings out the l...    0.680560      pos\n",
      "26    at about 95 minutes treasure planet maintains ...    0.736110      pos\n",
      "27    however it lacks grandeur and that epic qualit...    0.250000      neg\n",
      "28    it helps that lil bow wow tones down his pint ...    0.763890      pos\n",
      "29    guaranteed to move anyone who ever shook rattl...    0.833330      pos\n",
      "...                                                 ...         ...      ...\n",
      "2170   an entire film about researchers quietly read...    0.166670      neg\n",
      "2171  pryor lite with half the demons half the darin...    0.361110      neg\n",
      "2172  what s at stake in this film is nothing more t...    0.194440      neg\n",
      "2173    the stories here suffer from the chosen format     0.347220      neg\n",
      "2174  while the mystery surrounding the nature of th...    0.388890      neg\n",
      "2175                    just how extreme are these ops     0.500000  neutral\n",
      "2176  i regret to report that these ops are just not...    0.361110      neg\n",
      "2177  the actors are forced to grapple with hazy mot...    0.333330      neg\n",
      "2178  john leguizamo may be a dramatic actor just no...    0.180560      neg\n",
      "2179  the sequel has turned completely and irrevocab...    0.166670      neg\n",
      "2180  hardly makes the kind of points egoyan wanted ...    0.430560  neutral\n",
      "2181  rainy days and movies about the disintegration...    0.375000      neg\n",
      "2182  the master of disaster it s a piece of dreck d...    0.097222      neg\n",
      "2183  the film has a few cute ideas and several mode...    0.291670      neg\n",
      "2184  the stupidest most insulting movie of 2002 s f...    0.000000      neg\n",
      "2185  it s so underwritten that you ca n t figure ou...    0.263890      neg\n",
      "2186  a film so tedious that it is impossible to car...    0.194440      neg\n",
      "2187  none of this violates the letter of behan s bo...    0.222220      neg\n",
      "2188  bad company leaves a bad taste not only becaus...    0.180560      neg\n",
      "2189  even if it ultimately disappoints the picture ...    0.472220  neutral\n",
      "2190               fails to bring as much to the table     0.250000      neg\n",
      "2191  a film made with as little wit interest and pr...    0.388890      neg\n",
      "2192  disturbingly superficial in its approach to th...    0.194440      neg\n",
      "2193  if you re not the target demographic this movi...    0.347220      neg\n",
      "2194                                  i hate this movie    0.305560      neg\n",
      "2195                    an imaginative comedy thriller     0.777780      pos\n",
      "2196                             a rare beautiful film     0.916670      pos\n",
      "2197                      an hilarious romantic comedy     0.888890      pos\n",
      "2198                     never sinks into exploitation     0.625000      pos\n",
      "2199                             u nrelentingly stupid     0.069444      neg\n",
      "\n",
      "[2200 rows x 3 columns]\n"
     ]
    }
   ],
   "source": [
    "# df['tweets'] = df['tweets'].apply(lambda x : str(x).lower())\n",
    "# character_process\n",
    "def character_process(reviews):\n",
    "\n",
    "    #lowering the text\n",
    "    reviews['sentences_original'] = reviews['sentences_original'].str.lower()\n",
    "\n",
    "    #remove urls\n",
    "    reviews['sentences_original'] = reviews['sentences_original'].str.replace(r\"http\\S+\",\" \",regex=True)\n",
    "\n",
    "    #remove special characters\n",
    "    reviews['sentences_original'] = reviews['sentences_original'].str.replace('[^A-Za-z0-9]+',' ',regex=True)\n",
    "    \n",
    "    return reviews\n",
    "    \n",
    "reviews = character_process(reviews)\n",
    "rvalid = character_process(valid)\n",
    "test = character_process(test)\n",
    "\n",
    "print(reviews)\n",
    "print(valid) \n",
    "print(test)"
   ]
  },
  {
   "cell_type": "code",
   "execution_count": 19,
   "metadata": {
    "colab": {
     "base_uri": "https://localhost:8080/",
     "height": 205
    },
    "executionInfo": {
     "elapsed": 8,
     "status": "ok",
     "timestamp": 1634961562960,
     "user": {
      "displayName": "Miondlicht",
      "photoUrl": "https://lh3.googleusercontent.com/a/default-user=s64",
      "userId": "03919276898062335465"
     },
     "user_tz": -420
    },
    "id": "vymAq1DEC4X9",
    "outputId": "d36b8e7d-6f23-4497-d9b6-8837caa0e30c"
   },
   "outputs": [
    {
     "name": "stdout",
     "output_type": "stream",
     "text": [
      "[nltk_data] Downloading package omw-1.4 to\n",
      "[nltk_data]     C:\\Users\\tyx\\AppData\\Roaming\\nltk_data...\n",
      "[nltk_data]   Package omw-1.4 is already up-to-date!\n",
      "[nltk_data] Downloading package wordnet to\n",
      "[nltk_data]     C:\\Users\\tyx\\AppData\\Roaming\\nltk_data...\n",
      "[nltk_data]   Package wordnet is already up-to-date!\n",
      "[nltk_data] Downloading package punkt to\n",
      "[nltk_data]     C:\\Users\\tyx\\AppData\\Roaming\\nltk_data...\n",
      "[nltk_data]   Package punkt is already up-to-date!\n",
      "                                     sentences_original  sen_values    label  \\\n",
      "0     the rock is destined to be the 21st century s ...    0.694440      pos   \n",
      "1     the gorgeously elaborate continuation of the l...    0.833330      pos   \n",
      "2     singer composer bryan adams contributes a slew...    0.625000      pos   \n",
      "3     you d think by now america would have had enou...    0.500000  neutral   \n",
      "4                   yet the act is still charming here     0.722220      pos   \n",
      "5     whether or not you re enlightened by any of de...    0.833330      pos   \n",
      "6     just the labour involved in creating the layer...    0.875000      pos   \n",
      "7     part of the charm of satin rouge is that it av...    0.722220      pos   \n",
      "8     a screenplay more ingeniously constructed than...    0.833330      pos   \n",
      "9                     extreme ops exceeds expectations     0.736110      pos   \n",
      "10    good fun good action good acting good dialogue...    0.902780      pos   \n",
      "11    you should pay nine bucks for this because you...    0.444440  neutral   \n",
      "12                      dramas like this make it human     0.805560      pos   \n",
      "13    a thunderous ride at first quiet cadences of p...    0.444440  neutral   \n",
      "14    still this flick is fun and host to some truly...    0.819440      pos   \n",
      "15    australian actor director john polson and awar...    0.750000      pos   \n",
      "16    you walk out of the good girl with mixed emoti...    0.611110      pos   \n",
      "17    post 9 11 the philosophical message of persona...    0.444440  neutral   \n",
      "18    if you love reading and or poetry then by all ...    0.777780      pos   \n",
      "19                             you ll probably love it     0.819440      pos   \n",
      "20     frailty has been written so well that even a ...    0.638890      pos   \n",
      "21         near the end takes on a whole other meaning     0.555560  neutral   \n",
      "22    grenier is terrific bringing an unforced rapid...    0.875000      pos   \n",
      "23    the sundance film festival has become so buzz ...    0.555560  neutral   \n",
      "24     tadpole was one of the films so declared this...    0.513890  neutral   \n",
      "25                            the actors are fantastic     0.944440      pos   \n",
      "26    they are what makes it worth the trip to the t...    0.722220      pos   \n",
      "27     taymor utilizes the idea of making kahlo s ar...    0.930560      pos   \n",
      "28                              this is n t a new idea     0.333330      neg   \n",
      "29    it s been done before but never so vividly or ...    0.819440      pos   \n",
      "...                                                 ...         ...      ...   \n",
      "8424                     a reality snubbing hodgepodge     0.222220      neg   \n",
      "8425                                    mildly amusing     0.597220  neutral   \n",
      "8426                            fairly run of the mill     0.319440      neg   \n",
      "8427                               mildly entertaining     0.416670  neutral   \n",
      "8428                                          terrible     0.111110      neg   \n",
      "8429                          degenerates into hogwash     0.055556      neg   \n",
      "8430                          meandering and confusing     0.236110      neg   \n",
      "8431                                            crummy     0.138890      neg   \n",
      "8432                             an opportunity missed     0.222220      neg   \n",
      "8433                                       wishy washy     0.222220      neg   \n",
      "8434                inconsequential road and buddy pic     0.388890      neg   \n",
      "8435                                insufferably naive     0.277780      neg   \n",
      "8436                       ill considered unholy hokum     0.263890      neg   \n",
      "8437                                    amazingly lame     0.069444      neg   \n",
      "8438                                         a slummer     0.333330      neg   \n",
      "8439                          a poorly executed comedy     0.180560      neg   \n",
      "8440                              really horrible drek     0.111110      neg   \n",
      "8441                           an intriguing near miss     0.500000  neutral   \n",
      "8442                             flat misguided comedy     0.319440      neg   \n",
      "8443                          predictably melodramatic     0.291670      neg   \n",
      "8444                       rashomon for dipsticks tale     0.180560      neg   \n",
      "8445                                          bearable     0.430560  neutral   \n",
      "8446                                            barely     0.458330  neutral   \n",
      "8447                     staggeringly dreadful romance     0.138890      neg   \n",
      "8448                        well made but mush hearted     0.638890      pos   \n",
      "8449                                     a real snooze     0.111110      neg   \n",
      "8450                                      no surprises     0.222220      neg   \n",
      "8451  we ve seen the hippie turned yuppie plot befor...    0.750000      pos   \n",
      "8452  her fans walked out muttering words like horri...    0.138890      neg   \n",
      "8453                                 in this case zero     0.347220      neg   \n",
      "\n",
      "                                      lemmatized_tokens  \n",
      "0     [the, rock, is, destined, to, be, the, 21st, c...  \n",
      "1     [the, gorgeously, elaborate, continuation, of,...  \n",
      "2     [singer, composer, bryan, adam, contributes, a...  \n",
      "3     [you, d, think, by, now, america, would, have,...  \n",
      "4            [yet, the, act, is, still, charming, here]  \n",
      "5     [whether, or, not, you, re, enlightened, by, a...  \n",
      "6     [just, the, labour, involved, in, creating, th...  \n",
      "7     [part, of, the, charm, of, satin, rouge, is, t...  \n",
      "8     [a, screenplay, more, ingeniously, constructed...  \n",
      "9                  [extreme, ops, exceeds, expectation]  \n",
      "10    [good, fun, good, action, good, acting, good, ...  \n",
      "11    [you, should, pay, nine, buck, for, this, beca...  \n",
      "12                 [drama, like, this, make, it, human]  \n",
      "13    [a, thunderous, ride, at, first, quiet, cadenc...  \n",
      "14    [still, this, flick, is, fun, and, host, to, s...  \n",
      "15    [australian, actor, director, john, polson, an...  \n",
      "16    [you, walk, out, of, the, good, girl, with, mi...  \n",
      "17    [post, 9, 11, the, philosophical, message, of,...  \n",
      "18    [if, you, love, reading, and, or, poetry, then...  \n",
      "19                        [you, ll, probably, love, it]  \n",
      "20    [frailty, ha, been, written, so, well, that, e...  \n",
      "21    [near, the, end, take, on, a, whole, other, me...  \n",
      "22    [grenier, is, terrific, bringing, an, unforced...  \n",
      "23    [the, sundance, film, festival, ha, become, so...  \n",
      "24    [tadpole, wa, one, of, the, film, so, declared...  \n",
      "25                         [the, actor, are, fantastic]  \n",
      "26    [they, are, what, make, it, worth, the, trip, ...  \n",
      "27    [taymor, utilizes, the, idea, of, making, kahl...  \n",
      "28                       [this, is, n, t, a, new, idea]  \n",
      "29    [it, s, been, done, before, but, never, so, vi...  \n",
      "...                                                 ...  \n",
      "8424                 [a, reality, snubbing, hodgepodge]  \n",
      "8425                                  [mildly, amusing]  \n",
      "8426                       [fairly, run, of, the, mill]  \n",
      "8427                             [mildly, entertaining]  \n",
      "8428                                         [terrible]  \n",
      "8429                        [degenerate, into, hogwash]  \n",
      "8430                       [meandering, and, confusing]  \n",
      "8431                                           [crummy]  \n",
      "8432                          [an, opportunity, missed]  \n",
      "8433                                     [wishy, washy]  \n",
      "8434           [inconsequential, road, and, buddy, pic]  \n",
      "8435                              [insufferably, naive]  \n",
      "8436                   [ill, considered, unholy, hokum]  \n",
      "8437                                  [amazingly, lame]  \n",
      "8438                                       [a, slummer]  \n",
      "8439                      [a, poorly, executed, comedy]  \n",
      "8440                           [really, horrible, drek]  \n",
      "8441                       [an, intriguing, near, miss]  \n",
      "8442                          [flat, misguided, comedy]  \n",
      "8443                        [predictably, melodramatic]  \n",
      "8444                    [rashomon, for, dipstick, tale]  \n",
      "8445                                         [bearable]  \n",
      "8446                                           [barely]  \n",
      "8447                  [staggeringly, dreadful, romance]  \n",
      "8448                   [well, made, but, mush, hearted]  \n",
      "8449                                  [a, real, snooze]  \n",
      "8450                                     [no, surprise]  \n",
      "8451  [we, ve, seen, the, hippie, turned, yuppie, pl...  \n",
      "8452  [her, fan, walked, out, muttering, word, like,...  \n",
      "8453                             [in, this, case, zero]  \n",
      "\n",
      "[8454 rows x 4 columns]\n",
      "                                     sentences_original  sen_values    label  \\\n",
      "0     it s a lovely film with lovely performances by...     0.79167      pos   \n",
      "1     no one goes unindicted here which is probably ...     0.51389  neutral   \n",
      "2     and if you re not nearly moved to tears by a c...     0.76389      pos   \n",
      "3                           a warm funny engaging film      0.88889      pos   \n",
      "4     uses sharp humor and insight into human nature...     0.80556      pos   \n",
      "5     half submarine flick half ghost story all in o...     0.47222  neutral   \n",
      "6          entertains by providing good lively company      0.72222      pos   \n",
      "7     dazzles with its fully written characters its ...     0.97222      pos   \n",
      "8     visually imaginative thematically instructive ...     0.90278      pos   \n",
      "9     nothing s at stake just a twisty double cross ...     0.69444      pos   \n",
      "10    unlike the speedy wham bam effect of most holl...     0.81944      pos   \n",
      "11    you ll gasp appalled and laugh outraged and po...     0.66667      pos   \n",
      "12    the band s courage in the face of official rep...     0.66667      pos   \n",
      "13    although german cooking does not come readily ...     0.68056      pos   \n",
      "14    a beguiling splash of pastel colors and pranki...     0.80556      pos   \n",
      "15    as surreal as a dream and as detailed as a pho...     0.81944      pos   \n",
      "16     lawrence bounces all over the stage dancing r...     0.77778      pos   \n",
      "17    the film serves as a valuable time capsule to ...     0.44444  neutral   \n",
      "18    what s surprising about full frontal is that d...     0.65278      pos   \n",
      "19    whether you like rap music or loathe it you ca...     0.79167      pos   \n",
      "20     an otherwise intense twist and turn thriller ...     0.62500      pos   \n",
      "21    it provides the grand intelligent entertainmen...     0.90278      pos   \n",
      "22    there s tremendous energy from the cast a sens...     0.75000      pos   \n",
      "23    it moves quickly adroitly and without fuss it ...     0.63889      pos   \n",
      "24                          a deep and meaningful film      0.87500      pos   \n",
      "25    the film s welcome breeziness and some unbelie...     0.86111      pos   \n",
      "26    it s a remarkably solid and subtly satirical t...     0.83333      pos   \n",
      "27    enormously entertaining for moviegoers of any ...     0.86111      pos   \n",
      "28    a poignant artfully crafted meditation on mort...     0.95833      pos   \n",
      "29    a rarity among recent iranian films it s a com...     0.87500      pos   \n",
      "...                                                 ...         ...      ...   \n",
      "1064  prurient playthings aside there s little to lo...     0.22222      neg   \n",
      "1065  this is a train wreck of an action film a stup...     0.27778      neg   \n",
      "1066  the film flat lines when it should peak and is...     0.23611      neg   \n",
      "1067  it s played in the most straight faced fashion...     0.31944      neg   \n",
      "1068  the heavy handed film is almost laughable as a...     0.18056      neg   \n",
      "1069  van wilder brings a whole new meaning to the p...     0.50000  neutral   \n",
      "1070  at least one scene is so disgusting that viewe...     0.25000      neg   \n",
      "1071  a disappointment for those who love alternate ...     0.26389      neg   \n",
      "1072  the film tries too hard to be funny and tries ...     0.26389      neg   \n",
      "1073           the end result is a film that s neither      0.34722      neg   \n",
      "1074  every nanosecond of the the new guy reminds yo...     0.36111      neg   \n",
      "1075               something like scrubbing the toilet      0.22222      neg   \n",
      "1076                             or emptying rat traps      0.36111      neg   \n",
      "1077      or doing last year s taxes with your ex wife      0.29167      neg   \n",
      "1078  scooby dooby doo and shaggy too you both look ...     0.72222      pos   \n",
      "1079   but daphne you re too buff fred thinks he s t...     0.33333      neg   \n",
      "1080  is the time really ripe for a warmed over jame...     0.37500      neg   \n",
      "1081  there s enough melodrama in this magnolia prim...     0.23611      neg   \n",
      "1082  however it may please those who love movies th...     0.36111      neg   \n",
      "1083  the humor is n t as sharp the effects not as i...     0.19444      neg   \n",
      "1084                      but it could have been worse      0.36111      neg   \n",
      "1085  some of their jokes work but most fail miserab...     0.20833      neg   \n",
      "1086  even horror fans will most likely not find wha...     0.12500      neg   \n",
      "1087  comes off like a rejected abc afterschool spec...     0.16667      neg   \n",
      "1088   designed to provide a mix of smiles and tears...     0.22222      neg   \n",
      "1089  it seems to me the film is about the art of ri...     0.29167      neg   \n",
      "1090  it s just disappointingly superficial a movie ...     0.33333      neg   \n",
      "1091  the title not only describes its main characte...     0.23611      neg   \n",
      "1092  sometimes it feels as if it might have been ma...     0.44444  neutral   \n",
      "1093  schaeffer has to find some hook on which to ha...     0.27778      neg   \n",
      "\n",
      "                                      lemmatized_tokens  \n",
      "0     [it, s, a, lovely, film, with, lovely, perform...  \n",
      "1     [no, one, go, unindicted, here, which, is, pro...  \n",
      "2     [and, if, you, re, not, nearly, moved, to, tea...  \n",
      "3                      [a, warm, funny, engaging, film]  \n",
      "4     [us, sharp, humor, and, insight, into, human, ...  \n",
      "5     [half, submarine, flick, half, ghost, story, a...  \n",
      "6     [entertains, by, providing, good, lively, comp...  \n",
      "7     [dazzle, with, it, fully, written, character, ...  \n",
      "8     [visually, imaginative, thematically, instruct...  \n",
      "9     [nothing, s, at, stake, just, a, twisty, doubl...  \n",
      "10    [unlike, the, speedy, wham, bam, effect, of, m...  \n",
      "11    [you, ll, gasp, appalled, and, laugh, outraged...  \n",
      "12    [the, band, s, courage, in, the, face, of, off...  \n",
      "13    [although, german, cooking, doe, not, come, re...  \n",
      "14    [a, beguiling, splash, of, pastel, color, and,...  \n",
      "15    [a, surreal, a, a, dream, and, a, detailed, a,...  \n",
      "16    [lawrence, bounce, all, over, the, stage, danc...  \n",
      "17    [the, film, serf, a, a, valuable, time, capsul...  \n",
      "18    [what, s, surprising, about, full, frontal, is...  \n",
      "19    [whether, you, like, rap, music, or, loathe, i...  \n",
      "20    [an, otherwise, intense, twist, and, turn, thr...  \n",
      "21    [it, provides, the, grand, intelligent, entert...  \n",
      "22    [there, s, tremendous, energy, from, the, cast...  \n",
      "23    [it, move, quickly, adroitly, and, without, fu...  \n",
      "24                     [a, deep, and, meaningful, film]  \n",
      "25    [the, film, s, welcome, breeziness, and, some,...  \n",
      "26    [it, s, a, remarkably, solid, and, subtly, sat...  \n",
      "27    [enormously, entertaining, for, moviegoer, of,...  \n",
      "28    [a, poignant, artfully, crafted, meditation, o...  \n",
      "29    [a, rarity, among, recent, iranian, film, it, ...  \n",
      "...                                                 ...  \n",
      "1064  [prurient, plaything, aside, there, s, little,...  \n",
      "1065  [this, is, a, train, wreck, of, an, action, fi...  \n",
      "1066  [the, film, flat, line, when, it, should, peak...  \n",
      "1067  [it, s, played, in, the, most, straight, faced...  \n",
      "1068  [the, heavy, handed, film, is, almost, laughab...  \n",
      "1069  [van, wilder, brings, a, whole, new, meaning, ...  \n",
      "1070  [at, least, one, scene, is, so, disgusting, th...  \n",
      "1071  [a, disappointment, for, those, who, love, alt...  \n",
      "1072  [the, film, try, too, hard, to, be, funny, and...  \n",
      "1073  [the, end, result, is, a, film, that, s, neither]  \n",
      "1074  [every, nanosecond, of, the, the, new, guy, re...  \n",
      "1075          [something, like, scrubbing, the, toilet]  \n",
      "1076                          [or, emptying, rat, trap]  \n",
      "1077  [or, doing, last, year, s, tax, with, your, ex...  \n",
      "1078  [scooby, dooby, doo, and, shaggy, too, you, bo...  \n",
      "1079  [but, daphne, you, re, too, buff, fred, think,...  \n",
      "1080  [is, the, time, really, ripe, for, a, warmed, ...  \n",
      "1081  [there, s, enough, melodrama, in, this, magnol...  \n",
      "1082  [however, it, may, please, those, who, love, m...  \n",
      "1083  [the, humor, is, n, t, a, sharp, the, effect, ...  \n",
      "1084                [but, it, could, have, been, worse]  \n",
      "1085  [some, of, their, joke, work, but, most, fail,...  \n",
      "1086  [even, horror, fan, will, most, likely, not, f...  \n",
      "1087  [come, off, like, a, rejected, abc, afterschoo...  \n",
      "1088  [designed, to, provide, a, mix, of, smile, and...  \n",
      "1089  [it, seems, to, me, the, film, is, about, the,...  \n",
      "1090  [it, s, just, disappointingly, superficial, a,...  \n",
      "1091  [the, title, not, only, describes, it, main, c...  \n",
      "1092  [sometimes, it, feel, a, if, it, might, have, ...  \n",
      "1093  [schaeffer, ha, to, find, some, hook, on, whic...  \n",
      "\n",
      "[1094 rows x 4 columns]\n",
      "                                     sentences_original  sen_values    label  \\\n",
      "0                        effective but too tepid biopic    0.513890  neutral   \n",
      "1     if you sometimes like to go to the movies to h...    0.736110      pos   \n",
      "2     emerges as something rare an issue movie that ...    0.861110      pos   \n",
      "3     the film provides some great insight into the ...    0.597220  neutral   \n",
      "4     offers that rare combination of entertainment ...    0.833330      pos   \n",
      "5     perhaps no picture ever made has more literall...    0.694440      pos   \n",
      "6     steers turns in a snappy screenplay that curls...    0.777780      pos   \n",
      "7                          but he somehow pulls it off     0.736110      pos   \n",
      "8     take care of my cat offers a refreshingly diff...    0.763890      pos   \n",
      "9     this is a film well worth seeing talking and s...    0.902780      pos   \n",
      "10    what really surprises about wisegirls is its l...    0.625000      pos   \n",
      "11     wendigo is why we go to the cinema to be fed ...    0.777780      pos   \n",
      "12    one of the greatest family oriented fantasy ad...    0.930560      pos   \n",
      "13    ultimately it ponders the reasons we need stor...    0.458330  neutral   \n",
      "14    an utterly compelling who wrote it in which th...    0.777780      pos   \n",
      "15            illuminating if overly talky documentary     0.472220  neutral   \n",
      "16              a masterpiece four years in the making     0.972220      pos   \n",
      "17    the movie s ripe enrapturing beauty will tempt...    0.763890      pos   \n",
      "18    offers a breath of the fresh air of true sophi...    0.888890      pos   \n",
      "19    a thoughtful provocative insistently humanizin...    0.819440      pos   \n",
      "20    with a cast that includes some of the top acto...    0.861110      pos   \n",
      "21    a disturbing and frighteningly evocative assem...    0.583330  neutral   \n",
      "22    not for everyone but for those with whom it wi...    0.736110      pos   \n",
      "23    scores a few points for doing what it does wit...    0.722220      pos   \n",
      "24    occasionally melodramatic it s also extremely ...    0.777780      pos   \n",
      "25    an idealistic love story that brings out the l...    0.680560      pos   \n",
      "26    at about 95 minutes treasure planet maintains ...    0.736110      pos   \n",
      "27    however it lacks grandeur and that epic qualit...    0.250000      neg   \n",
      "28    it helps that lil bow wow tones down his pint ...    0.763890      pos   \n",
      "29    guaranteed to move anyone who ever shook rattl...    0.833330      pos   \n",
      "...                                                 ...         ...      ...   \n",
      "2170   an entire film about researchers quietly read...    0.166670      neg   \n",
      "2171  pryor lite with half the demons half the darin...    0.361110      neg   \n",
      "2172  what s at stake in this film is nothing more t...    0.194440      neg   \n",
      "2173    the stories here suffer from the chosen format     0.347220      neg   \n",
      "2174  while the mystery surrounding the nature of th...    0.388890      neg   \n",
      "2175                    just how extreme are these ops     0.500000  neutral   \n",
      "2176  i regret to report that these ops are just not...    0.361110      neg   \n",
      "2177  the actors are forced to grapple with hazy mot...    0.333330      neg   \n",
      "2178  john leguizamo may be a dramatic actor just no...    0.180560      neg   \n",
      "2179  the sequel has turned completely and irrevocab...    0.166670      neg   \n",
      "2180  hardly makes the kind of points egoyan wanted ...    0.430560  neutral   \n",
      "2181  rainy days and movies about the disintegration...    0.375000      neg   \n",
      "2182  the master of disaster it s a piece of dreck d...    0.097222      neg   \n",
      "2183  the film has a few cute ideas and several mode...    0.291670      neg   \n",
      "2184  the stupidest most insulting movie of 2002 s f...    0.000000      neg   \n",
      "2185  it s so underwritten that you ca n t figure ou...    0.263890      neg   \n",
      "2186  a film so tedious that it is impossible to car...    0.194440      neg   \n",
      "2187  none of this violates the letter of behan s bo...    0.222220      neg   \n",
      "2188  bad company leaves a bad taste not only becaus...    0.180560      neg   \n",
      "2189  even if it ultimately disappoints the picture ...    0.472220  neutral   \n",
      "2190               fails to bring as much to the table     0.250000      neg   \n",
      "2191  a film made with as little wit interest and pr...    0.388890      neg   \n",
      "2192  disturbingly superficial in its approach to th...    0.194440      neg   \n",
      "2193  if you re not the target demographic this movi...    0.347220      neg   \n",
      "2194                                  i hate this movie    0.305560      neg   \n",
      "2195                    an imaginative comedy thriller     0.777780      pos   \n",
      "2196                             a rare beautiful film     0.916670      pos   \n",
      "2197                      an hilarious romantic comedy     0.888890      pos   \n",
      "2198                     never sinks into exploitation     0.625000      pos   \n",
      "2199                             u nrelentingly stupid     0.069444      neg   \n",
      "\n",
      "                                      lemmatized_tokens  \n",
      "0                  [effective, but, too, tepid, biopic]  \n",
      "1     [if, you, sometimes, like, to, go, to, the, mo...  \n",
      "2     [emerges, a, something, rare, an, issue, movie...  \n",
      "3     [the, film, provides, some, great, insight, in...  \n",
      "4     [offer, that, rare, combination, of, entertain...  \n",
      "5     [perhaps, no, picture, ever, made, ha, more, l...  \n",
      "6     [steer, turn, in, a, snappy, screenplay, that,...  \n",
      "7                     [but, he, somehow, pull, it, off]  \n",
      "8     [take, care, of, my, cat, offer, a, refreshing...  \n",
      "9     [this, is, a, film, well, worth, seeing, talki...  \n",
      "10    [what, really, surprise, about, wisegirls, is,...  \n",
      "11    [wendigo, is, why, we, go, to, the, cinema, to...  \n",
      "12    [one, of, the, greatest, family, oriented, fan...  \n",
      "13    [ultimately, it, ponders, the, reason, we, nee...  \n",
      "14    [an, utterly, compelling, who, wrote, it, in, ...  \n",
      "15       [illuminating, if, overly, talky, documentary]  \n",
      "16        [a, masterpiece, four, year, in, the, making]  \n",
      "17    [the, movie, s, ripe, enrapturing, beauty, wil...  \n",
      "18    [offer, a, breath, of, the, fresh, air, of, tr...  \n",
      "19    [a, thoughtful, provocative, insistently, huma...  \n",
      "20    [with, a, cast, that, includes, some, of, the,...  \n",
      "21    [a, disturbing, and, frighteningly, evocative,...  \n",
      "22    [not, for, everyone, but, for, those, with, wh...  \n",
      "23    [score, a, few, point, for, doing, what, it, d...  \n",
      "24    [occasionally, melodramatic, it, s, also, extr...  \n",
      "25    [an, idealistic, love, story, that, brings, ou...  \n",
      "26    [at, about, 95, minute, treasure, planet, main...  \n",
      "27    [however, it, lack, grandeur, and, that, epic,...  \n",
      "28    [it, help, that, lil, bow, wow, tone, down, hi...  \n",
      "29    [guaranteed, to, move, anyone, who, ever, shoo...  \n",
      "...                                                 ...  \n",
      "2170  [an, entire, film, about, researcher, quietly,...  \n",
      "2171  [pryor, lite, with, half, the, demon, half, th...  \n",
      "2172  [what, s, at, stake, in, this, film, is, nothi...  \n",
      "2173  [the, story, here, suffer, from, the, chosen, ...  \n",
      "2174  [while, the, mystery, surrounding, the, nature...  \n",
      "2175              [just, how, extreme, are, these, ops]  \n",
      "2176  [i, regret, to, report, that, these, ops, are,...  \n",
      "2177  [the, actor, are, forced, to, grapple, with, h...  \n",
      "2178  [john, leguizamo, may, be, a, dramatic, actor,...  \n",
      "2179  [the, sequel, ha, turned, completely, and, irr...  \n",
      "2180  [hardly, make, the, kind, of, point, egoyan, w...  \n",
      "2181  [rainy, day, and, movie, about, the, disintegr...  \n",
      "2182  [the, master, of, disaster, it, s, a, piece, o...  \n",
      "2183  [the, film, ha, a, few, cute, idea, and, sever...  \n",
      "2184  [the, stupidest, most, insulting, movie, of, 2...  \n",
      "2185  [it, s, so, underwritten, that, you, ca, n, t,...  \n",
      "2186  [a, film, so, tedious, that, it, is, impossibl...  \n",
      "2187  [none, of, this, violates, the, letter, of, be...  \n",
      "2188  [bad, company, leaf, a, bad, taste, not, only,...  \n",
      "2189  [even, if, it, ultimately, disappoints, the, p...  \n",
      "2190        [fails, to, bring, a, much, to, the, table]  \n",
      "2191  [a, film, made, with, a, little, wit, interest...  \n",
      "2192  [disturbingly, superficial, in, it, approach, ...  \n",
      "2193  [if, you, re, not, the, target, demographic, t...  \n",
      "2194                             [i, hate, this, movie]  \n",
      "2195                [an, imaginative, comedy, thriller]  \n",
      "2196                         [a, rare, beautiful, film]  \n",
      "2197                  [an, hilarious, romantic, comedy]  \n",
      "2198                  [never, sink, into, exploitation]  \n",
      "2199                          [u, nrelentingly, stupid]  \n",
      "\n",
      "[2200 rows x 4 columns]\n"
     ]
    }
   ],
   "source": [
    "# df.sample(5)\n",
    "\n",
    "# tokenization and lemmatization\n",
    "import nltk\n",
    "nltk.download('omw-1.4')\n",
    "nltk.download('wordnet')\n",
    "nltk.download('punkt')\n",
    "w_tokenizer = nltk.tokenize.WhitespaceTokenizer()\n",
    "lemmatizer = nltk.stem.WordNetLemmatizer()\n",
    "def lemmatize_text(text):\n",
    "    return [lemmatizer.lemmatize(w) for w in w_tokenizer.tokenize(text)]\n",
    "\n",
    "reviews['lemmatized_tokens'] = reviews['sentences_original'].apply(lemmatize_text)\n",
    "valid['lemmatized_tokens'] = valid['sentences_original'].apply(lemmatize_text)\n",
    "test['lemmatized_tokens'] = test['sentences_original'].apply(lemmatize_text)\n",
    "\n",
    "\n",
    "print(reviews)\n",
    "print(valid) \n",
    "print(test)"
   ]
  },
  {
   "cell_type": "code",
   "execution_count": 21,
   "metadata": {},
   "outputs": [],
   "source": [
    "reviews.to_csv('stanfordSentimentTreebank\\\\train.csv', encoding='latin1', index=False)\n",
    "valid.to_csv('stanfordSentimentTreebank\\\\valid.csv', encoding='latin1', index=False)\n",
    "test.to_csv('stanfordSentimentTreebank\\\\test.csv', encoding='latin1', index=False)"
   ]
  },
  {
   "cell_type": "markdown",
   "metadata": {
    "id": "WhebDZGqDJNd"
   },
   "source": [
    "# Contraction to Expasion"
   ]
  },
  {
   "cell_type": "code",
   "execution_count": 7,
   "metadata": {
    "executionInfo": {
     "elapsed": 7,
     "status": "ok",
     "timestamp": 1634961562960,
     "user": {
      "displayName": "Miondlicht",
      "photoUrl": "https://lh3.googleusercontent.com/a/default-user=s64",
      "userId": "03919276898062335465"
     },
     "user_tz": -420
    },
    "id": "bBJA-hEEC8Uc"
   },
   "outputs": [],
   "source": [
    "contractions = {\n",
    "\"ain't\": \"am not\",\n",
    "\"aren't\": \"are not\",\n",
    "\"can't\": \"can not\",\n",
    "\"can't've\": \"can not have\",\n",
    "\"'cause\": \"because\",\n",
    "\"could've\": \"could have\",\n",
    "\"couldn't\": \"could not\",\n",
    "\"couldn't've\": \"could not have\",\n",
    "\"didn't\": \"did not\",\n",
    "\"doesn't\": \"does not\",\n",
    "\"don't\": \"do not\",\n",
    "\"hadn't\": \"had not\",\n",
    "\"hadn't've\": \"had not have\",\n",
    "\"hasn't\": \"has not\",\n",
    "\"haven't\": \"have not\",\n",
    "\"he'd\": \"he would\",\n",
    "\"he'd've\": \"he would have\",\n",
    "\"he'll\": \"he will\",\n",
    "\"he'll've\": \"he will have\",\n",
    "\"he's\": \"he is\",\n",
    "\"how'd\": \"how did\",\n",
    "\"how're\": \"how are\",\n",
    "\"how'd'y\": \"how do you\",\n",
    "\"how'll\": \"how will\",\n",
    "\"how's\": \"how is\",\n",
    "\"i'd\": \"I would\",\n",
    "\"i'd've\": \"I would have\",\n",
    "\"i'll\": \"I will\",\n",
    "\"i'll've\": \"I will have\",\n",
    "\"i'm\": \"I am\",\n",
    "\"i've\": \"I have\",\n",
    "\"isn't\": \"is not\",\n",
    "\"it'd\": \"it would\",\n",
    "\"it'd've\": \"it would have\",\n",
    "\"it'll\": \"it will\",\n",
    "\"it'll've\": \"it will have\",\n",
    "\"it's\": \"it is\",\n",
    "\"let's\": \"let us\",\n",
    "\"ma'am\": \"madam\",\n",
    "\"mayn't\": \"may not\",\n",
    "\"might've\": \"might have\",\n",
    "\"mightn't\": \"might not\",\n",
    "\"mightn't've\": \"might not have\",\n",
    "\"must've\": \"must have\",\n",
    "\"mustn't\": \"must not\",\n",
    "\"mustn't've\": \"must not have\",\n",
    "\"needn't\": \"need not\",\n",
    "\"needn't've\": \"need not have\",\n",
    "\"o'clock\": \"of the clock\",\n",
    "\"oughtn't\": \"ought not\",\n",
    "\"oughtn't've\": \"ought not have\",\n",
    "\"shan't\": \"shall not\",\n",
    "\"sha'n't\": \"shall not\",\n",
    "\"shan't've\": \"shall not have\",\n",
    "\"she'd\": \"she would\",\n",
    "\"she'd've\": \"she would have\",\n",
    "\"she'll\": \"she will\",\n",
    "\"she'll've\": \"she will have\",\n",
    "\"she's\": \"she is\",\n",
    "\"should've\": \"should have\",\n",
    "\"shouldn't\": \"should not\",\n",
    "\"shouldn't've\": \"should not have\",\n",
    "\"so've\": \"so have\",\n",
    "\"so's\": \"so is\",\n",
    "\"that'd\": \"that would\",\n",
    "\"that'd've\": \"that would have\",\n",
    "\"that's\": \"that is\",\n",
    "\"there'd\": \"there would\",\n",
    "\"there'd've\": \"there would have\",\n",
    "\"there's\": \"there is\",\n",
    "\"they'd\": \"they would\",\n",
    "\"they'd've\": \"they would have\",\n",
    "\"they'll\": \"they will\",\n",
    "\"they'll've\": \"they will have\",\n",
    "\"they're\": \"they are\",\n",
    "\"they've\": \"they have\",\n",
    "\"to've\": \"to have\",\n",
    "\"wasn't\": \"was not\",\n",
    "\"we'd\": \"we would\",\n",
    "\"we'd've\": \"we would have\",\n",
    "\"we'll\": \"we will\",\n",
    "\"we'll've\": \"we will have\",\n",
    "\"we're\": \"we are\",\n",
    "\"we've\": \"we have\",\n",
    "\"weren't\": \"were not\",\n",
    "\"what'll\": \"what will\",\n",
    "\"what'll've\": \"what will have\",\n",
    "\"what're\": \"what are\",\n",
    "\"what's\": \"what is\",\n",
    "\"what've\": \"what have\",\n",
    "\"when's\": \"when is\",\n",
    "\"when've\": \"when have\",\n",
    "\"where'd\": \"where did\",\n",
    "\"where's\": \"where is\",\n",
    "\"where've\": \"where have\",\n",
    "\"who'll\": \"who will\",\n",
    "\"who'll've\": \"who will have\",\n",
    "\"who's\": \"who is\",\n",
    "\"who've\": \"who have\",\n",
    "\"why's\": \"why is\",\n",
    "\"why've\": \"why have\",\n",
    "\"will've\": \"will have\",\n",
    "\"won't\": \"will not\",\n",
    "\"won't've\": \"will not have\",\n",
    "\"would've\": \"would have\",\n",
    "\"wouldn't\": \"would not\",\n",
    "\"wouldn't've\": \"would not have\",\n",
    "\"y'all\": \"you all\",\n",
    "\"y'all'd\": \"you all would\",\n",
    "\"y'all'd've\": \"you all would have\",\n",
    "\"y'all're\": \"you all are\",\n",
    "\"y'all've\": \"you all have\",\n",
    "\"you'd\": \"you would\",\n",
    "\"you'd've\": \"you would have\",\n",
    "\"you'll\": \"you will\",\n",
    "\"you'll've\": \"you shall have\",\n",
    "\"you're\": \"you are\",\n",
    "\"you've\": \"you have\"\n",
    "}"
   ]
  },
  {
   "cell_type": "code",
   "execution_count": 8,
   "metadata": {
    "executionInfo": {
     "elapsed": 8,
     "status": "ok",
     "timestamp": 1634961562961,
     "user": {
      "displayName": "Miondlicht",
      "photoUrl": "https://lh3.googleusercontent.com/a/default-user=s64",
      "userId": "03919276898062335465"
     },
     "user_tz": -420
    },
    "id": "RkB6PQwN6oIc"
   },
   "outputs": [],
   "source": [
    "def cont_to_exp(x):\n",
    "    if type(x) is str:\n",
    "        for key in contractions:\n",
    "            value = contractions[key]\n",
    "            x = x.replace(key, value)\n",
    "        return x \n",
    "    else:\n",
    "        return x"
   ]
  },
  {
   "cell_type": "code",
   "execution_count": 9,
   "metadata": {
    "colab": {
     "base_uri": "https://localhost:8080/",
     "height": 35
    },
    "executionInfo": {
     "elapsed": 8,
     "status": "ok",
     "timestamp": 1634961562961,
     "user": {
      "displayName": "Miondlicht",
      "photoUrl": "https://lh3.googleusercontent.com/a/default-user=s64",
      "userId": "03919276898062335465"
     },
     "user_tz": -420
    },
    "id": "l-nOmZDF8YbF",
    "outputId": "58108eef-16a2-4986-c06c-9bdb88ac5952"
   },
   "outputs": [
    {
     "data": {
      "application/vnd.google.colaboratory.intrinsic+json": {
       "type": "string"
      },
      "text/plain": [
       "'am not happy'"
      ]
     },
     "execution_count": 9,
     "metadata": {},
     "output_type": "execute_result"
    }
   ],
   "source": [
    "ex = \"ain't happy\"\n",
    "cont_to_exp(ex)"
   ]
  },
  {
   "cell_type": "code",
   "execution_count": 10,
   "metadata": {
    "colab": {
     "base_uri": "https://localhost:8080/"
    },
    "executionInfo": {
     "elapsed": 8257,
     "status": "ok",
     "timestamp": 1634961571211,
     "user": {
      "displayName": "Miondlicht",
      "photoUrl": "https://lh3.googleusercontent.com/a/default-user=s64",
      "userId": "03919276898062335465"
     },
     "user_tz": -420
    },
    "id": "qKDfWay18okF",
    "outputId": "0a3299a2-5299-48eb-e24c-b4f2abce5c13"
   },
   "outputs": [
    {
     "name": "stdout",
     "output_type": "stream",
     "text": [
      "10 loops, best of 5: 131 ms per loop\n"
     ]
    }
   ],
   "source": [
    "%%timeit\n",
    "df['tweets'] = df['tweets'].apply(lambda x : cont_to_exp(x))"
   ]
  },
  {
   "cell_type": "code",
   "execution_count": 11,
   "metadata": {
    "colab": {
     "base_uri": "https://localhost:8080/",
     "height": 205
    },
    "executionInfo": {
     "elapsed": 51,
     "status": "ok",
     "timestamp": 1634961571214,
     "user": {
      "displayName": "Miondlicht",
      "photoUrl": "https://lh3.googleusercontent.com/a/default-user=s64",
      "userId": "03919276898062335465"
     },
     "user_tz": -420
    },
    "id": "u8uQIdgW9qU1",
    "outputId": "d02b7579-be68-48f4-ee5e-f491531662bc"
   },
   "outputs": [
    {
     "data": {
      "text/html": [
       "<div>\n",
       "<style scoped>\n",
       "    .dataframe tbody tr th:only-of-type {\n",
       "        vertical-align: middle;\n",
       "    }\n",
       "\n",
       "    .dataframe tbody tr th {\n",
       "        vertical-align: top;\n",
       "    }\n",
       "\n",
       "    .dataframe thead th {\n",
       "        text-align: right;\n",
       "    }\n",
       "</style>\n",
       "<table border=\"1\" class=\"dataframe\">\n",
       "  <thead>\n",
       "    <tr style=\"text-align: right;\">\n",
       "      <th></th>\n",
       "      <th>tweets</th>\n",
       "      <th>sentiment</th>\n",
       "      <th>label</th>\n",
       "    </tr>\n",
       "  </thead>\n",
       "  <tbody>\n",
       "    <tr>\n",
       "      <th>1950</th>\n",
       "      <td>read more on the new year's eve 80% vaccinatio...</td>\n",
       "      <td>neutral</td>\n",
       "      <td>0</td>\n",
       "    </tr>\n",
       "    <tr>\n",
       "      <th>1225</th>\n",
       "      <td>covid vaccine i hate you so bad</td>\n",
       "      <td>negative</td>\n",
       "      <td>-1</td>\n",
       "    </tr>\n",
       "    <tr>\n",
       "      <th>1951</th>\n",
       "      <td>the united arab emirates authorizes the sputni...</td>\n",
       "      <td>neutral</td>\n",
       "      <td>0</td>\n",
       "    </tr>\n",
       "    <tr>\n",
       "      <th>2767</th>\n",
       "      <td>interesting... very, very interesting...??????...</td>\n",
       "      <td>positive</td>\n",
       "      <td>1</td>\n",
       "    </tr>\n",
       "    <tr>\n",
       "      <th>3052</th>\n",
       "      <td>some good news for covid vaccine</td>\n",
       "      <td>positive</td>\n",
       "      <td>1</td>\n",
       "    </tr>\n",
       "  </tbody>\n",
       "</table>\n",
       "</div>"
      ],
      "text/plain": [
       "                                                 tweets sentiment  label\n",
       "1950  read more on the new year's eve 80% vaccinatio...   neutral      0\n",
       "1225                   covid vaccine i hate you so bad   negative     -1\n",
       "1951  the united arab emirates authorizes the sputni...   neutral      0\n",
       "2767  interesting... very, very interesting...??????...  positive      1\n",
       "3052                   some good news for covid vaccine  positive      1"
      ]
     },
     "execution_count": 11,
     "metadata": {},
     "output_type": "execute_result"
    }
   ],
   "source": [
    "df.sample(5)"
   ]
  },
  {
   "cell_type": "markdown",
   "metadata": {
    "id": "WDoLthM-IcHM"
   },
   "source": [
    "# Remove RT"
   ]
  },
  {
   "cell_type": "code",
   "execution_count": 12,
   "metadata": {
    "colab": {
     "base_uri": "https://localhost:8080/",
     "height": 112
    },
    "executionInfo": {
     "elapsed": 46,
     "status": "ok",
     "timestamp": 1634961571214,
     "user": {
      "displayName": "Miondlicht",
      "photoUrl": "https://lh3.googleusercontent.com/a/default-user=s64",
      "userId": "03919276898062335465"
     },
     "user_tz": -420
    },
    "id": "h4-IWWbqIH4v",
    "outputId": "0d3bf80b-4150-4485-902b-bafab6b90f71"
   },
   "outputs": [
    {
     "data": {
      "text/html": [
       "<div>\n",
       "<style scoped>\n",
       "    .dataframe tbody tr th:only-of-type {\n",
       "        vertical-align: middle;\n",
       "    }\n",
       "\n",
       "    .dataframe tbody tr th {\n",
       "        vertical-align: top;\n",
       "    }\n",
       "\n",
       "    .dataframe thead th {\n",
       "        text-align: right;\n",
       "    }\n",
       "</style>\n",
       "<table border=\"1\" class=\"dataframe\">\n",
       "  <thead>\n",
       "    <tr style=\"text-align: right;\">\n",
       "      <th></th>\n",
       "      <th>tweets</th>\n",
       "      <th>sentiment</th>\n",
       "      <th>label</th>\n",
       "    </tr>\n",
       "  </thead>\n",
       "  <tbody>\n",
       "    <tr>\n",
       "      <th>1528</th>\n",
       "      <td>b'rt @surreyplaceon: people with intellectual ...</td>\n",
       "      <td>neutral</td>\n",
       "      <td>0</td>\n",
       "    </tr>\n",
       "    <tr>\n",
       "      <th>2963</th>\n",
       "      <td>rt @rainnwilson: i love science and am so grat...</td>\n",
       "      <td>positive</td>\n",
       "      <td>1</td>\n",
       "    </tr>\n",
       "  </tbody>\n",
       "</table>\n",
       "</div>"
      ],
      "text/plain": [
       "                                                 tweets sentiment  label\n",
       "1528  b'rt @surreyplaceon: people with intellectual ...   neutral      0\n",
       "2963  rt @rainnwilson: i love science and am so grat...  positive      1"
      ]
     },
     "execution_count": 12,
     "metadata": {},
     "output_type": "execute_result"
    }
   ],
   "source": [
    "df[df['tweets'].str.contains('rt @')]"
   ]
  },
  {
   "cell_type": "code",
   "execution_count": 13,
   "metadata": {
    "executionInfo": {
     "elapsed": 45,
     "status": "ok",
     "timestamp": 1634961571215,
     "user": {
      "displayName": "Miondlicht",
      "photoUrl": "https://lh3.googleusercontent.com/a/default-user=s64",
      "userId": "03919276898062335465"
     },
     "user_tz": -420
    },
    "id": "Bm1HhwVdIgSb"
   },
   "outputs": [],
   "source": [
    "x = 'rt@username: hello hirt'"
   ]
  },
  {
   "cell_type": "code",
   "execution_count": 14,
   "metadata": {
    "colab": {
     "base_uri": "https://localhost:8080/",
     "height": 35
    },
    "executionInfo": {
     "elapsed": 43,
     "status": "ok",
     "timestamp": 1634961571215,
     "user": {
      "displayName": "Miondlicht",
      "photoUrl": "https://lh3.googleusercontent.com/a/default-user=s64",
      "userId": "03919276898062335465"
     },
     "user_tz": -420
    },
    "id": "DmhSHmqrJRdn",
    "outputId": "d831ad82-f625-4762-ac9b-30a6bcd50b44"
   },
   "outputs": [
    {
     "data": {
      "application/vnd.google.colaboratory.intrinsic+json": {
       "type": "string"
      },
      "text/plain": [
       "'@username: hello hirt'"
      ]
     },
     "execution_count": 14,
     "metadata": {},
     "output_type": "execute_result"
    }
   ],
   "source": [
    "re.sub(r'\\brt\\b', '', x).strip()"
   ]
  },
  {
   "cell_type": "code",
   "execution_count": 15,
   "metadata": {
    "colab": {
     "base_uri": "https://localhost:8080/",
     "height": 35
    },
    "executionInfo": {
     "elapsed": 42,
     "status": "ok",
     "timestamp": 1634961571216,
     "user": {
      "displayName": "Miondlicht",
      "photoUrl": "https://lh3.googleusercontent.com/a/default-user=s64",
      "userId": "03919276898062335465"
     },
     "user_tz": -420
    },
    "id": "xdcdCPcPKGWw",
    "outputId": "ffdc13a5-fd14-4279-c327-2d59543976a3"
   },
   "outputs": [
    {
     "data": {
      "application/vnd.google.colaboratory.intrinsic+json": {
       "type": "string"
      },
      "text/plain": [
       "'@surreyplaceon: people hirt,  @username: hello hirt'"
      ]
     },
     "execution_count": 15,
     "metadata": {},
     "output_type": "execute_result"
    }
   ],
   "source": [
    "y = \"b'rt @surreyplaceon: people hirt, rt @username: hello hirt\"\n",
    "re.sub(r\"\\bb'rt\\b|\\brt\\b\", \"\", y).strip()"
   ]
  },
  {
   "cell_type": "code",
   "execution_count": 16,
   "metadata": {
    "executionInfo": {
     "elapsed": 39,
     "status": "ok",
     "timestamp": 1634961571216,
     "user": {
      "displayName": "Miondlicht",
      "photoUrl": "https://lh3.googleusercontent.com/a/default-user=s64",
      "userId": "03919276898062335465"
     },
     "user_tz": -420
    },
    "id": "KPuMbMr_FYPO"
   },
   "outputs": [],
   "source": [
    "df['tweets'] = df['tweets'].apply(lambda x: re.sub(r\"\\bb'rt\\b |\\brt\\b\", \"\", x).strip())"
   ]
  },
  {
   "cell_type": "code",
   "execution_count": 17,
   "metadata": {
    "colab": {
     "base_uri": "https://localhost:8080/",
     "height": 81
    },
    "executionInfo": {
     "elapsed": 39,
     "status": "ok",
     "timestamp": 1634961571216,
     "user": {
      "displayName": "Miondlicht",
      "photoUrl": "https://lh3.googleusercontent.com/a/default-user=s64",
      "userId": "03919276898062335465"
     },
     "user_tz": -420
    },
    "id": "5h-Z7IObJkJQ",
    "outputId": "62cf6172-2436-4e27-ec46-e145ac8ea348"
   },
   "outputs": [
    {
     "data": {
      "text/html": [
       "<div>\n",
       "<style scoped>\n",
       "    .dataframe tbody tr th:only-of-type {\n",
       "        vertical-align: middle;\n",
       "    }\n",
       "\n",
       "    .dataframe tbody tr th {\n",
       "        vertical-align: top;\n",
       "    }\n",
       "\n",
       "    .dataframe thead th {\n",
       "        text-align: right;\n",
       "    }\n",
       "</style>\n",
       "<table border=\"1\" class=\"dataframe\">\n",
       "  <thead>\n",
       "    <tr style=\"text-align: right;\">\n",
       "      <th></th>\n",
       "      <th>tweets</th>\n",
       "      <th>sentiment</th>\n",
       "      <th>label</th>\n",
       "    </tr>\n",
       "  </thead>\n",
       "  <tbody>\n",
       "    <tr>\n",
       "      <th>1528</th>\n",
       "      <td>@surreyplaceon: people with intellectual &amp;amp;...</td>\n",
       "      <td>neutral</td>\n",
       "      <td>0</td>\n",
       "    </tr>\n",
       "  </tbody>\n",
       "</table>\n",
       "</div>"
      ],
      "text/plain": [
       "                                                 tweets sentiment  label\n",
       "1528  @surreyplaceon: people with intellectual &amp;...   neutral      0"
      ]
     },
     "execution_count": 17,
     "metadata": {},
     "output_type": "execute_result"
    }
   ],
   "source": [
    "df.iloc[[1528]]"
   ]
  },
  {
   "cell_type": "code",
   "execution_count": 18,
   "metadata": {
    "colab": {
     "base_uri": "https://localhost:8080/",
     "height": 81
    },
    "executionInfo": {
     "elapsed": 37,
     "status": "ok",
     "timestamp": 1634961571216,
     "user": {
      "displayName": "Miondlicht",
      "photoUrl": "https://lh3.googleusercontent.com/a/default-user=s64",
      "userId": "03919276898062335465"
     },
     "user_tz": -420
    },
    "id": "8mGjA60sJz17",
    "outputId": "e509635a-29db-432a-fca4-84441cc007b9"
   },
   "outputs": [
    {
     "data": {
      "text/html": [
       "<div>\n",
       "<style scoped>\n",
       "    .dataframe tbody tr th:only-of-type {\n",
       "        vertical-align: middle;\n",
       "    }\n",
       "\n",
       "    .dataframe tbody tr th {\n",
       "        vertical-align: top;\n",
       "    }\n",
       "\n",
       "    .dataframe thead th {\n",
       "        text-align: right;\n",
       "    }\n",
       "</style>\n",
       "<table border=\"1\" class=\"dataframe\">\n",
       "  <thead>\n",
       "    <tr style=\"text-align: right;\">\n",
       "      <th></th>\n",
       "      <th>tweets</th>\n",
       "      <th>sentiment</th>\n",
       "      <th>label</th>\n",
       "    </tr>\n",
       "  </thead>\n",
       "  <tbody>\n",
       "    <tr>\n",
       "      <th>2963</th>\n",
       "      <td>@rainnwilson: i love science and am so gratefu...</td>\n",
       "      <td>positive</td>\n",
       "      <td>1</td>\n",
       "    </tr>\n",
       "  </tbody>\n",
       "</table>\n",
       "</div>"
      ],
      "text/plain": [
       "                                                 tweets sentiment  label\n",
       "2963  @rainnwilson: i love science and am so gratefu...  positive      1"
      ]
     },
     "execution_count": 18,
     "metadata": {},
     "output_type": "execute_result"
    }
   ],
   "source": [
    "df.iloc[[2963]]"
   ]
  },
  {
   "cell_type": "code",
   "execution_count": 18,
   "metadata": {
    "executionInfo": {
     "elapsed": 36,
     "status": "ok",
     "timestamp": 1634961571217,
     "user": {
      "displayName": "Miondlicht",
      "photoUrl": "https://lh3.googleusercontent.com/a/default-user=s64",
      "userId": "03919276898062335465"
     },
     "user_tz": -420
    },
    "id": "7vazgpMJLldc"
   },
   "outputs": [],
   "source": []
  },
  {
   "cell_type": "markdown",
   "metadata": {
    "id": "q3ftKJfMXRaR"
   },
   "source": [
    "# Remove multiple spaces"
   ]
  },
  {
   "cell_type": "code",
   "execution_count": 19,
   "metadata": {
    "executionInfo": {
     "elapsed": 36,
     "status": "ok",
     "timestamp": 1634961571217,
     "user": {
      "displayName": "Miondlicht",
      "photoUrl": "https://lh3.googleusercontent.com/a/default-user=s64",
      "userId": "03919276898062335465"
     },
     "user_tz": -420
    },
    "id": "8VtDbjq9XVem"
   },
   "outputs": [],
   "source": [
    "x =  'hi    hello     how are you'"
   ]
  },
  {
   "cell_type": "code",
   "execution_count": 20,
   "metadata": {
    "colab": {
     "base_uri": "https://localhost:8080/",
     "height": 0
    },
    "executionInfo": {
     "elapsed": 35,
     "status": "ok",
     "timestamp": 1634961571217,
     "user": {
      "displayName": "Miondlicht",
      "photoUrl": "https://lh3.googleusercontent.com/a/default-user=s64",
      "userId": "03919276898062335465"
     },
     "user_tz": -420
    },
    "id": "GBewzRuXXfga",
    "outputId": "183be29b-2909-4ae5-a9c6-cd5445871045"
   },
   "outputs": [
    {
     "data": {
      "application/vnd.google.colaboratory.intrinsic+json": {
       "type": "string"
      },
      "text/plain": [
       "'hi hello how are you'"
      ]
     },
     "execution_count": 20,
     "metadata": {},
     "output_type": "execute_result"
    }
   ],
   "source": [
    "' '.join(x.split())"
   ]
  },
  {
   "cell_type": "code",
   "execution_count": 21,
   "metadata": {
    "executionInfo": {
     "elapsed": 35,
     "status": "ok",
     "timestamp": 1634961571218,
     "user": {
      "displayName": "Miondlicht",
      "photoUrl": "https://lh3.googleusercontent.com/a/default-user=s64",
      "userId": "03919276898062335465"
     },
     "user_tz": -420
    },
    "id": "VUawzzNcXiSm"
   },
   "outputs": [],
   "source": [
    "df['tweets'] = df['tweets'].apply(lambda x: ' '.join(x.split()))"
   ]
  },
  {
   "cell_type": "code",
   "execution_count": 22,
   "metadata": {
    "colab": {
     "base_uri": "https://localhost:8080/",
     "height": 0
    },
    "executionInfo": {
     "elapsed": 34,
     "status": "ok",
     "timestamp": 1634961571218,
     "user": {
      "displayName": "Miondlicht",
      "photoUrl": "https://lh3.googleusercontent.com/a/default-user=s64",
      "userId": "03919276898062335465"
     },
     "user_tz": -420
    },
    "id": "W8BXI4r-XqGO",
    "outputId": "f9f66ca0-eaf5-4d84-e5c4-4d057a1cba92"
   },
   "outputs": [
    {
     "data": {
      "text/html": [
       "<div>\n",
       "<style scoped>\n",
       "    .dataframe tbody tr th:only-of-type {\n",
       "        vertical-align: middle;\n",
       "    }\n",
       "\n",
       "    .dataframe tbody tr th {\n",
       "        vertical-align: top;\n",
       "    }\n",
       "\n",
       "    .dataframe thead th {\n",
       "        text-align: right;\n",
       "    }\n",
       "</style>\n",
       "<table border=\"1\" class=\"dataframe\">\n",
       "  <thead>\n",
       "    <tr style=\"text-align: right;\">\n",
       "      <th></th>\n",
       "      <th>tweets</th>\n",
       "      <th>sentiment</th>\n",
       "      <th>label</th>\n",
       "    </tr>\n",
       "  </thead>\n",
       "  <tbody>\n",
       "    <tr>\n",
       "      <th>0</th>\n",
       "      <td>many americans lack critical thinking skills! ...</td>\n",
       "      <td>negative</td>\n",
       "      <td>-1</td>\n",
       "    </tr>\n",
       "    <tr>\n",
       "      <th>1</th>\n",
       "      <td>coronavirus: germany has a problem with the va...</td>\n",
       "      <td>negative</td>\n",
       "      <td>-1</td>\n",
       "    </tr>\n",
       "    <tr>\n",
       "      <th>2</th>\n",
       "      <td>you cannot get vaxxed when you already have co...</td>\n",
       "      <td>negative</td>\n",
       "      <td>-1</td>\n",
       "    </tr>\n",
       "    <tr>\n",
       "      <th>3</th>\n",
       "      <td>shame on the provaxxers for their judgemental ...</td>\n",
       "      <td>negative</td>\n",
       "      <td>-1</td>\n",
       "    </tr>\n",
       "    <tr>\n",
       "      <th>4</th>\n",
       "      <td>someone died because of vaccine</td>\n",
       "      <td>negative</td>\n",
       "      <td>-1</td>\n",
       "    </tr>\n",
       "    <tr>\n",
       "      <th>...</th>\n",
       "      <td>...</td>\n",
       "      <td>...</td>\n",
       "      <td>...</td>\n",
       "    </tr>\n",
       "    <tr>\n",
       "      <th>3745</th>\n",
       "      <td>vaccination with sputnik v starts in patna, in...</td>\n",
       "      <td>positive</td>\n",
       "      <td>1</td>\n",
       "    </tr>\n",
       "    <tr>\n",
       "      <th>3746</th>\n",
       "      <td>thanks to a great team, truly a blessing.</td>\n",
       "      <td>positive</td>\n",
       "      <td>1</td>\n",
       "    </tr>\n",
       "    <tr>\n",
       "      <th>3747</th>\n",
       "      <td>enthusiastic vaccine booster</td>\n",
       "      <td>positive</td>\n",
       "      <td>1</td>\n",
       "    </tr>\n",
       "    <tr>\n",
       "      <th>3748</th>\n",
       "      <td>the pfizer vaccine is now authorized for 12-15...</td>\n",
       "      <td>positive</td>\n",
       "      <td>1</td>\n",
       "    </tr>\n",
       "    <tr>\n",
       "      <th>3749</th>\n",
       "      <td>so enthusiastic and showing up for vaccine</td>\n",
       "      <td>positive</td>\n",
       "      <td>1</td>\n",
       "    </tr>\n",
       "  </tbody>\n",
       "</table>\n",
       "<p>3750 rows × 3 columns</p>\n",
       "</div>"
      ],
      "text/plain": [
       "                                                 tweets sentiment  label\n",
       "0     many americans lack critical thinking skills! ...  negative     -1\n",
       "1     coronavirus: germany has a problem with the va...  negative     -1\n",
       "2     you cannot get vaxxed when you already have co...  negative     -1\n",
       "3     shame on the provaxxers for their judgemental ...  negative     -1\n",
       "4                       someone died because of vaccine  negative     -1\n",
       "...                                                 ...       ...    ...\n",
       "3745  vaccination with sputnik v starts in patna, in...  positive      1\n",
       "3746          thanks to a great team, truly a blessing.  positive      1\n",
       "3747                       enthusiastic vaccine booster  positive      1\n",
       "3748  the pfizer vaccine is now authorized for 12-15...  positive      1\n",
       "3749         so enthusiastic and showing up for vaccine  positive      1\n",
       "\n",
       "[3750 rows x 3 columns]"
      ]
     },
     "execution_count": 22,
     "metadata": {},
     "output_type": "execute_result"
    }
   ],
   "source": [
    "df"
   ]
  },
  {
   "cell_type": "code",
   "execution_count": 22,
   "metadata": {
    "executionInfo": {
     "elapsed": 33,
     "status": "ok",
     "timestamp": 1634961571219,
     "user": {
      "displayName": "Miondlicht",
      "photoUrl": "https://lh3.googleusercontent.com/a/default-user=s64",
      "userId": "03919276898062335465"
     },
     "user_tz": -420
    },
    "id": "TdWIjp9EXqyo"
   },
   "outputs": [],
   "source": []
  },
  {
   "cell_type": "markdown",
   "metadata": {
    "id": "wuVc5nLEY2F-"
   },
   "source": [
    "# Remove Accented Chars"
   ]
  },
  {
   "cell_type": "code",
   "execution_count": 23,
   "metadata": {
    "executionInfo": {
     "elapsed": 33,
     "status": "ok",
     "timestamp": 1634961571219,
     "user": {
      "displayName": "Miondlicht",
      "photoUrl": "https://lh3.googleusercontent.com/a/default-user=s64",
      "userId": "03919276898062335465"
     },
     "user_tz": -420
    },
    "id": "ah4MttsTY7hc"
   },
   "outputs": [],
   "source": [
    "x = 'Áccěntěd těxt'"
   ]
  },
  {
   "cell_type": "code",
   "execution_count": 24,
   "metadata": {
    "executionInfo": {
     "elapsed": 32,
     "status": "ok",
     "timestamp": 1634961571219,
     "user": {
      "displayName": "Miondlicht",
      "photoUrl": "https://lh3.googleusercontent.com/a/default-user=s64",
      "userId": "03919276898062335465"
     },
     "user_tz": -420
    },
    "id": "uAsUKQHxZBbD"
   },
   "outputs": [],
   "source": [
    "import unicodedata"
   ]
  },
  {
   "cell_type": "code",
   "execution_count": 25,
   "metadata": {
    "executionInfo": {
     "elapsed": 32,
     "status": "ok",
     "timestamp": 1634961571219,
     "user": {
      "displayName": "Miondlicht",
      "photoUrl": "https://lh3.googleusercontent.com/a/default-user=s64",
      "userId": "03919276898062335465"
     },
     "user_tz": -420
    },
    "id": "R3PrxmVwZClm"
   },
   "outputs": [],
   "source": [
    "def remove_accented_chars(x):\n",
    "    x = unicodedata.normalize('NFKD', x).encode('ascii', 'ignore').decode('utf-8', 'ignore')\n",
    "    return x"
   ]
  },
  {
   "cell_type": "code",
   "execution_count": 26,
   "metadata": {
    "colab": {
     "base_uri": "https://localhost:8080/",
     "height": 0
    },
    "executionInfo": {
     "elapsed": 32,
     "status": "ok",
     "timestamp": 1634961571220,
     "user": {
      "displayName": "Miondlicht",
      "photoUrl": "https://lh3.googleusercontent.com/a/default-user=s64",
      "userId": "03919276898062335465"
     },
     "user_tz": -420
    },
    "id": "Lk-UY0tVZGDN",
    "outputId": "0cfb049a-ddbb-4ad3-f553-0d9816bf40d2"
   },
   "outputs": [
    {
     "data": {
      "application/vnd.google.colaboratory.intrinsic+json": {
       "type": "string"
      },
      "text/plain": [
       "'Accented text'"
      ]
     },
     "execution_count": 26,
     "metadata": {},
     "output_type": "execute_result"
    }
   ],
   "source": [
    "remove_accented_chars(x)"
   ]
  },
  {
   "cell_type": "code",
   "execution_count": 27,
   "metadata": {
    "executionInfo": {
     "elapsed": 577,
     "status": "ok",
     "timestamp": 1634961571766,
     "user": {
      "displayName": "Miondlicht",
      "photoUrl": "https://lh3.googleusercontent.com/a/default-user=s64",
      "userId": "03919276898062335465"
     },
     "user_tz": -420
    },
    "id": "PWnKnAaJZHvj"
   },
   "outputs": [],
   "source": [
    "df['tweets'] = df['tweets'].apply(lambda x: remove_accented_chars(x))"
   ]
  },
  {
   "cell_type": "code",
   "execution_count": 28,
   "metadata": {
    "colab": {
     "base_uri": "https://localhost:8080/",
     "height": 0
    },
    "executionInfo": {
     "elapsed": 581,
     "status": "ok",
     "timestamp": 1634961571770,
     "user": {
      "displayName": "Miondlicht",
      "photoUrl": "https://lh3.googleusercontent.com/a/default-user=s64",
      "userId": "03919276898062335465"
     },
     "user_tz": -420
    },
    "id": "mrH9JNPCZLd2",
    "outputId": "10ff4b7b-f686-41f8-ca9c-71959cbec207"
   },
   "outputs": [
    {
     "data": {
      "text/html": [
       "<div>\n",
       "<style scoped>\n",
       "    .dataframe tbody tr th:only-of-type {\n",
       "        vertical-align: middle;\n",
       "    }\n",
       "\n",
       "    .dataframe tbody tr th {\n",
       "        vertical-align: top;\n",
       "    }\n",
       "\n",
       "    .dataframe thead th {\n",
       "        text-align: right;\n",
       "    }\n",
       "</style>\n",
       "<table border=\"1\" class=\"dataframe\">\n",
       "  <thead>\n",
       "    <tr style=\"text-align: right;\">\n",
       "      <th></th>\n",
       "      <th>tweets</th>\n",
       "      <th>sentiment</th>\n",
       "      <th>label</th>\n",
       "    </tr>\n",
       "  </thead>\n",
       "  <tbody>\n",
       "    <tr>\n",
       "      <th>0</th>\n",
       "      <td>many americans lack critical thinking skills! ...</td>\n",
       "      <td>negative</td>\n",
       "      <td>-1</td>\n",
       "    </tr>\n",
       "    <tr>\n",
       "      <th>1</th>\n",
       "      <td>coronavirus: germany has a problem with the va...</td>\n",
       "      <td>negative</td>\n",
       "      <td>-1</td>\n",
       "    </tr>\n",
       "    <tr>\n",
       "      <th>2</th>\n",
       "      <td>you cannot get vaxxed when you already have co...</td>\n",
       "      <td>negative</td>\n",
       "      <td>-1</td>\n",
       "    </tr>\n",
       "    <tr>\n",
       "      <th>3</th>\n",
       "      <td>shame on the provaxxers for their judgemental ...</td>\n",
       "      <td>negative</td>\n",
       "      <td>-1</td>\n",
       "    </tr>\n",
       "    <tr>\n",
       "      <th>4</th>\n",
       "      <td>someone died because of vaccine</td>\n",
       "      <td>negative</td>\n",
       "      <td>-1</td>\n",
       "    </tr>\n",
       "    <tr>\n",
       "      <th>...</th>\n",
       "      <td>...</td>\n",
       "      <td>...</td>\n",
       "      <td>...</td>\n",
       "    </tr>\n",
       "    <tr>\n",
       "      <th>3745</th>\n",
       "      <td>vaccination with sputnik v starts in patna, in...</td>\n",
       "      <td>positive</td>\n",
       "      <td>1</td>\n",
       "    </tr>\n",
       "    <tr>\n",
       "      <th>3746</th>\n",
       "      <td>thanks to a great team, truly a blessing.</td>\n",
       "      <td>positive</td>\n",
       "      <td>1</td>\n",
       "    </tr>\n",
       "    <tr>\n",
       "      <th>3747</th>\n",
       "      <td>enthusiastic vaccine booster</td>\n",
       "      <td>positive</td>\n",
       "      <td>1</td>\n",
       "    </tr>\n",
       "    <tr>\n",
       "      <th>3748</th>\n",
       "      <td>the pfizer vaccine is now authorized for 12-15...</td>\n",
       "      <td>positive</td>\n",
       "      <td>1</td>\n",
       "    </tr>\n",
       "    <tr>\n",
       "      <th>3749</th>\n",
       "      <td>so enthusiastic and showing up for vaccine</td>\n",
       "      <td>positive</td>\n",
       "      <td>1</td>\n",
       "    </tr>\n",
       "  </tbody>\n",
       "</table>\n",
       "<p>3750 rows × 3 columns</p>\n",
       "</div>"
      ],
      "text/plain": [
       "                                                 tweets sentiment  label\n",
       "0     many americans lack critical thinking skills! ...  negative     -1\n",
       "1     coronavirus: germany has a problem with the va...  negative     -1\n",
       "2     you cannot get vaxxed when you already have co...  negative     -1\n",
       "3     shame on the provaxxers for their judgemental ...  negative     -1\n",
       "4                       someone died because of vaccine  negative     -1\n",
       "...                                                 ...       ...    ...\n",
       "3745  vaccination with sputnik v starts in patna, in...  positive      1\n",
       "3746          thanks to a great team, truly a blessing.  positive      1\n",
       "3747                       enthusiastic vaccine booster  positive      1\n",
       "3748  the pfizer vaccine is now authorized for 12-15...  positive      1\n",
       "3749         so enthusiastic and showing up for vaccine  positive      1\n",
       "\n",
       "[3750 rows x 3 columns]"
      ]
     },
     "execution_count": 28,
     "metadata": {},
     "output_type": "execute_result"
    }
   ],
   "source": [
    "df"
   ]
  },
  {
   "cell_type": "markdown",
   "metadata": {
    "id": "_TpF0yZdJYhJ"
   },
   "source": [
    "#   Clean Text"
   ]
  },
  {
   "cell_type": "code",
   "execution_count": 33,
   "metadata": {
    "executionInfo": {
     "elapsed": 375,
     "status": "ok",
     "timestamp": 1634961881838,
     "user": {
      "displayName": "Miondlicht",
      "photoUrl": "https://lh3.googleusercontent.com/a/default-user=s64",
      "userId": "03919276898062335465"
     },
     "user_tz": -420
    },
    "id": "9d5nYEbhJXQx"
   },
   "outputs": [],
   "source": [
    "special_char=re.compile(r'[-%<>.?!,;#:/\\\\()^~`$₹+\\'*&_{}=|0-9]')\n",
    "\n",
    "def get_wordnet_pos(word):\n",
    "    tag = nltk.pos_tag([word])[0][1][0].upper()\n",
    "    tag_dict = {\"J\": wordnet.ADJ,\n",
    "                \"N\": wordnet.NOUN,\n",
    "                \"V\": wordnet.VERB,\n",
    "                \"R\": wordnet.ADV}\n",
    "    return tag_dict.get(tag, wordnet.NOUN)\n",
    "\n",
    "def clean_text(tweet): \n",
    "    global special_char\n",
    "    lemmatizer = WordNetLemmatizer() \n",
    "    tweet = re.sub('@.*? |#.*? |@.*?: |@.*? |@.*?:|#.*?: |@.*?:|#.*?:', '', tweet)\n",
    "    #tweet = re.sub(\"[^a-zA-Z]\", \" \", tweet)\n",
    "    tweet = re.sub(r'[^\\x00-\\x7F]+',' ', tweet)\n",
    "    tweet = re.sub(r'https?:\\/\\/.*|http?:\\/\\/.*',\"\", tweet)\n",
    "    tweet = re.sub(r':', '', tweet)\n",
    "    tweet = re.sub(r'\"', '', tweet)\n",
    "    tweett = re.sub(r'amp', '', tweet)\n",
    "    tweet = re.sub(r'‚Ä¶', '', tweet)\n",
    "    tweet = re.sub(r'(http|https|ftp|ssh)://([\\w_-]+(?:(?:\\.[\\w_-]+)+))([\\w.,@?^=%&:/~+#-]*[\\w@?^=%&/~+#-])?', '' , tweet)\n",
    "    tweet = special_char.sub(r\" \",tweet)\n",
    "\n",
    "    word_tokens = word_tokenize(tweet)\n",
    "\n",
    "    filtered_tweet = []\n",
    "    for w in word_tokens:\n",
    "        if ((w not in string.punctuation)  and (len(w)>1)):\n",
    "            filtered_tweet.append(w)\n",
    "\n",
    "    \n",
    "    filtered_tweets=[lemmatizer.lemmatize(w, get_wordnet_pos(w)) for w in filtered_tweet]        \n",
    "    filtered_sentence = ' '.join(filtered_tweets)\n",
    "    return filtered_sentence"
   ]
  },
  {
   "cell_type": "code",
   "execution_count": 34,
   "metadata": {
    "colab": {
     "base_uri": "https://localhost:8080/",
     "height": 422
    },
    "executionInfo": {
     "elapsed": 8274,
     "status": "ok",
     "timestamp": 1634961901854,
     "user": {
      "displayName": "Miondlicht",
      "photoUrl": "https://lh3.googleusercontent.com/a/default-user=s64",
      "userId": "03919276898062335465"
     },
     "user_tz": -420
    },
    "id": "MYDdIYENNAKx",
    "outputId": "3738cc21-142a-44d9-d0b2-9e870dd31b45"
   },
   "outputs": [
    {
     "data": {
      "text/html": [
       "<div>\n",
       "<style scoped>\n",
       "    .dataframe tbody tr th:only-of-type {\n",
       "        vertical-align: middle;\n",
       "    }\n",
       "\n",
       "    .dataframe tbody tr th {\n",
       "        vertical-align: top;\n",
       "    }\n",
       "\n",
       "    .dataframe thead th {\n",
       "        text-align: right;\n",
       "    }\n",
       "</style>\n",
       "<table border=\"1\" class=\"dataframe\">\n",
       "  <thead>\n",
       "    <tr style=\"text-align: right;\">\n",
       "      <th></th>\n",
       "      <th>tweets</th>\n",
       "      <th>sentiment</th>\n",
       "      <th>label</th>\n",
       "    </tr>\n",
       "  </thead>\n",
       "  <tbody>\n",
       "    <tr>\n",
       "      <th>0</th>\n",
       "      <td>many american lack critical think skill stop l...</td>\n",
       "      <td>negative</td>\n",
       "      <td>-1</td>\n",
       "    </tr>\n",
       "    <tr>\n",
       "      <th>1</th>\n",
       "      <td>coronavirus germany have problem with the vacc...</td>\n",
       "      <td>negative</td>\n",
       "      <td>-1</td>\n",
       "    </tr>\n",
       "    <tr>\n",
       "      <th>2</th>\n",
       "      <td>you can not get vaxxed when you already have c...</td>\n",
       "      <td>negative</td>\n",
       "      <td>-1</td>\n",
       "    </tr>\n",
       "    <tr>\n",
       "      <th>3</th>\n",
       "      <td>shame on the provaxxers for their judgemental ...</td>\n",
       "      <td>negative</td>\n",
       "      <td>-1</td>\n",
       "    </tr>\n",
       "    <tr>\n",
       "      <th>4</th>\n",
       "      <td>someone die because of vaccine</td>\n",
       "      <td>negative</td>\n",
       "      <td>-1</td>\n",
       "    </tr>\n",
       "    <tr>\n",
       "      <th>...</th>\n",
       "      <td>...</td>\n",
       "      <td>...</td>\n",
       "      <td>...</td>\n",
       "    </tr>\n",
       "    <tr>\n",
       "      <th>3745</th>\n",
       "      <td>vaccination with sputnik start in patna india ...</td>\n",
       "      <td>positive</td>\n",
       "      <td>1</td>\n",
       "    </tr>\n",
       "    <tr>\n",
       "      <th>3746</th>\n",
       "      <td>thanks to great team truly blessing</td>\n",
       "      <td>positive</td>\n",
       "      <td>1</td>\n",
       "    </tr>\n",
       "    <tr>\n",
       "      <th>3747</th>\n",
       "      <td>enthusiastic vaccine booster</td>\n",
       "      <td>positive</td>\n",
       "      <td>1</td>\n",
       "    </tr>\n",
       "    <tr>\n",
       "      <th>3748</th>\n",
       "      <td>the pfizer vaccine be now authorize for year o...</td>\n",
       "      <td>positive</td>\n",
       "      <td>1</td>\n",
       "    </tr>\n",
       "    <tr>\n",
       "      <th>3749</th>\n",
       "      <td>so enthusiastic and show up for vaccine</td>\n",
       "      <td>positive</td>\n",
       "      <td>1</td>\n",
       "    </tr>\n",
       "  </tbody>\n",
       "</table>\n",
       "<p>3750 rows × 3 columns</p>\n",
       "</div>"
      ],
      "text/plain": [
       "                                                 tweets sentiment  label\n",
       "0     many american lack critical think skill stop l...  negative     -1\n",
       "1     coronavirus germany have problem with the vacc...  negative     -1\n",
       "2     you can not get vaxxed when you already have c...  negative     -1\n",
       "3     shame on the provaxxers for their judgemental ...  negative     -1\n",
       "4                        someone die because of vaccine  negative     -1\n",
       "...                                                 ...       ...    ...\n",
       "3745  vaccination with sputnik start in patna india ...  positive      1\n",
       "3746                thanks to great team truly blessing  positive      1\n",
       "3747                       enthusiastic vaccine booster  positive      1\n",
       "3748  the pfizer vaccine be now authorize for year o...  positive      1\n",
       "3749            so enthusiastic and show up for vaccine  positive      1\n",
       "\n",
       "[3750 rows x 3 columns]"
      ]
     },
     "execution_count": 34,
     "metadata": {},
     "output_type": "execute_result"
    }
   ],
   "source": [
    "df['tweets'] = df['tweets'].apply(clean_text)\n",
    "df"
   ]
  },
  {
   "cell_type": "markdown",
   "metadata": {
    "id": "OkUeOpyue3_D"
   },
   "source": [
    "# Upload"
   ]
  },
  {
   "cell_type": "code",
   "execution_count": 35,
   "metadata": {
    "colab": {
     "base_uri": "https://localhost:8080/",
     "height": 422
    },
    "executionInfo": {
     "elapsed": 337,
     "status": "ok",
     "timestamp": 1634961906028,
     "user": {
      "displayName": "Miondlicht",
      "photoUrl": "https://lh3.googleusercontent.com/a/default-user=s64",
      "userId": "03919276898062335465"
     },
     "user_tz": -420
    },
    "id": "5514_EO-hDSJ",
    "outputId": "f1645863-483f-42e8-b6a5-ce4b63a5b3db"
   },
   "outputs": [
    {
     "data": {
      "text/html": [
       "<div>\n",
       "<style scoped>\n",
       "    .dataframe tbody tr th:only-of-type {\n",
       "        vertical-align: middle;\n",
       "    }\n",
       "\n",
       "    .dataframe tbody tr th {\n",
       "        vertical-align: top;\n",
       "    }\n",
       "\n",
       "    .dataframe thead th {\n",
       "        text-align: right;\n",
       "    }\n",
       "</style>\n",
       "<table border=\"1\" class=\"dataframe\">\n",
       "  <thead>\n",
       "    <tr style=\"text-align: right;\">\n",
       "      <th></th>\n",
       "      <th>tweets</th>\n",
       "      <th>sentiment</th>\n",
       "      <th>label</th>\n",
       "    </tr>\n",
       "  </thead>\n",
       "  <tbody>\n",
       "    <tr>\n",
       "      <th>0</th>\n",
       "      <td>many american lack critical think skill stop l...</td>\n",
       "      <td>negative</td>\n",
       "      <td>-1</td>\n",
       "    </tr>\n",
       "    <tr>\n",
       "      <th>1</th>\n",
       "      <td>coronavirus germany have problem with the vacc...</td>\n",
       "      <td>negative</td>\n",
       "      <td>-1</td>\n",
       "    </tr>\n",
       "    <tr>\n",
       "      <th>2</th>\n",
       "      <td>you can not get vaxxed when you already have c...</td>\n",
       "      <td>negative</td>\n",
       "      <td>-1</td>\n",
       "    </tr>\n",
       "    <tr>\n",
       "      <th>3</th>\n",
       "      <td>shame on the provaxxers for their judgemental ...</td>\n",
       "      <td>negative</td>\n",
       "      <td>-1</td>\n",
       "    </tr>\n",
       "    <tr>\n",
       "      <th>4</th>\n",
       "      <td>someone die because of vaccine</td>\n",
       "      <td>negative</td>\n",
       "      <td>-1</td>\n",
       "    </tr>\n",
       "    <tr>\n",
       "      <th>...</th>\n",
       "      <td>...</td>\n",
       "      <td>...</td>\n",
       "      <td>...</td>\n",
       "    </tr>\n",
       "    <tr>\n",
       "      <th>3745</th>\n",
       "      <td>vaccination with sputnik start in patna india ...</td>\n",
       "      <td>positive</td>\n",
       "      <td>1</td>\n",
       "    </tr>\n",
       "    <tr>\n",
       "      <th>3746</th>\n",
       "      <td>thanks to great team truly blessing</td>\n",
       "      <td>positive</td>\n",
       "      <td>1</td>\n",
       "    </tr>\n",
       "    <tr>\n",
       "      <th>3747</th>\n",
       "      <td>enthusiastic vaccine booster</td>\n",
       "      <td>positive</td>\n",
       "      <td>1</td>\n",
       "    </tr>\n",
       "    <tr>\n",
       "      <th>3748</th>\n",
       "      <td>the pfizer vaccine be now authorize for year o...</td>\n",
       "      <td>positive</td>\n",
       "      <td>1</td>\n",
       "    </tr>\n",
       "    <tr>\n",
       "      <th>3749</th>\n",
       "      <td>so enthusiastic and show up for vaccine</td>\n",
       "      <td>positive</td>\n",
       "      <td>1</td>\n",
       "    </tr>\n",
       "  </tbody>\n",
       "</table>\n",
       "<p>3750 rows × 3 columns</p>\n",
       "</div>"
      ],
      "text/plain": [
       "                                                 tweets sentiment  label\n",
       "0     many american lack critical think skill stop l...  negative     -1\n",
       "1     coronavirus germany have problem with the vacc...  negative     -1\n",
       "2     you can not get vaxxed when you already have c...  negative     -1\n",
       "3     shame on the provaxxers for their judgemental ...  negative     -1\n",
       "4                        someone die because of vaccine  negative     -1\n",
       "...                                                 ...       ...    ...\n",
       "3745  vaccination with sputnik start in patna india ...  positive      1\n",
       "3746                thanks to great team truly blessing  positive      1\n",
       "3747                       enthusiastic vaccine booster  positive      1\n",
       "3748  the pfizer vaccine be now authorize for year o...  positive      1\n",
       "3749            so enthusiastic and show up for vaccine  positive      1\n",
       "\n",
       "[3750 rows x 3 columns]"
      ]
     },
     "execution_count": 35,
     "metadata": {},
     "output_type": "execute_result"
    }
   ],
   "source": [
    "df = df[['tweets', 'sentiment', 'label']]\n",
    "df"
   ]
  },
  {
   "cell_type": "code",
   "execution_count": 36,
   "metadata": {
    "colab": {
     "base_uri": "https://localhost:8080/",
     "height": 422
    },
    "executionInfo": {
     "elapsed": 459,
     "status": "ok",
     "timestamp": 1634961913542,
     "user": {
      "displayName": "Miondlicht",
      "photoUrl": "https://lh3.googleusercontent.com/a/default-user=s64",
      "userId": "03919276898062335465"
     },
     "user_tz": -420
    },
    "id": "6L93AVl1f6P7",
    "outputId": "fa9946de-3933-4f22-a3c5-964fa2c3ef38"
   },
   "outputs": [
    {
     "data": {
      "text/html": [
       "<div>\n",
       "<style scoped>\n",
       "    .dataframe tbody tr th:only-of-type {\n",
       "        vertical-align: middle;\n",
       "    }\n",
       "\n",
       "    .dataframe tbody tr th {\n",
       "        vertical-align: top;\n",
       "    }\n",
       "\n",
       "    .dataframe thead th {\n",
       "        text-align: right;\n",
       "    }\n",
       "</style>\n",
       "<table border=\"1\" class=\"dataframe\">\n",
       "  <thead>\n",
       "    <tr style=\"text-align: right;\">\n",
       "      <th></th>\n",
       "      <th>tweets</th>\n",
       "      <th>sentiment</th>\n",
       "      <th>label</th>\n",
       "    </tr>\n",
       "  </thead>\n",
       "  <tbody>\n",
       "    <tr>\n",
       "      <th>0</th>\n",
       "      <td>many american lack critical think skill stop l...</td>\n",
       "      <td>negative</td>\n",
       "      <td>-1</td>\n",
       "    </tr>\n",
       "    <tr>\n",
       "      <th>1</th>\n",
       "      <td>coronavirus germany have problem with the vacc...</td>\n",
       "      <td>negative</td>\n",
       "      <td>-1</td>\n",
       "    </tr>\n",
       "    <tr>\n",
       "      <th>2</th>\n",
       "      <td>you can not get vaxxed when you already have c...</td>\n",
       "      <td>negative</td>\n",
       "      <td>-1</td>\n",
       "    </tr>\n",
       "    <tr>\n",
       "      <th>3</th>\n",
       "      <td>shame on the provaxxers for their judgemental ...</td>\n",
       "      <td>negative</td>\n",
       "      <td>-1</td>\n",
       "    </tr>\n",
       "    <tr>\n",
       "      <th>4</th>\n",
       "      <td>someone die because of vaccine</td>\n",
       "      <td>negative</td>\n",
       "      <td>-1</td>\n",
       "    </tr>\n",
       "    <tr>\n",
       "      <th>...</th>\n",
       "      <td>...</td>\n",
       "      <td>...</td>\n",
       "      <td>...</td>\n",
       "    </tr>\n",
       "    <tr>\n",
       "      <th>3745</th>\n",
       "      <td>vaccination with sputnik start in patna india ...</td>\n",
       "      <td>positive</td>\n",
       "      <td>1</td>\n",
       "    </tr>\n",
       "    <tr>\n",
       "      <th>3746</th>\n",
       "      <td>thanks to great team truly blessing</td>\n",
       "      <td>positive</td>\n",
       "      <td>1</td>\n",
       "    </tr>\n",
       "    <tr>\n",
       "      <th>3747</th>\n",
       "      <td>enthusiastic vaccine booster</td>\n",
       "      <td>positive</td>\n",
       "      <td>1</td>\n",
       "    </tr>\n",
       "    <tr>\n",
       "      <th>3748</th>\n",
       "      <td>the pfizer vaccine be now authorize for year o...</td>\n",
       "      <td>positive</td>\n",
       "      <td>1</td>\n",
       "    </tr>\n",
       "    <tr>\n",
       "      <th>3749</th>\n",
       "      <td>so enthusiastic and show up for vaccine</td>\n",
       "      <td>positive</td>\n",
       "      <td>1</td>\n",
       "    </tr>\n",
       "  </tbody>\n",
       "</table>\n",
       "<p>3750 rows × 3 columns</p>\n",
       "</div>"
      ],
      "text/plain": [
       "                                                 tweets sentiment  label\n",
       "0     many american lack critical think skill stop l...  negative     -1\n",
       "1     coronavirus germany have problem with the vacc...  negative     -1\n",
       "2     you can not get vaxxed when you already have c...  negative     -1\n",
       "3     shame on the provaxxers for their judgemental ...  negative     -1\n",
       "4                        someone die because of vaccine  negative     -1\n",
       "...                                                 ...       ...    ...\n",
       "3745  vaccination with sputnik start in patna india ...  positive      1\n",
       "3746                thanks to great team truly blessing  positive      1\n",
       "3747                       enthusiastic vaccine booster  positive      1\n",
       "3748  the pfizer vaccine be now authorize for year o...  positive      1\n",
       "3749            so enthusiastic and show up for vaccine  positive      1\n",
       "\n",
       "[3750 rows x 3 columns]"
      ]
     },
     "execution_count": 36,
     "metadata": {},
     "output_type": "execute_result"
    }
   ],
   "source": [
    "df.to_csv('/content/drive/MyDrive/Colab Notebooks/TUGAS AKHIR /fixed_tweets.csv', encoding='latin1', index=False)\n",
    "df"
   ]
  },
  {
   "cell_type": "code",
   "execution_count": 32,
   "metadata": {
    "executionInfo": {
     "elapsed": 10,
     "status": "ok",
     "timestamp": 1634961581939,
     "user": {
      "displayName": "Miondlicht",
      "photoUrl": "https://lh3.googleusercontent.com/a/default-user=s64",
      "userId": "03919276898062335465"
     },
     "user_tz": -420
    },
    "id": "KXamjco0gxUT"
   },
   "outputs": [],
   "source": []
  }
 ],
 "metadata": {
  "colab": {
   "authorship_tag": "ABX9TyMnWcoY2tivVhCAHaul96kl",
   "mount_file_id": "1Tx3P9_Y6G-Js5QYYUWBxErOM5XXNmEW3",
   "name": "2.Preprocessing.ipynb",
   "provenance": []
  },
  "kernelspec": {
   "display_name": "Python 3",
   "language": "python",
   "name": "python3"
  },
  "language_info": {
   "codemirror_mode": {
    "name": "ipython",
    "version": 3
   },
   "file_extension": ".py",
   "mimetype": "text/x-python",
   "name": "python",
   "nbconvert_exporter": "python",
   "pygments_lexer": "ipython3",
   "version": "3.7.0"
  }
 },
 "nbformat": 4,
 "nbformat_minor": 1
}

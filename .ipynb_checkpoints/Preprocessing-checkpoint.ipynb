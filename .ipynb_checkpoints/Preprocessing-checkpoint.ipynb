{
 "cells": [
  {
   "cell_type": "code",
   "execution_count": 2,
   "metadata": {
    "executionInfo": {
     "elapsed": 1462,
     "status": "ok",
     "timestamp": 1634961562955,
     "user": {
      "displayName": "Miondlicht",
      "photoUrl": "https://lh3.googleusercontent.com/a/default-user=s64",
      "userId": "03919276898062335465"
     },
     "user_tz": -420
    },
    "id": "VLpA5OOYHXmE"
   },
   "outputs": [],
   "source": [
    "import pandas as pd\n",
    "import numpy as np\n",
    "import spacy\n",
    "from spacy.lang.en.stop_words import STOP_WORDS as stopwords\n",
    "import re\n",
    "import string\n",
    "from nltk.tokenize import word_tokenize\n",
    "from textblob import TextBlob,Word\n",
    "from nltk.corpus import words,wordnet\n",
    "from nltk.stem import WordNetLemmatizer"
   ]
  },
  {
   "cell_type": "code",
   "execution_count": 3,
   "metadata": {
    "colab": {
     "base_uri": "https://localhost:8080/"
    },
    "executionInfo": {
     "elapsed": 17,
     "status": "ok",
     "timestamp": 1634961562959,
     "user": {
      "displayName": "Miondlicht",
      "photoUrl": "https://lh3.googleusercontent.com/a/default-user=s64",
      "userId": "03919276898062335465"
     },
     "user_tz": -420
    },
    "id": "hZCDO2q9N4iX",
    "outputId": "702041b6-af09-4a8b-8072-5b4f783b5818"
   },
   "outputs": [
    {
     "name": "stdout",
     "output_type": "stream",
     "text": [
      "[nltk_data] Downloading package punkt to\n",
      "[nltk_data]     C:\\Users\\tyx\\AppData\\Roaming\\nltk_data...\n",
      "[nltk_data]   Package punkt is already up-to-date!\n",
      "[nltk_data] Downloading package averaged_perceptron_tagger to\n",
      "[nltk_data]     C:\\Users\\tyx\\AppData\\Roaming\\nltk_data...\n",
      "[nltk_data]   Unzipping taggers\\averaged_perceptron_tagger.zip.\n",
      "[nltk_data] Downloading package wordnet to\n",
      "[nltk_data]     C:\\Users\\tyx\\AppData\\Roaming\\nltk_data...\n",
      "[nltk_data]   Package wordnet is already up-to-date!\n"
     ]
    },
    {
     "data": {
      "text/plain": [
       "True"
      ]
     },
     "execution_count": 3,
     "metadata": {},
     "output_type": "execute_result"
    }
   ],
   "source": [
    "import nltk\n",
    "nltk.download('punkt')\n",
    "nltk.download('averaged_perceptron_tagger')\n",
    "nltk.download('wordnet')"
   ]
  },
  {
   "cell_type": "code",
   "execution_count": null,
   "metadata": {},
   "outputs": [],
   "source": [
    "from __future__ import print_function\n",
    "from __future__ import division\n",
    "from __future__ import absolute_import\n",
    " \n",
    "def delblankline(infile1, infile2, trainfile, validfile, testfile):\n",
    "    with open(infile1, 'r') as info1, open(infile2, 'r') as info2, \\\n",
    "            open(trainfile, 'w') as train, open(validfile, 'w') as valid, open(testfile, 'w') as test:\n",
    "        lines1 = info1.readlines()\n",
    "        lines2 = info2.readlines()\n",
    "        for i in range(1, len(lines1)):\n",
    "            t1 = lines1[i].replace(\"-LRB-\", \"(\")\n",
    "            t2 = t1.replace(\"-RRB-\", \")\")\n",
    "            k = lines2[i].strip().split(\",\")\n",
    "            t = t2.strip().split('\\t')\n",
    "            if k[1] == '1':\n",
    "                train.writelines(t[1])\n",
    "                train.writelines(\"\\n\")\n",
    "            elif k[1] == '2':\n",
    "                test.writelines(t[1])\n",
    "                test.writelines(\"\\n\")\n",
    "            elif k[1] == '3':\n",
    "                valid.writelines(t[1])\n",
    "                valid.writelines(\"\\n\")\n",
    "        print(\"end\")\n",
    "\n",
    "def tag_sentiment(infile,infile0, infile1, infile2):\n",
    "    # (\"sentiment_labels.txt\", \"dictionary.txt\", \"train.txt\",\"train_final.txt\")\n",
    "    with open(infile, 'r') as info, open(infile0, 'r') as info0, open(infile1, 'r') as info1, \\\n",
    "        open(infile2, 'w') as info2:\n",
    "        lines = info.readlines()\n",
    "        lines0 = info0.readlines()\n",
    "        lines1 = info1.readlines()\n",
    "        \n",
    "        text2id = {}\n",
    "        for i in range(0, len(lines0)):\n",
    "            s = lines0[i].strip().split(\"|\")\n",
    "            text2id[s[0]] = s[1]\n",
    " \n",
    "        id2sentiment = {}\n",
    "        for i in range(0, len(lines)):\n",
    "            s = lines[i].strip().split(\"|\")\n",
    "            id2sentiment[s[0]] = s[1]\n",
    "        \n",
    "        for line in lines1:\n",
    "            if line.strip() not in text2id:\n",
    "                print(line.strip())\n",
    "                # 由于特殊字符不匹配造成\n",
    "                continue\n",
    "            else:\n",
    "                text_id = text2id[line.strip()]\n",
    "            sentiment_score = id2sentiment[text_id]\n",
    "            info2.write(line.strip() + \"\\n\" + str(sentiment_score) + \"\\n\")\n",
    "        print(\"end3d1\")\n",
    " \n",
    " \n",
    "delblankline(\"datasetSentences.txt\", \"datasetSplit.txt\", \"train.txt\", \"valid.txt\", \"test.txt\")\n",
    "# 获取原始的训练集，测试集，验证集\n",
    "# train有8544条，dev有1101条，test有 2210条\n",
    "tag_sentiment(\"sentiment_labels.txt\", \"dictionary.txt\", \"train.txt\",\"train_final.txt\")\n",
    "tag_sentiment(\"sentiment_labels.txt\", \"dictionary.txt\", \"test.txt\",\"test_final.txt\")\n",
    "tag_sentiment(\"sentiment_labels.txt\", \"dictionary.txt\", \"valid.txt\",\"valid_final.txt\")\n",
    "# 获取训练集，测试集，验证集句子对应的情感值\n",
    "# 由于文本里面的特殊字符造成的不匹配，训练集，测试集，验证集会相对于上一步少几条"
   ]
  },
  {
   "cell_type": "markdown",
   "metadata": {
    "id": "K2MrZFpV2hAG"
   },
   "source": [
    "**Open Dataset**"
   ]
  },
  {
   "cell_type": "code",
   "execution_count": 4,
   "metadata": {
    "colab": {
     "base_uri": "https://localhost:8080/",
     "height": 422
    },
    "executionInfo": {
     "elapsed": 10,
     "status": "ok",
     "timestamp": 1634961562959,
     "user": {
      "displayName": "Miondlicht",
      "photoUrl": "https://lh3.googleusercontent.com/a/default-user=s64",
      "userId": "03919276898062335465"
     },
     "user_tz": -420
    },
    "id": "vPseXJ9iUW7r",
    "outputId": "1d0dcb58-426c-4035-b0de-cdf8a8d56589"
   },
   "outputs": [
    {
     "ename": "FileNotFoundError",
     "evalue": "File b'/content/drive/MyDrive/Colab Notebooks/TUGAS AKHIR /tweets.csv' does not exist",
     "output_type": "error",
     "traceback": [
      "\u001b[1;31m---------------------------------------------------------------------------\u001b[0m",
      "\u001b[1;31mFileNotFoundError\u001b[0m                         Traceback (most recent call last)",
      "\u001b[1;32m<ipython-input-4-2cce1b67caaf>\u001b[0m in \u001b[0;36m<module>\u001b[1;34m()\u001b[0m\n\u001b[1;32m----> 1\u001b[1;33m \u001b[0mdf\u001b[0m \u001b[1;33m=\u001b[0m \u001b[0mpd\u001b[0m\u001b[1;33m.\u001b[0m\u001b[0mread_csv\u001b[0m\u001b[1;33m(\u001b[0m\u001b[1;34m'/content/drive/MyDrive/Colab Notebooks/TUGAS AKHIR /tweets.csv'\u001b[0m\u001b[1;33m,\u001b[0m \u001b[0mencoding\u001b[0m\u001b[1;33m=\u001b[0m\u001b[1;34m'latin1'\u001b[0m\u001b[1;33m)\u001b[0m\u001b[1;33m\u001b[0m\u001b[0m\n\u001b[0m\u001b[0;32m      2\u001b[0m \u001b[0mdf\u001b[0m\u001b[1;33m\u001b[0m\u001b[0m\n",
      "\u001b[1;32m~\\Anaconda3\\lib\\site-packages\\pandas\\io\\parsers.py\u001b[0m in \u001b[0;36mparser_f\u001b[1;34m(filepath_or_buffer, sep, delimiter, header, names, index_col, usecols, squeeze, prefix, mangle_dupe_cols, dtype, engine, converters, true_values, false_values, skipinitialspace, skiprows, nrows, na_values, keep_default_na, na_filter, verbose, skip_blank_lines, parse_dates, infer_datetime_format, keep_date_col, date_parser, dayfirst, iterator, chunksize, compression, thousands, decimal, lineterminator, quotechar, quoting, escapechar, comment, encoding, dialect, tupleize_cols, error_bad_lines, warn_bad_lines, skipfooter, doublequote, delim_whitespace, low_memory, memory_map, float_precision)\u001b[0m\n\u001b[0;32m    676\u001b[0m                     skip_blank_lines=skip_blank_lines)\n\u001b[0;32m    677\u001b[0m \u001b[1;33m\u001b[0m\u001b[0m\n\u001b[1;32m--> 678\u001b[1;33m         \u001b[1;32mreturn\u001b[0m \u001b[0m_read\u001b[0m\u001b[1;33m(\u001b[0m\u001b[0mfilepath_or_buffer\u001b[0m\u001b[1;33m,\u001b[0m \u001b[0mkwds\u001b[0m\u001b[1;33m)\u001b[0m\u001b[1;33m\u001b[0m\u001b[0m\n\u001b[0m\u001b[0;32m    679\u001b[0m \u001b[1;33m\u001b[0m\u001b[0m\n\u001b[0;32m    680\u001b[0m     \u001b[0mparser_f\u001b[0m\u001b[1;33m.\u001b[0m\u001b[0m__name__\u001b[0m \u001b[1;33m=\u001b[0m \u001b[0mname\u001b[0m\u001b[1;33m\u001b[0m\u001b[0m\n",
      "\u001b[1;32m~\\Anaconda3\\lib\\site-packages\\pandas\\io\\parsers.py\u001b[0m in \u001b[0;36m_read\u001b[1;34m(filepath_or_buffer, kwds)\u001b[0m\n\u001b[0;32m    438\u001b[0m \u001b[1;33m\u001b[0m\u001b[0m\n\u001b[0;32m    439\u001b[0m     \u001b[1;31m# Create the parser.\u001b[0m\u001b[1;33m\u001b[0m\u001b[1;33m\u001b[0m\u001b[0m\n\u001b[1;32m--> 440\u001b[1;33m     \u001b[0mparser\u001b[0m \u001b[1;33m=\u001b[0m \u001b[0mTextFileReader\u001b[0m\u001b[1;33m(\u001b[0m\u001b[0mfilepath_or_buffer\u001b[0m\u001b[1;33m,\u001b[0m \u001b[1;33m**\u001b[0m\u001b[0mkwds\u001b[0m\u001b[1;33m)\u001b[0m\u001b[1;33m\u001b[0m\u001b[0m\n\u001b[0m\u001b[0;32m    441\u001b[0m \u001b[1;33m\u001b[0m\u001b[0m\n\u001b[0;32m    442\u001b[0m     \u001b[1;32mif\u001b[0m \u001b[0mchunksize\u001b[0m \u001b[1;32mor\u001b[0m \u001b[0miterator\u001b[0m\u001b[1;33m:\u001b[0m\u001b[1;33m\u001b[0m\u001b[0m\n",
      "\u001b[1;32m~\\Anaconda3\\lib\\site-packages\\pandas\\io\\parsers.py\u001b[0m in \u001b[0;36m__init__\u001b[1;34m(self, f, engine, **kwds)\u001b[0m\n\u001b[0;32m    785\u001b[0m             \u001b[0mself\u001b[0m\u001b[1;33m.\u001b[0m\u001b[0moptions\u001b[0m\u001b[1;33m[\u001b[0m\u001b[1;34m'has_index_names'\u001b[0m\u001b[1;33m]\u001b[0m \u001b[1;33m=\u001b[0m \u001b[0mkwds\u001b[0m\u001b[1;33m[\u001b[0m\u001b[1;34m'has_index_names'\u001b[0m\u001b[1;33m]\u001b[0m\u001b[1;33m\u001b[0m\u001b[0m\n\u001b[0;32m    786\u001b[0m \u001b[1;33m\u001b[0m\u001b[0m\n\u001b[1;32m--> 787\u001b[1;33m         \u001b[0mself\u001b[0m\u001b[1;33m.\u001b[0m\u001b[0m_make_engine\u001b[0m\u001b[1;33m(\u001b[0m\u001b[0mself\u001b[0m\u001b[1;33m.\u001b[0m\u001b[0mengine\u001b[0m\u001b[1;33m)\u001b[0m\u001b[1;33m\u001b[0m\u001b[0m\n\u001b[0m\u001b[0;32m    788\u001b[0m \u001b[1;33m\u001b[0m\u001b[0m\n\u001b[0;32m    789\u001b[0m     \u001b[1;32mdef\u001b[0m \u001b[0mclose\u001b[0m\u001b[1;33m(\u001b[0m\u001b[0mself\u001b[0m\u001b[1;33m)\u001b[0m\u001b[1;33m:\u001b[0m\u001b[1;33m\u001b[0m\u001b[0m\n",
      "\u001b[1;32m~\\Anaconda3\\lib\\site-packages\\pandas\\io\\parsers.py\u001b[0m in \u001b[0;36m_make_engine\u001b[1;34m(self, engine)\u001b[0m\n\u001b[0;32m   1012\u001b[0m     \u001b[1;32mdef\u001b[0m \u001b[0m_make_engine\u001b[0m\u001b[1;33m(\u001b[0m\u001b[0mself\u001b[0m\u001b[1;33m,\u001b[0m \u001b[0mengine\u001b[0m\u001b[1;33m=\u001b[0m\u001b[1;34m'c'\u001b[0m\u001b[1;33m)\u001b[0m\u001b[1;33m:\u001b[0m\u001b[1;33m\u001b[0m\u001b[0m\n\u001b[0;32m   1013\u001b[0m         \u001b[1;32mif\u001b[0m \u001b[0mengine\u001b[0m \u001b[1;33m==\u001b[0m \u001b[1;34m'c'\u001b[0m\u001b[1;33m:\u001b[0m\u001b[1;33m\u001b[0m\u001b[0m\n\u001b[1;32m-> 1014\u001b[1;33m             \u001b[0mself\u001b[0m\u001b[1;33m.\u001b[0m\u001b[0m_engine\u001b[0m \u001b[1;33m=\u001b[0m \u001b[0mCParserWrapper\u001b[0m\u001b[1;33m(\u001b[0m\u001b[0mself\u001b[0m\u001b[1;33m.\u001b[0m\u001b[0mf\u001b[0m\u001b[1;33m,\u001b[0m \u001b[1;33m**\u001b[0m\u001b[0mself\u001b[0m\u001b[1;33m.\u001b[0m\u001b[0moptions\u001b[0m\u001b[1;33m)\u001b[0m\u001b[1;33m\u001b[0m\u001b[0m\n\u001b[0m\u001b[0;32m   1015\u001b[0m         \u001b[1;32melse\u001b[0m\u001b[1;33m:\u001b[0m\u001b[1;33m\u001b[0m\u001b[0m\n\u001b[0;32m   1016\u001b[0m             \u001b[1;32mif\u001b[0m \u001b[0mengine\u001b[0m \u001b[1;33m==\u001b[0m \u001b[1;34m'python'\u001b[0m\u001b[1;33m:\u001b[0m\u001b[1;33m\u001b[0m\u001b[0m\n",
      "\u001b[1;32m~\\Anaconda3\\lib\\site-packages\\pandas\\io\\parsers.py\u001b[0m in \u001b[0;36m__init__\u001b[1;34m(self, src, **kwds)\u001b[0m\n\u001b[0;32m   1706\u001b[0m         \u001b[0mkwds\u001b[0m\u001b[1;33m[\u001b[0m\u001b[1;34m'usecols'\u001b[0m\u001b[1;33m]\u001b[0m \u001b[1;33m=\u001b[0m \u001b[0mself\u001b[0m\u001b[1;33m.\u001b[0m\u001b[0musecols\u001b[0m\u001b[1;33m\u001b[0m\u001b[0m\n\u001b[0;32m   1707\u001b[0m \u001b[1;33m\u001b[0m\u001b[0m\n\u001b[1;32m-> 1708\u001b[1;33m         \u001b[0mself\u001b[0m\u001b[1;33m.\u001b[0m\u001b[0m_reader\u001b[0m \u001b[1;33m=\u001b[0m \u001b[0mparsers\u001b[0m\u001b[1;33m.\u001b[0m\u001b[0mTextReader\u001b[0m\u001b[1;33m(\u001b[0m\u001b[0msrc\u001b[0m\u001b[1;33m,\u001b[0m \u001b[1;33m**\u001b[0m\u001b[0mkwds\u001b[0m\u001b[1;33m)\u001b[0m\u001b[1;33m\u001b[0m\u001b[0m\n\u001b[0m\u001b[0;32m   1709\u001b[0m \u001b[1;33m\u001b[0m\u001b[0m\n\u001b[0;32m   1710\u001b[0m         \u001b[0mpassed_names\u001b[0m \u001b[1;33m=\u001b[0m \u001b[0mself\u001b[0m\u001b[1;33m.\u001b[0m\u001b[0mnames\u001b[0m \u001b[1;32mis\u001b[0m \u001b[1;32mNone\u001b[0m\u001b[1;33m\u001b[0m\u001b[0m\n",
      "\u001b[1;32mpandas\\_libs\\parsers.pyx\u001b[0m in \u001b[0;36mpandas._libs.parsers.TextReader.__cinit__\u001b[1;34m()\u001b[0m\n",
      "\u001b[1;32mpandas\\_libs\\parsers.pyx\u001b[0m in \u001b[0;36mpandas._libs.parsers.TextReader._setup_parser_source\u001b[1;34m()\u001b[0m\n",
      "\u001b[1;31mFileNotFoundError\u001b[0m: File b'/content/drive/MyDrive/Colab Notebooks/TUGAS AKHIR /tweets.csv' does not exist"
     ]
    }
   ],
   "source": [
    "df = pd.read_csv('/content/drive/MyDrive/Colab Notebooks/TUGAS AKHIR /tweets.csv', encoding='latin1')\n",
    "df"
   ]
  },
  {
   "cell_type": "code",
   "execution_count": 4,
   "metadata": {
    "colab": {
     "base_uri": "https://localhost:8080/"
    },
    "executionInfo": {
     "elapsed": 10,
     "status": "ok",
     "timestamp": 1634961562960,
     "user": {
      "displayName": "Miondlicht",
      "photoUrl": "https://lh3.googleusercontent.com/a/default-user=s64",
      "userId": "03919276898062335465"
     },
     "user_tz": -420
    },
    "id": "pNI7OJlnNZcV",
    "outputId": "d10f5dae-217c-47dc-b170-39619ecf1a71"
   },
   "outputs": [
    {
     "data": {
      "text/plain": [
       "positive    1250\n",
       "negative    1250\n",
       "neutral     1250\n",
       "Name: sentiment, dtype: int64"
      ]
     },
     "execution_count": 4,
     "metadata": {},
     "output_type": "execute_result"
    }
   ],
   "source": [
    "df['sentiment'].value_counts()"
   ]
  },
  {
   "cell_type": "markdown",
   "metadata": {
    "id": "clQu6lOABk9x"
   },
   "source": [
    "# Lowercase Conversion"
   ]
  },
  {
   "cell_type": "code",
   "execution_count": 5,
   "metadata": {
    "executionInfo": {
     "elapsed": 8,
     "status": "ok",
     "timestamp": 1634961562960,
     "user": {
      "displayName": "Miondlicht",
      "photoUrl": "https://lh3.googleusercontent.com/a/default-user=s64",
      "userId": "03919276898062335465"
     },
     "user_tz": -420
    },
    "id": "DHj940zxBi3P"
   },
   "outputs": [],
   "source": [
    "df['tweets'] = df['tweets'].apply(lambda x : str(x).lower())"
   ]
  },
  {
   "cell_type": "code",
   "execution_count": 6,
   "metadata": {
    "colab": {
     "base_uri": "https://localhost:8080/",
     "height": 205
    },
    "executionInfo": {
     "elapsed": 8,
     "status": "ok",
     "timestamp": 1634961562960,
     "user": {
      "displayName": "Miondlicht",
      "photoUrl": "https://lh3.googleusercontent.com/a/default-user=s64",
      "userId": "03919276898062335465"
     },
     "user_tz": -420
    },
    "id": "vymAq1DEC4X9",
    "outputId": "d36b8e7d-6f23-4497-d9b6-8837caa0e30c"
   },
   "outputs": [
    {
     "data": {
      "text/html": [
       "<div>\n",
       "<style scoped>\n",
       "    .dataframe tbody tr th:only-of-type {\n",
       "        vertical-align: middle;\n",
       "    }\n",
       "\n",
       "    .dataframe tbody tr th {\n",
       "        vertical-align: top;\n",
       "    }\n",
       "\n",
       "    .dataframe thead th {\n",
       "        text-align: right;\n",
       "    }\n",
       "</style>\n",
       "<table border=\"1\" class=\"dataframe\">\n",
       "  <thead>\n",
       "    <tr style=\"text-align: right;\">\n",
       "      <th></th>\n",
       "      <th>tweets</th>\n",
       "      <th>sentiment</th>\n",
       "      <th>label</th>\n",
       "    </tr>\n",
       "  </thead>\n",
       "  <tbody>\n",
       "    <tr>\n",
       "      <th>2943</th>\n",
       "      <td>i was lucky</td>\n",
       "      <td>positive</td>\n",
       "      <td>1</td>\n",
       "    </tr>\n",
       "    <tr>\n",
       "      <th>3486</th>\n",
       "      <td>feeling very optimistic</td>\n",
       "      <td>positive</td>\n",
       "      <td>1</td>\n",
       "    </tr>\n",
       "    <tr>\n",
       "      <th>3416</th>\n",
       "      <td>i just booked my vaccine booster for next week...</td>\n",
       "      <td>positive</td>\n",
       "      <td>1</td>\n",
       "    </tr>\n",
       "    <tr>\n",
       "      <th>1511</th>\n",
       "      <td>thinking of getting the covid vaccine? here's ...</td>\n",
       "      <td>neutral</td>\n",
       "      <td>0</td>\n",
       "    </tr>\n",
       "    <tr>\n",
       "      <th>1843</th>\n",
       "      <td>covid-19 vaccination centre in. check out the ...</td>\n",
       "      <td>neutral</td>\n",
       "      <td>0</td>\n",
       "    </tr>\n",
       "  </tbody>\n",
       "</table>\n",
       "</div>"
      ],
      "text/plain": [
       "                                                 tweets sentiment  label\n",
       "2943                                       i was lucky   positive      1\n",
       "3486                            feeling very optimistic  positive      1\n",
       "3416  i just booked my vaccine booster for next week...  positive      1\n",
       "1511  thinking of getting the covid vaccine? here's ...   neutral      0\n",
       "1843  covid-19 vaccination centre in. check out the ...   neutral      0"
      ]
     },
     "execution_count": 6,
     "metadata": {},
     "output_type": "execute_result"
    }
   ],
   "source": [
    "df.sample(5)"
   ]
  },
  {
   "cell_type": "markdown",
   "metadata": {
    "id": "WhebDZGqDJNd"
   },
   "source": [
    "# Contraction to Expasion"
   ]
  },
  {
   "cell_type": "code",
   "execution_count": 7,
   "metadata": {
    "executionInfo": {
     "elapsed": 7,
     "status": "ok",
     "timestamp": 1634961562960,
     "user": {
      "displayName": "Miondlicht",
      "photoUrl": "https://lh3.googleusercontent.com/a/default-user=s64",
      "userId": "03919276898062335465"
     },
     "user_tz": -420
    },
    "id": "bBJA-hEEC8Uc"
   },
   "outputs": [],
   "source": [
    "contractions = {\n",
    "\"ain't\": \"am not\",\n",
    "\"aren't\": \"are not\",\n",
    "\"can't\": \"can not\",\n",
    "\"can't've\": \"can not have\",\n",
    "\"'cause\": \"because\",\n",
    "\"could've\": \"could have\",\n",
    "\"couldn't\": \"could not\",\n",
    "\"couldn't've\": \"could not have\",\n",
    "\"didn't\": \"did not\",\n",
    "\"doesn't\": \"does not\",\n",
    "\"don't\": \"do not\",\n",
    "\"hadn't\": \"had not\",\n",
    "\"hadn't've\": \"had not have\",\n",
    "\"hasn't\": \"has not\",\n",
    "\"haven't\": \"have not\",\n",
    "\"he'd\": \"he would\",\n",
    "\"he'd've\": \"he would have\",\n",
    "\"he'll\": \"he will\",\n",
    "\"he'll've\": \"he will have\",\n",
    "\"he's\": \"he is\",\n",
    "\"how'd\": \"how did\",\n",
    "\"how're\": \"how are\",\n",
    "\"how'd'y\": \"how do you\",\n",
    "\"how'll\": \"how will\",\n",
    "\"how's\": \"how is\",\n",
    "\"i'd\": \"I would\",\n",
    "\"i'd've\": \"I would have\",\n",
    "\"i'll\": \"I will\",\n",
    "\"i'll've\": \"I will have\",\n",
    "\"i'm\": \"I am\",\n",
    "\"i've\": \"I have\",\n",
    "\"isn't\": \"is not\",\n",
    "\"it'd\": \"it would\",\n",
    "\"it'd've\": \"it would have\",\n",
    "\"it'll\": \"it will\",\n",
    "\"it'll've\": \"it will have\",\n",
    "\"it's\": \"it is\",\n",
    "\"let's\": \"let us\",\n",
    "\"ma'am\": \"madam\",\n",
    "\"mayn't\": \"may not\",\n",
    "\"might've\": \"might have\",\n",
    "\"mightn't\": \"might not\",\n",
    "\"mightn't've\": \"might not have\",\n",
    "\"must've\": \"must have\",\n",
    "\"mustn't\": \"must not\",\n",
    "\"mustn't've\": \"must not have\",\n",
    "\"needn't\": \"need not\",\n",
    "\"needn't've\": \"need not have\",\n",
    "\"o'clock\": \"of the clock\",\n",
    "\"oughtn't\": \"ought not\",\n",
    "\"oughtn't've\": \"ought not have\",\n",
    "\"shan't\": \"shall not\",\n",
    "\"sha'n't\": \"shall not\",\n",
    "\"shan't've\": \"shall not have\",\n",
    "\"she'd\": \"she would\",\n",
    "\"she'd've\": \"she would have\",\n",
    "\"she'll\": \"she will\",\n",
    "\"she'll've\": \"she will have\",\n",
    "\"she's\": \"she is\",\n",
    "\"should've\": \"should have\",\n",
    "\"shouldn't\": \"should not\",\n",
    "\"shouldn't've\": \"should not have\",\n",
    "\"so've\": \"so have\",\n",
    "\"so's\": \"so is\",\n",
    "\"that'd\": \"that would\",\n",
    "\"that'd've\": \"that would have\",\n",
    "\"that's\": \"that is\",\n",
    "\"there'd\": \"there would\",\n",
    "\"there'd've\": \"there would have\",\n",
    "\"there's\": \"there is\",\n",
    "\"they'd\": \"they would\",\n",
    "\"they'd've\": \"they would have\",\n",
    "\"they'll\": \"they will\",\n",
    "\"they'll've\": \"they will have\",\n",
    "\"they're\": \"they are\",\n",
    "\"they've\": \"they have\",\n",
    "\"to've\": \"to have\",\n",
    "\"wasn't\": \"was not\",\n",
    "\"we'd\": \"we would\",\n",
    "\"we'd've\": \"we would have\",\n",
    "\"we'll\": \"we will\",\n",
    "\"we'll've\": \"we will have\",\n",
    "\"we're\": \"we are\",\n",
    "\"we've\": \"we have\",\n",
    "\"weren't\": \"were not\",\n",
    "\"what'll\": \"what will\",\n",
    "\"what'll've\": \"what will have\",\n",
    "\"what're\": \"what are\",\n",
    "\"what's\": \"what is\",\n",
    "\"what've\": \"what have\",\n",
    "\"when's\": \"when is\",\n",
    "\"when've\": \"when have\",\n",
    "\"where'd\": \"where did\",\n",
    "\"where's\": \"where is\",\n",
    "\"where've\": \"where have\",\n",
    "\"who'll\": \"who will\",\n",
    "\"who'll've\": \"who will have\",\n",
    "\"who's\": \"who is\",\n",
    "\"who've\": \"who have\",\n",
    "\"why's\": \"why is\",\n",
    "\"why've\": \"why have\",\n",
    "\"will've\": \"will have\",\n",
    "\"won't\": \"will not\",\n",
    "\"won't've\": \"will not have\",\n",
    "\"would've\": \"would have\",\n",
    "\"wouldn't\": \"would not\",\n",
    "\"wouldn't've\": \"would not have\",\n",
    "\"y'all\": \"you all\",\n",
    "\"y'all'd\": \"you all would\",\n",
    "\"y'all'd've\": \"you all would have\",\n",
    "\"y'all're\": \"you all are\",\n",
    "\"y'all've\": \"you all have\",\n",
    "\"you'd\": \"you would\",\n",
    "\"you'd've\": \"you would have\",\n",
    "\"you'll\": \"you will\",\n",
    "\"you'll've\": \"you shall have\",\n",
    "\"you're\": \"you are\",\n",
    "\"you've\": \"you have\"\n",
    "}"
   ]
  },
  {
   "cell_type": "code",
   "execution_count": 8,
   "metadata": {
    "executionInfo": {
     "elapsed": 8,
     "status": "ok",
     "timestamp": 1634961562961,
     "user": {
      "displayName": "Miondlicht",
      "photoUrl": "https://lh3.googleusercontent.com/a/default-user=s64",
      "userId": "03919276898062335465"
     },
     "user_tz": -420
    },
    "id": "RkB6PQwN6oIc"
   },
   "outputs": [],
   "source": [
    "def cont_to_exp(x):\n",
    "    if type(x) is str:\n",
    "        for key in contractions:\n",
    "            value = contractions[key]\n",
    "            x = x.replace(key, value)\n",
    "        return x \n",
    "    else:\n",
    "        return x"
   ]
  },
  {
   "cell_type": "code",
   "execution_count": 9,
   "metadata": {
    "colab": {
     "base_uri": "https://localhost:8080/",
     "height": 35
    },
    "executionInfo": {
     "elapsed": 8,
     "status": "ok",
     "timestamp": 1634961562961,
     "user": {
      "displayName": "Miondlicht",
      "photoUrl": "https://lh3.googleusercontent.com/a/default-user=s64",
      "userId": "03919276898062335465"
     },
     "user_tz": -420
    },
    "id": "l-nOmZDF8YbF",
    "outputId": "58108eef-16a2-4986-c06c-9bdb88ac5952"
   },
   "outputs": [
    {
     "data": {
      "application/vnd.google.colaboratory.intrinsic+json": {
       "type": "string"
      },
      "text/plain": [
       "'am not happy'"
      ]
     },
     "execution_count": 9,
     "metadata": {},
     "output_type": "execute_result"
    }
   ],
   "source": [
    "ex = \"ain't happy\"\n",
    "cont_to_exp(ex)"
   ]
  },
  {
   "cell_type": "code",
   "execution_count": 10,
   "metadata": {
    "colab": {
     "base_uri": "https://localhost:8080/"
    },
    "executionInfo": {
     "elapsed": 8257,
     "status": "ok",
     "timestamp": 1634961571211,
     "user": {
      "displayName": "Miondlicht",
      "photoUrl": "https://lh3.googleusercontent.com/a/default-user=s64",
      "userId": "03919276898062335465"
     },
     "user_tz": -420
    },
    "id": "qKDfWay18okF",
    "outputId": "0a3299a2-5299-48eb-e24c-b4f2abce5c13"
   },
   "outputs": [
    {
     "name": "stdout",
     "output_type": "stream",
     "text": [
      "10 loops, best of 5: 131 ms per loop\n"
     ]
    }
   ],
   "source": [
    "%%timeit\n",
    "df['tweets'] = df['tweets'].apply(lambda x : cont_to_exp(x))"
   ]
  },
  {
   "cell_type": "code",
   "execution_count": 11,
   "metadata": {
    "colab": {
     "base_uri": "https://localhost:8080/",
     "height": 205
    },
    "executionInfo": {
     "elapsed": 51,
     "status": "ok",
     "timestamp": 1634961571214,
     "user": {
      "displayName": "Miondlicht",
      "photoUrl": "https://lh3.googleusercontent.com/a/default-user=s64",
      "userId": "03919276898062335465"
     },
     "user_tz": -420
    },
    "id": "u8uQIdgW9qU1",
    "outputId": "d02b7579-be68-48f4-ee5e-f491531662bc"
   },
   "outputs": [
    {
     "data": {
      "text/html": [
       "<div>\n",
       "<style scoped>\n",
       "    .dataframe tbody tr th:only-of-type {\n",
       "        vertical-align: middle;\n",
       "    }\n",
       "\n",
       "    .dataframe tbody tr th {\n",
       "        vertical-align: top;\n",
       "    }\n",
       "\n",
       "    .dataframe thead th {\n",
       "        text-align: right;\n",
       "    }\n",
       "</style>\n",
       "<table border=\"1\" class=\"dataframe\">\n",
       "  <thead>\n",
       "    <tr style=\"text-align: right;\">\n",
       "      <th></th>\n",
       "      <th>tweets</th>\n",
       "      <th>sentiment</th>\n",
       "      <th>label</th>\n",
       "    </tr>\n",
       "  </thead>\n",
       "  <tbody>\n",
       "    <tr>\n",
       "      <th>1950</th>\n",
       "      <td>read more on the new year's eve 80% vaccinatio...</td>\n",
       "      <td>neutral</td>\n",
       "      <td>0</td>\n",
       "    </tr>\n",
       "    <tr>\n",
       "      <th>1225</th>\n",
       "      <td>covid vaccine i hate you so bad</td>\n",
       "      <td>negative</td>\n",
       "      <td>-1</td>\n",
       "    </tr>\n",
       "    <tr>\n",
       "      <th>1951</th>\n",
       "      <td>the united arab emirates authorizes the sputni...</td>\n",
       "      <td>neutral</td>\n",
       "      <td>0</td>\n",
       "    </tr>\n",
       "    <tr>\n",
       "      <th>2767</th>\n",
       "      <td>interesting... very, very interesting...??????...</td>\n",
       "      <td>positive</td>\n",
       "      <td>1</td>\n",
       "    </tr>\n",
       "    <tr>\n",
       "      <th>3052</th>\n",
       "      <td>some good news for covid vaccine</td>\n",
       "      <td>positive</td>\n",
       "      <td>1</td>\n",
       "    </tr>\n",
       "  </tbody>\n",
       "</table>\n",
       "</div>"
      ],
      "text/plain": [
       "                                                 tweets sentiment  label\n",
       "1950  read more on the new year's eve 80% vaccinatio...   neutral      0\n",
       "1225                   covid vaccine i hate you so bad   negative     -1\n",
       "1951  the united arab emirates authorizes the sputni...   neutral      0\n",
       "2767  interesting... very, very interesting...??????...  positive      1\n",
       "3052                   some good news for covid vaccine  positive      1"
      ]
     },
     "execution_count": 11,
     "metadata": {},
     "output_type": "execute_result"
    }
   ],
   "source": [
    "df.sample(5)"
   ]
  },
  {
   "cell_type": "markdown",
   "metadata": {
    "id": "WDoLthM-IcHM"
   },
   "source": [
    "# Remove RT"
   ]
  },
  {
   "cell_type": "code",
   "execution_count": 12,
   "metadata": {
    "colab": {
     "base_uri": "https://localhost:8080/",
     "height": 112
    },
    "executionInfo": {
     "elapsed": 46,
     "status": "ok",
     "timestamp": 1634961571214,
     "user": {
      "displayName": "Miondlicht",
      "photoUrl": "https://lh3.googleusercontent.com/a/default-user=s64",
      "userId": "03919276898062335465"
     },
     "user_tz": -420
    },
    "id": "h4-IWWbqIH4v",
    "outputId": "0d3bf80b-4150-4485-902b-bafab6b90f71"
   },
   "outputs": [
    {
     "data": {
      "text/html": [
       "<div>\n",
       "<style scoped>\n",
       "    .dataframe tbody tr th:only-of-type {\n",
       "        vertical-align: middle;\n",
       "    }\n",
       "\n",
       "    .dataframe tbody tr th {\n",
       "        vertical-align: top;\n",
       "    }\n",
       "\n",
       "    .dataframe thead th {\n",
       "        text-align: right;\n",
       "    }\n",
       "</style>\n",
       "<table border=\"1\" class=\"dataframe\">\n",
       "  <thead>\n",
       "    <tr style=\"text-align: right;\">\n",
       "      <th></th>\n",
       "      <th>tweets</th>\n",
       "      <th>sentiment</th>\n",
       "      <th>label</th>\n",
       "    </tr>\n",
       "  </thead>\n",
       "  <tbody>\n",
       "    <tr>\n",
       "      <th>1528</th>\n",
       "      <td>b'rt @surreyplaceon: people with intellectual ...</td>\n",
       "      <td>neutral</td>\n",
       "      <td>0</td>\n",
       "    </tr>\n",
       "    <tr>\n",
       "      <th>2963</th>\n",
       "      <td>rt @rainnwilson: i love science and am so grat...</td>\n",
       "      <td>positive</td>\n",
       "      <td>1</td>\n",
       "    </tr>\n",
       "  </tbody>\n",
       "</table>\n",
       "</div>"
      ],
      "text/plain": [
       "                                                 tweets sentiment  label\n",
       "1528  b'rt @surreyplaceon: people with intellectual ...   neutral      0\n",
       "2963  rt @rainnwilson: i love science and am so grat...  positive      1"
      ]
     },
     "execution_count": 12,
     "metadata": {},
     "output_type": "execute_result"
    }
   ],
   "source": [
    "df[df['tweets'].str.contains('rt @')]"
   ]
  },
  {
   "cell_type": "code",
   "execution_count": 13,
   "metadata": {
    "executionInfo": {
     "elapsed": 45,
     "status": "ok",
     "timestamp": 1634961571215,
     "user": {
      "displayName": "Miondlicht",
      "photoUrl": "https://lh3.googleusercontent.com/a/default-user=s64",
      "userId": "03919276898062335465"
     },
     "user_tz": -420
    },
    "id": "Bm1HhwVdIgSb"
   },
   "outputs": [],
   "source": [
    "x = 'rt@username: hello hirt'"
   ]
  },
  {
   "cell_type": "code",
   "execution_count": 14,
   "metadata": {
    "colab": {
     "base_uri": "https://localhost:8080/",
     "height": 35
    },
    "executionInfo": {
     "elapsed": 43,
     "status": "ok",
     "timestamp": 1634961571215,
     "user": {
      "displayName": "Miondlicht",
      "photoUrl": "https://lh3.googleusercontent.com/a/default-user=s64",
      "userId": "03919276898062335465"
     },
     "user_tz": -420
    },
    "id": "DmhSHmqrJRdn",
    "outputId": "d831ad82-f625-4762-ac9b-30a6bcd50b44"
   },
   "outputs": [
    {
     "data": {
      "application/vnd.google.colaboratory.intrinsic+json": {
       "type": "string"
      },
      "text/plain": [
       "'@username: hello hirt'"
      ]
     },
     "execution_count": 14,
     "metadata": {},
     "output_type": "execute_result"
    }
   ],
   "source": [
    "re.sub(r'\\brt\\b', '', x).strip()"
   ]
  },
  {
   "cell_type": "code",
   "execution_count": 15,
   "metadata": {
    "colab": {
     "base_uri": "https://localhost:8080/",
     "height": 35
    },
    "executionInfo": {
     "elapsed": 42,
     "status": "ok",
     "timestamp": 1634961571216,
     "user": {
      "displayName": "Miondlicht",
      "photoUrl": "https://lh3.googleusercontent.com/a/default-user=s64",
      "userId": "03919276898062335465"
     },
     "user_tz": -420
    },
    "id": "xdcdCPcPKGWw",
    "outputId": "ffdc13a5-fd14-4279-c327-2d59543976a3"
   },
   "outputs": [
    {
     "data": {
      "application/vnd.google.colaboratory.intrinsic+json": {
       "type": "string"
      },
      "text/plain": [
       "'@surreyplaceon: people hirt,  @username: hello hirt'"
      ]
     },
     "execution_count": 15,
     "metadata": {},
     "output_type": "execute_result"
    }
   ],
   "source": [
    "y = \"b'rt @surreyplaceon: people hirt, rt @username: hello hirt\"\n",
    "re.sub(r\"\\bb'rt\\b|\\brt\\b\", \"\", y).strip()"
   ]
  },
  {
   "cell_type": "code",
   "execution_count": 16,
   "metadata": {
    "executionInfo": {
     "elapsed": 39,
     "status": "ok",
     "timestamp": 1634961571216,
     "user": {
      "displayName": "Miondlicht",
      "photoUrl": "https://lh3.googleusercontent.com/a/default-user=s64",
      "userId": "03919276898062335465"
     },
     "user_tz": -420
    },
    "id": "KPuMbMr_FYPO"
   },
   "outputs": [],
   "source": [
    "df['tweets'] = df['tweets'].apply(lambda x: re.sub(r\"\\bb'rt\\b |\\brt\\b\", \"\", x).strip())"
   ]
  },
  {
   "cell_type": "code",
   "execution_count": 17,
   "metadata": {
    "colab": {
     "base_uri": "https://localhost:8080/",
     "height": 81
    },
    "executionInfo": {
     "elapsed": 39,
     "status": "ok",
     "timestamp": 1634961571216,
     "user": {
      "displayName": "Miondlicht",
      "photoUrl": "https://lh3.googleusercontent.com/a/default-user=s64",
      "userId": "03919276898062335465"
     },
     "user_tz": -420
    },
    "id": "5h-Z7IObJkJQ",
    "outputId": "62cf6172-2436-4e27-ec46-e145ac8ea348"
   },
   "outputs": [
    {
     "data": {
      "text/html": [
       "<div>\n",
       "<style scoped>\n",
       "    .dataframe tbody tr th:only-of-type {\n",
       "        vertical-align: middle;\n",
       "    }\n",
       "\n",
       "    .dataframe tbody tr th {\n",
       "        vertical-align: top;\n",
       "    }\n",
       "\n",
       "    .dataframe thead th {\n",
       "        text-align: right;\n",
       "    }\n",
       "</style>\n",
       "<table border=\"1\" class=\"dataframe\">\n",
       "  <thead>\n",
       "    <tr style=\"text-align: right;\">\n",
       "      <th></th>\n",
       "      <th>tweets</th>\n",
       "      <th>sentiment</th>\n",
       "      <th>label</th>\n",
       "    </tr>\n",
       "  </thead>\n",
       "  <tbody>\n",
       "    <tr>\n",
       "      <th>1528</th>\n",
       "      <td>@surreyplaceon: people with intellectual &amp;amp;...</td>\n",
       "      <td>neutral</td>\n",
       "      <td>0</td>\n",
       "    </tr>\n",
       "  </tbody>\n",
       "</table>\n",
       "</div>"
      ],
      "text/plain": [
       "                                                 tweets sentiment  label\n",
       "1528  @surreyplaceon: people with intellectual &amp;...   neutral      0"
      ]
     },
     "execution_count": 17,
     "metadata": {},
     "output_type": "execute_result"
    }
   ],
   "source": [
    "df.iloc[[1528]]"
   ]
  },
  {
   "cell_type": "code",
   "execution_count": 18,
   "metadata": {
    "colab": {
     "base_uri": "https://localhost:8080/",
     "height": 81
    },
    "executionInfo": {
     "elapsed": 37,
     "status": "ok",
     "timestamp": 1634961571216,
     "user": {
      "displayName": "Miondlicht",
      "photoUrl": "https://lh3.googleusercontent.com/a/default-user=s64",
      "userId": "03919276898062335465"
     },
     "user_tz": -420
    },
    "id": "8mGjA60sJz17",
    "outputId": "e509635a-29db-432a-fca4-84441cc007b9"
   },
   "outputs": [
    {
     "data": {
      "text/html": [
       "<div>\n",
       "<style scoped>\n",
       "    .dataframe tbody tr th:only-of-type {\n",
       "        vertical-align: middle;\n",
       "    }\n",
       "\n",
       "    .dataframe tbody tr th {\n",
       "        vertical-align: top;\n",
       "    }\n",
       "\n",
       "    .dataframe thead th {\n",
       "        text-align: right;\n",
       "    }\n",
       "</style>\n",
       "<table border=\"1\" class=\"dataframe\">\n",
       "  <thead>\n",
       "    <tr style=\"text-align: right;\">\n",
       "      <th></th>\n",
       "      <th>tweets</th>\n",
       "      <th>sentiment</th>\n",
       "      <th>label</th>\n",
       "    </tr>\n",
       "  </thead>\n",
       "  <tbody>\n",
       "    <tr>\n",
       "      <th>2963</th>\n",
       "      <td>@rainnwilson: i love science and am so gratefu...</td>\n",
       "      <td>positive</td>\n",
       "      <td>1</td>\n",
       "    </tr>\n",
       "  </tbody>\n",
       "</table>\n",
       "</div>"
      ],
      "text/plain": [
       "                                                 tweets sentiment  label\n",
       "2963  @rainnwilson: i love science and am so gratefu...  positive      1"
      ]
     },
     "execution_count": 18,
     "metadata": {},
     "output_type": "execute_result"
    }
   ],
   "source": [
    "df.iloc[[2963]]"
   ]
  },
  {
   "cell_type": "code",
   "execution_count": 18,
   "metadata": {
    "executionInfo": {
     "elapsed": 36,
     "status": "ok",
     "timestamp": 1634961571217,
     "user": {
      "displayName": "Miondlicht",
      "photoUrl": "https://lh3.googleusercontent.com/a/default-user=s64",
      "userId": "03919276898062335465"
     },
     "user_tz": -420
    },
    "id": "7vazgpMJLldc"
   },
   "outputs": [],
   "source": []
  },
  {
   "cell_type": "markdown",
   "metadata": {
    "id": "q3ftKJfMXRaR"
   },
   "source": [
    "# Remove multiple spaces"
   ]
  },
  {
   "cell_type": "code",
   "execution_count": 19,
   "metadata": {
    "executionInfo": {
     "elapsed": 36,
     "status": "ok",
     "timestamp": 1634961571217,
     "user": {
      "displayName": "Miondlicht",
      "photoUrl": "https://lh3.googleusercontent.com/a/default-user=s64",
      "userId": "03919276898062335465"
     },
     "user_tz": -420
    },
    "id": "8VtDbjq9XVem"
   },
   "outputs": [],
   "source": [
    "x =  'hi    hello     how are you'"
   ]
  },
  {
   "cell_type": "code",
   "execution_count": 20,
   "metadata": {
    "colab": {
     "base_uri": "https://localhost:8080/",
     "height": 0
    },
    "executionInfo": {
     "elapsed": 35,
     "status": "ok",
     "timestamp": 1634961571217,
     "user": {
      "displayName": "Miondlicht",
      "photoUrl": "https://lh3.googleusercontent.com/a/default-user=s64",
      "userId": "03919276898062335465"
     },
     "user_tz": -420
    },
    "id": "GBewzRuXXfga",
    "outputId": "183be29b-2909-4ae5-a9c6-cd5445871045"
   },
   "outputs": [
    {
     "data": {
      "application/vnd.google.colaboratory.intrinsic+json": {
       "type": "string"
      },
      "text/plain": [
       "'hi hello how are you'"
      ]
     },
     "execution_count": 20,
     "metadata": {},
     "output_type": "execute_result"
    }
   ],
   "source": [
    "' '.join(x.split())"
   ]
  },
  {
   "cell_type": "code",
   "execution_count": 21,
   "metadata": {
    "executionInfo": {
     "elapsed": 35,
     "status": "ok",
     "timestamp": 1634961571218,
     "user": {
      "displayName": "Miondlicht",
      "photoUrl": "https://lh3.googleusercontent.com/a/default-user=s64",
      "userId": "03919276898062335465"
     },
     "user_tz": -420
    },
    "id": "VUawzzNcXiSm"
   },
   "outputs": [],
   "source": [
    "df['tweets'] = df['tweets'].apply(lambda x: ' '.join(x.split()))"
   ]
  },
  {
   "cell_type": "code",
   "execution_count": 22,
   "metadata": {
    "colab": {
     "base_uri": "https://localhost:8080/",
     "height": 0
    },
    "executionInfo": {
     "elapsed": 34,
     "status": "ok",
     "timestamp": 1634961571218,
     "user": {
      "displayName": "Miondlicht",
      "photoUrl": "https://lh3.googleusercontent.com/a/default-user=s64",
      "userId": "03919276898062335465"
     },
     "user_tz": -420
    },
    "id": "W8BXI4r-XqGO",
    "outputId": "f9f66ca0-eaf5-4d84-e5c4-4d057a1cba92"
   },
   "outputs": [
    {
     "data": {
      "text/html": [
       "<div>\n",
       "<style scoped>\n",
       "    .dataframe tbody tr th:only-of-type {\n",
       "        vertical-align: middle;\n",
       "    }\n",
       "\n",
       "    .dataframe tbody tr th {\n",
       "        vertical-align: top;\n",
       "    }\n",
       "\n",
       "    .dataframe thead th {\n",
       "        text-align: right;\n",
       "    }\n",
       "</style>\n",
       "<table border=\"1\" class=\"dataframe\">\n",
       "  <thead>\n",
       "    <tr style=\"text-align: right;\">\n",
       "      <th></th>\n",
       "      <th>tweets</th>\n",
       "      <th>sentiment</th>\n",
       "      <th>label</th>\n",
       "    </tr>\n",
       "  </thead>\n",
       "  <tbody>\n",
       "    <tr>\n",
       "      <th>0</th>\n",
       "      <td>many americans lack critical thinking skills! ...</td>\n",
       "      <td>negative</td>\n",
       "      <td>-1</td>\n",
       "    </tr>\n",
       "    <tr>\n",
       "      <th>1</th>\n",
       "      <td>coronavirus: germany has a problem with the va...</td>\n",
       "      <td>negative</td>\n",
       "      <td>-1</td>\n",
       "    </tr>\n",
       "    <tr>\n",
       "      <th>2</th>\n",
       "      <td>you cannot get vaxxed when you already have co...</td>\n",
       "      <td>negative</td>\n",
       "      <td>-1</td>\n",
       "    </tr>\n",
       "    <tr>\n",
       "      <th>3</th>\n",
       "      <td>shame on the provaxxers for their judgemental ...</td>\n",
       "      <td>negative</td>\n",
       "      <td>-1</td>\n",
       "    </tr>\n",
       "    <tr>\n",
       "      <th>4</th>\n",
       "      <td>someone died because of vaccine</td>\n",
       "      <td>negative</td>\n",
       "      <td>-1</td>\n",
       "    </tr>\n",
       "    <tr>\n",
       "      <th>...</th>\n",
       "      <td>...</td>\n",
       "      <td>...</td>\n",
       "      <td>...</td>\n",
       "    </tr>\n",
       "    <tr>\n",
       "      <th>3745</th>\n",
       "      <td>vaccination with sputnik v starts in patna, in...</td>\n",
       "      <td>positive</td>\n",
       "      <td>1</td>\n",
       "    </tr>\n",
       "    <tr>\n",
       "      <th>3746</th>\n",
       "      <td>thanks to a great team, truly a blessing.</td>\n",
       "      <td>positive</td>\n",
       "      <td>1</td>\n",
       "    </tr>\n",
       "    <tr>\n",
       "      <th>3747</th>\n",
       "      <td>enthusiastic vaccine booster</td>\n",
       "      <td>positive</td>\n",
       "      <td>1</td>\n",
       "    </tr>\n",
       "    <tr>\n",
       "      <th>3748</th>\n",
       "      <td>the pfizer vaccine is now authorized for 12-15...</td>\n",
       "      <td>positive</td>\n",
       "      <td>1</td>\n",
       "    </tr>\n",
       "    <tr>\n",
       "      <th>3749</th>\n",
       "      <td>so enthusiastic and showing up for vaccine</td>\n",
       "      <td>positive</td>\n",
       "      <td>1</td>\n",
       "    </tr>\n",
       "  </tbody>\n",
       "</table>\n",
       "<p>3750 rows × 3 columns</p>\n",
       "</div>"
      ],
      "text/plain": [
       "                                                 tweets sentiment  label\n",
       "0     many americans lack critical thinking skills! ...  negative     -1\n",
       "1     coronavirus: germany has a problem with the va...  negative     -1\n",
       "2     you cannot get vaxxed when you already have co...  negative     -1\n",
       "3     shame on the provaxxers for their judgemental ...  negative     -1\n",
       "4                       someone died because of vaccine  negative     -1\n",
       "...                                                 ...       ...    ...\n",
       "3745  vaccination with sputnik v starts in patna, in...  positive      1\n",
       "3746          thanks to a great team, truly a blessing.  positive      1\n",
       "3747                       enthusiastic vaccine booster  positive      1\n",
       "3748  the pfizer vaccine is now authorized for 12-15...  positive      1\n",
       "3749         so enthusiastic and showing up for vaccine  positive      1\n",
       "\n",
       "[3750 rows x 3 columns]"
      ]
     },
     "execution_count": 22,
     "metadata": {},
     "output_type": "execute_result"
    }
   ],
   "source": [
    "df"
   ]
  },
  {
   "cell_type": "code",
   "execution_count": 22,
   "metadata": {
    "executionInfo": {
     "elapsed": 33,
     "status": "ok",
     "timestamp": 1634961571219,
     "user": {
      "displayName": "Miondlicht",
      "photoUrl": "https://lh3.googleusercontent.com/a/default-user=s64",
      "userId": "03919276898062335465"
     },
     "user_tz": -420
    },
    "id": "TdWIjp9EXqyo"
   },
   "outputs": [],
   "source": []
  },
  {
   "cell_type": "markdown",
   "metadata": {
    "id": "wuVc5nLEY2F-"
   },
   "source": [
    "# Remove Accented Chars"
   ]
  },
  {
   "cell_type": "code",
   "execution_count": 23,
   "metadata": {
    "executionInfo": {
     "elapsed": 33,
     "status": "ok",
     "timestamp": 1634961571219,
     "user": {
      "displayName": "Miondlicht",
      "photoUrl": "https://lh3.googleusercontent.com/a/default-user=s64",
      "userId": "03919276898062335465"
     },
     "user_tz": -420
    },
    "id": "ah4MttsTY7hc"
   },
   "outputs": [],
   "source": [
    "x = 'Áccěntěd těxt'"
   ]
  },
  {
   "cell_type": "code",
   "execution_count": 24,
   "metadata": {
    "executionInfo": {
     "elapsed": 32,
     "status": "ok",
     "timestamp": 1634961571219,
     "user": {
      "displayName": "Miondlicht",
      "photoUrl": "https://lh3.googleusercontent.com/a/default-user=s64",
      "userId": "03919276898062335465"
     },
     "user_tz": -420
    },
    "id": "uAsUKQHxZBbD"
   },
   "outputs": [],
   "source": [
    "import unicodedata"
   ]
  },
  {
   "cell_type": "code",
   "execution_count": 25,
   "metadata": {
    "executionInfo": {
     "elapsed": 32,
     "status": "ok",
     "timestamp": 1634961571219,
     "user": {
      "displayName": "Miondlicht",
      "photoUrl": "https://lh3.googleusercontent.com/a/default-user=s64",
      "userId": "03919276898062335465"
     },
     "user_tz": -420
    },
    "id": "R3PrxmVwZClm"
   },
   "outputs": [],
   "source": [
    "def remove_accented_chars(x):\n",
    "    x = unicodedata.normalize('NFKD', x).encode('ascii', 'ignore').decode('utf-8', 'ignore')\n",
    "    return x"
   ]
  },
  {
   "cell_type": "code",
   "execution_count": 26,
   "metadata": {
    "colab": {
     "base_uri": "https://localhost:8080/",
     "height": 0
    },
    "executionInfo": {
     "elapsed": 32,
     "status": "ok",
     "timestamp": 1634961571220,
     "user": {
      "displayName": "Miondlicht",
      "photoUrl": "https://lh3.googleusercontent.com/a/default-user=s64",
      "userId": "03919276898062335465"
     },
     "user_tz": -420
    },
    "id": "Lk-UY0tVZGDN",
    "outputId": "0cfb049a-ddbb-4ad3-f553-0d9816bf40d2"
   },
   "outputs": [
    {
     "data": {
      "application/vnd.google.colaboratory.intrinsic+json": {
       "type": "string"
      },
      "text/plain": [
       "'Accented text'"
      ]
     },
     "execution_count": 26,
     "metadata": {},
     "output_type": "execute_result"
    }
   ],
   "source": [
    "remove_accented_chars(x)"
   ]
  },
  {
   "cell_type": "code",
   "execution_count": 27,
   "metadata": {
    "executionInfo": {
     "elapsed": 577,
     "status": "ok",
     "timestamp": 1634961571766,
     "user": {
      "displayName": "Miondlicht",
      "photoUrl": "https://lh3.googleusercontent.com/a/default-user=s64",
      "userId": "03919276898062335465"
     },
     "user_tz": -420
    },
    "id": "PWnKnAaJZHvj"
   },
   "outputs": [],
   "source": [
    "df['tweets'] = df['tweets'].apply(lambda x: remove_accented_chars(x))"
   ]
  },
  {
   "cell_type": "code",
   "execution_count": 28,
   "metadata": {
    "colab": {
     "base_uri": "https://localhost:8080/",
     "height": 0
    },
    "executionInfo": {
     "elapsed": 581,
     "status": "ok",
     "timestamp": 1634961571770,
     "user": {
      "displayName": "Miondlicht",
      "photoUrl": "https://lh3.googleusercontent.com/a/default-user=s64",
      "userId": "03919276898062335465"
     },
     "user_tz": -420
    },
    "id": "mrH9JNPCZLd2",
    "outputId": "10ff4b7b-f686-41f8-ca9c-71959cbec207"
   },
   "outputs": [
    {
     "data": {
      "text/html": [
       "<div>\n",
       "<style scoped>\n",
       "    .dataframe tbody tr th:only-of-type {\n",
       "        vertical-align: middle;\n",
       "    }\n",
       "\n",
       "    .dataframe tbody tr th {\n",
       "        vertical-align: top;\n",
       "    }\n",
       "\n",
       "    .dataframe thead th {\n",
       "        text-align: right;\n",
       "    }\n",
       "</style>\n",
       "<table border=\"1\" class=\"dataframe\">\n",
       "  <thead>\n",
       "    <tr style=\"text-align: right;\">\n",
       "      <th></th>\n",
       "      <th>tweets</th>\n",
       "      <th>sentiment</th>\n",
       "      <th>label</th>\n",
       "    </tr>\n",
       "  </thead>\n",
       "  <tbody>\n",
       "    <tr>\n",
       "      <th>0</th>\n",
       "      <td>many americans lack critical thinking skills! ...</td>\n",
       "      <td>negative</td>\n",
       "      <td>-1</td>\n",
       "    </tr>\n",
       "    <tr>\n",
       "      <th>1</th>\n",
       "      <td>coronavirus: germany has a problem with the va...</td>\n",
       "      <td>negative</td>\n",
       "      <td>-1</td>\n",
       "    </tr>\n",
       "    <tr>\n",
       "      <th>2</th>\n",
       "      <td>you cannot get vaxxed when you already have co...</td>\n",
       "      <td>negative</td>\n",
       "      <td>-1</td>\n",
       "    </tr>\n",
       "    <tr>\n",
       "      <th>3</th>\n",
       "      <td>shame on the provaxxers for their judgemental ...</td>\n",
       "      <td>negative</td>\n",
       "      <td>-1</td>\n",
       "    </tr>\n",
       "    <tr>\n",
       "      <th>4</th>\n",
       "      <td>someone died because of vaccine</td>\n",
       "      <td>negative</td>\n",
       "      <td>-1</td>\n",
       "    </tr>\n",
       "    <tr>\n",
       "      <th>...</th>\n",
       "      <td>...</td>\n",
       "      <td>...</td>\n",
       "      <td>...</td>\n",
       "    </tr>\n",
       "    <tr>\n",
       "      <th>3745</th>\n",
       "      <td>vaccination with sputnik v starts in patna, in...</td>\n",
       "      <td>positive</td>\n",
       "      <td>1</td>\n",
       "    </tr>\n",
       "    <tr>\n",
       "      <th>3746</th>\n",
       "      <td>thanks to a great team, truly a blessing.</td>\n",
       "      <td>positive</td>\n",
       "      <td>1</td>\n",
       "    </tr>\n",
       "    <tr>\n",
       "      <th>3747</th>\n",
       "      <td>enthusiastic vaccine booster</td>\n",
       "      <td>positive</td>\n",
       "      <td>1</td>\n",
       "    </tr>\n",
       "    <tr>\n",
       "      <th>3748</th>\n",
       "      <td>the pfizer vaccine is now authorized for 12-15...</td>\n",
       "      <td>positive</td>\n",
       "      <td>1</td>\n",
       "    </tr>\n",
       "    <tr>\n",
       "      <th>3749</th>\n",
       "      <td>so enthusiastic and showing up for vaccine</td>\n",
       "      <td>positive</td>\n",
       "      <td>1</td>\n",
       "    </tr>\n",
       "  </tbody>\n",
       "</table>\n",
       "<p>3750 rows × 3 columns</p>\n",
       "</div>"
      ],
      "text/plain": [
       "                                                 tweets sentiment  label\n",
       "0     many americans lack critical thinking skills! ...  negative     -1\n",
       "1     coronavirus: germany has a problem with the va...  negative     -1\n",
       "2     you cannot get vaxxed when you already have co...  negative     -1\n",
       "3     shame on the provaxxers for their judgemental ...  negative     -1\n",
       "4                       someone died because of vaccine  negative     -1\n",
       "...                                                 ...       ...    ...\n",
       "3745  vaccination with sputnik v starts in patna, in...  positive      1\n",
       "3746          thanks to a great team, truly a blessing.  positive      1\n",
       "3747                       enthusiastic vaccine booster  positive      1\n",
       "3748  the pfizer vaccine is now authorized for 12-15...  positive      1\n",
       "3749         so enthusiastic and showing up for vaccine  positive      1\n",
       "\n",
       "[3750 rows x 3 columns]"
      ]
     },
     "execution_count": 28,
     "metadata": {},
     "output_type": "execute_result"
    }
   ],
   "source": [
    "df"
   ]
  },
  {
   "cell_type": "markdown",
   "metadata": {
    "id": "_TpF0yZdJYhJ"
   },
   "source": [
    "#   Clean Text"
   ]
  },
  {
   "cell_type": "code",
   "execution_count": 33,
   "metadata": {
    "executionInfo": {
     "elapsed": 375,
     "status": "ok",
     "timestamp": 1634961881838,
     "user": {
      "displayName": "Miondlicht",
      "photoUrl": "https://lh3.googleusercontent.com/a/default-user=s64",
      "userId": "03919276898062335465"
     },
     "user_tz": -420
    },
    "id": "9d5nYEbhJXQx"
   },
   "outputs": [],
   "source": [
    "special_char=re.compile(r'[-%<>.?!,;#:/\\\\()^~`$₹+\\'*&_{}=|0-9]')\n",
    "\n",
    "def get_wordnet_pos(word):\n",
    "    tag = nltk.pos_tag([word])[0][1][0].upper()\n",
    "    tag_dict = {\"J\": wordnet.ADJ,\n",
    "                \"N\": wordnet.NOUN,\n",
    "                \"V\": wordnet.VERB,\n",
    "                \"R\": wordnet.ADV}\n",
    "    return tag_dict.get(tag, wordnet.NOUN)\n",
    "\n",
    "def clean_text(tweet): \n",
    "    global special_char\n",
    "    lemmatizer = WordNetLemmatizer() \n",
    "    tweet = re.sub('@.*? |#.*? |@.*?: |@.*? |@.*?:|#.*?: |@.*?:|#.*?:', '', tweet)\n",
    "    #tweet = re.sub(\"[^a-zA-Z]\", \" \", tweet)\n",
    "    tweet = re.sub(r'[^\\x00-\\x7F]+',' ', tweet)\n",
    "    tweet = re.sub(r'https?:\\/\\/.*|http?:\\/\\/.*',\"\", tweet)\n",
    "    tweet = re.sub(r':', '', tweet)\n",
    "    tweet = re.sub(r'\"', '', tweet)\n",
    "    tweett = re.sub(r'amp', '', tweet)\n",
    "    tweet = re.sub(r'‚Ä¶', '', tweet)\n",
    "    tweet = re.sub(r'(http|https|ftp|ssh)://([\\w_-]+(?:(?:\\.[\\w_-]+)+))([\\w.,@?^=%&:/~+#-]*[\\w@?^=%&/~+#-])?', '' , tweet)\n",
    "    tweet = special_char.sub(r\" \",tweet)\n",
    "\n",
    "    word_tokens = word_tokenize(tweet)\n",
    "\n",
    "    filtered_tweet = []\n",
    "    for w in word_tokens:\n",
    "        if ((w not in string.punctuation)  and (len(w)>1)):\n",
    "            filtered_tweet.append(w)\n",
    "\n",
    "    \n",
    "    filtered_tweets=[lemmatizer.lemmatize(w, get_wordnet_pos(w)) for w in filtered_tweet]        \n",
    "    filtered_sentence = ' '.join(filtered_tweets)\n",
    "    return filtered_sentence"
   ]
  },
  {
   "cell_type": "code",
   "execution_count": 34,
   "metadata": {
    "colab": {
     "base_uri": "https://localhost:8080/",
     "height": 422
    },
    "executionInfo": {
     "elapsed": 8274,
     "status": "ok",
     "timestamp": 1634961901854,
     "user": {
      "displayName": "Miondlicht",
      "photoUrl": "https://lh3.googleusercontent.com/a/default-user=s64",
      "userId": "03919276898062335465"
     },
     "user_tz": -420
    },
    "id": "MYDdIYENNAKx",
    "outputId": "3738cc21-142a-44d9-d0b2-9e870dd31b45"
   },
   "outputs": [
    {
     "data": {
      "text/html": [
       "<div>\n",
       "<style scoped>\n",
       "    .dataframe tbody tr th:only-of-type {\n",
       "        vertical-align: middle;\n",
       "    }\n",
       "\n",
       "    .dataframe tbody tr th {\n",
       "        vertical-align: top;\n",
       "    }\n",
       "\n",
       "    .dataframe thead th {\n",
       "        text-align: right;\n",
       "    }\n",
       "</style>\n",
       "<table border=\"1\" class=\"dataframe\">\n",
       "  <thead>\n",
       "    <tr style=\"text-align: right;\">\n",
       "      <th></th>\n",
       "      <th>tweets</th>\n",
       "      <th>sentiment</th>\n",
       "      <th>label</th>\n",
       "    </tr>\n",
       "  </thead>\n",
       "  <tbody>\n",
       "    <tr>\n",
       "      <th>0</th>\n",
       "      <td>many american lack critical think skill stop l...</td>\n",
       "      <td>negative</td>\n",
       "      <td>-1</td>\n",
       "    </tr>\n",
       "    <tr>\n",
       "      <th>1</th>\n",
       "      <td>coronavirus germany have problem with the vacc...</td>\n",
       "      <td>negative</td>\n",
       "      <td>-1</td>\n",
       "    </tr>\n",
       "    <tr>\n",
       "      <th>2</th>\n",
       "      <td>you can not get vaxxed when you already have c...</td>\n",
       "      <td>negative</td>\n",
       "      <td>-1</td>\n",
       "    </tr>\n",
       "    <tr>\n",
       "      <th>3</th>\n",
       "      <td>shame on the provaxxers for their judgemental ...</td>\n",
       "      <td>negative</td>\n",
       "      <td>-1</td>\n",
       "    </tr>\n",
       "    <tr>\n",
       "      <th>4</th>\n",
       "      <td>someone die because of vaccine</td>\n",
       "      <td>negative</td>\n",
       "      <td>-1</td>\n",
       "    </tr>\n",
       "    <tr>\n",
       "      <th>...</th>\n",
       "      <td>...</td>\n",
       "      <td>...</td>\n",
       "      <td>...</td>\n",
       "    </tr>\n",
       "    <tr>\n",
       "      <th>3745</th>\n",
       "      <td>vaccination with sputnik start in patna india ...</td>\n",
       "      <td>positive</td>\n",
       "      <td>1</td>\n",
       "    </tr>\n",
       "    <tr>\n",
       "      <th>3746</th>\n",
       "      <td>thanks to great team truly blessing</td>\n",
       "      <td>positive</td>\n",
       "      <td>1</td>\n",
       "    </tr>\n",
       "    <tr>\n",
       "      <th>3747</th>\n",
       "      <td>enthusiastic vaccine booster</td>\n",
       "      <td>positive</td>\n",
       "      <td>1</td>\n",
       "    </tr>\n",
       "    <tr>\n",
       "      <th>3748</th>\n",
       "      <td>the pfizer vaccine be now authorize for year o...</td>\n",
       "      <td>positive</td>\n",
       "      <td>1</td>\n",
       "    </tr>\n",
       "    <tr>\n",
       "      <th>3749</th>\n",
       "      <td>so enthusiastic and show up for vaccine</td>\n",
       "      <td>positive</td>\n",
       "      <td>1</td>\n",
       "    </tr>\n",
       "  </tbody>\n",
       "</table>\n",
       "<p>3750 rows × 3 columns</p>\n",
       "</div>"
      ],
      "text/plain": [
       "                                                 tweets sentiment  label\n",
       "0     many american lack critical think skill stop l...  negative     -1\n",
       "1     coronavirus germany have problem with the vacc...  negative     -1\n",
       "2     you can not get vaxxed when you already have c...  negative     -1\n",
       "3     shame on the provaxxers for their judgemental ...  negative     -1\n",
       "4                        someone die because of vaccine  negative     -1\n",
       "...                                                 ...       ...    ...\n",
       "3745  vaccination with sputnik start in patna india ...  positive      1\n",
       "3746                thanks to great team truly blessing  positive      1\n",
       "3747                       enthusiastic vaccine booster  positive      1\n",
       "3748  the pfizer vaccine be now authorize for year o...  positive      1\n",
       "3749            so enthusiastic and show up for vaccine  positive      1\n",
       "\n",
       "[3750 rows x 3 columns]"
      ]
     },
     "execution_count": 34,
     "metadata": {},
     "output_type": "execute_result"
    }
   ],
   "source": [
    "df['tweets'] = df['tweets'].apply(clean_text)\n",
    "df"
   ]
  },
  {
   "cell_type": "markdown",
   "metadata": {
    "id": "OkUeOpyue3_D"
   },
   "source": [
    "# Upload"
   ]
  },
  {
   "cell_type": "code",
   "execution_count": 35,
   "metadata": {
    "colab": {
     "base_uri": "https://localhost:8080/",
     "height": 422
    },
    "executionInfo": {
     "elapsed": 337,
     "status": "ok",
     "timestamp": 1634961906028,
     "user": {
      "displayName": "Miondlicht",
      "photoUrl": "https://lh3.googleusercontent.com/a/default-user=s64",
      "userId": "03919276898062335465"
     },
     "user_tz": -420
    },
    "id": "5514_EO-hDSJ",
    "outputId": "f1645863-483f-42e8-b6a5-ce4b63a5b3db"
   },
   "outputs": [
    {
     "data": {
      "text/html": [
       "<div>\n",
       "<style scoped>\n",
       "    .dataframe tbody tr th:only-of-type {\n",
       "        vertical-align: middle;\n",
       "    }\n",
       "\n",
       "    .dataframe tbody tr th {\n",
       "        vertical-align: top;\n",
       "    }\n",
       "\n",
       "    .dataframe thead th {\n",
       "        text-align: right;\n",
       "    }\n",
       "</style>\n",
       "<table border=\"1\" class=\"dataframe\">\n",
       "  <thead>\n",
       "    <tr style=\"text-align: right;\">\n",
       "      <th></th>\n",
       "      <th>tweets</th>\n",
       "      <th>sentiment</th>\n",
       "      <th>label</th>\n",
       "    </tr>\n",
       "  </thead>\n",
       "  <tbody>\n",
       "    <tr>\n",
       "      <th>0</th>\n",
       "      <td>many american lack critical think skill stop l...</td>\n",
       "      <td>negative</td>\n",
       "      <td>-1</td>\n",
       "    </tr>\n",
       "    <tr>\n",
       "      <th>1</th>\n",
       "      <td>coronavirus germany have problem with the vacc...</td>\n",
       "      <td>negative</td>\n",
       "      <td>-1</td>\n",
       "    </tr>\n",
       "    <tr>\n",
       "      <th>2</th>\n",
       "      <td>you can not get vaxxed when you already have c...</td>\n",
       "      <td>negative</td>\n",
       "      <td>-1</td>\n",
       "    </tr>\n",
       "    <tr>\n",
       "      <th>3</th>\n",
       "      <td>shame on the provaxxers for their judgemental ...</td>\n",
       "      <td>negative</td>\n",
       "      <td>-1</td>\n",
       "    </tr>\n",
       "    <tr>\n",
       "      <th>4</th>\n",
       "      <td>someone die because of vaccine</td>\n",
       "      <td>negative</td>\n",
       "      <td>-1</td>\n",
       "    </tr>\n",
       "    <tr>\n",
       "      <th>...</th>\n",
       "      <td>...</td>\n",
       "      <td>...</td>\n",
       "      <td>...</td>\n",
       "    </tr>\n",
       "    <tr>\n",
       "      <th>3745</th>\n",
       "      <td>vaccination with sputnik start in patna india ...</td>\n",
       "      <td>positive</td>\n",
       "      <td>1</td>\n",
       "    </tr>\n",
       "    <tr>\n",
       "      <th>3746</th>\n",
       "      <td>thanks to great team truly blessing</td>\n",
       "      <td>positive</td>\n",
       "      <td>1</td>\n",
       "    </tr>\n",
       "    <tr>\n",
       "      <th>3747</th>\n",
       "      <td>enthusiastic vaccine booster</td>\n",
       "      <td>positive</td>\n",
       "      <td>1</td>\n",
       "    </tr>\n",
       "    <tr>\n",
       "      <th>3748</th>\n",
       "      <td>the pfizer vaccine be now authorize for year o...</td>\n",
       "      <td>positive</td>\n",
       "      <td>1</td>\n",
       "    </tr>\n",
       "    <tr>\n",
       "      <th>3749</th>\n",
       "      <td>so enthusiastic and show up for vaccine</td>\n",
       "      <td>positive</td>\n",
       "      <td>1</td>\n",
       "    </tr>\n",
       "  </tbody>\n",
       "</table>\n",
       "<p>3750 rows × 3 columns</p>\n",
       "</div>"
      ],
      "text/plain": [
       "                                                 tweets sentiment  label\n",
       "0     many american lack critical think skill stop l...  negative     -1\n",
       "1     coronavirus germany have problem with the vacc...  negative     -1\n",
       "2     you can not get vaxxed when you already have c...  negative     -1\n",
       "3     shame on the provaxxers for their judgemental ...  negative     -1\n",
       "4                        someone die because of vaccine  negative     -1\n",
       "...                                                 ...       ...    ...\n",
       "3745  vaccination with sputnik start in patna india ...  positive      1\n",
       "3746                thanks to great team truly blessing  positive      1\n",
       "3747                       enthusiastic vaccine booster  positive      1\n",
       "3748  the pfizer vaccine be now authorize for year o...  positive      1\n",
       "3749            so enthusiastic and show up for vaccine  positive      1\n",
       "\n",
       "[3750 rows x 3 columns]"
      ]
     },
     "execution_count": 35,
     "metadata": {},
     "output_type": "execute_result"
    }
   ],
   "source": [
    "df = df[['tweets', 'sentiment', 'label']]\n",
    "df"
   ]
  },
  {
   "cell_type": "code",
   "execution_count": 36,
   "metadata": {
    "colab": {
     "base_uri": "https://localhost:8080/",
     "height": 422
    },
    "executionInfo": {
     "elapsed": 459,
     "status": "ok",
     "timestamp": 1634961913542,
     "user": {
      "displayName": "Miondlicht",
      "photoUrl": "https://lh3.googleusercontent.com/a/default-user=s64",
      "userId": "03919276898062335465"
     },
     "user_tz": -420
    },
    "id": "6L93AVl1f6P7",
    "outputId": "fa9946de-3933-4f22-a3c5-964fa2c3ef38"
   },
   "outputs": [
    {
     "data": {
      "text/html": [
       "<div>\n",
       "<style scoped>\n",
       "    .dataframe tbody tr th:only-of-type {\n",
       "        vertical-align: middle;\n",
       "    }\n",
       "\n",
       "    .dataframe tbody tr th {\n",
       "        vertical-align: top;\n",
       "    }\n",
       "\n",
       "    .dataframe thead th {\n",
       "        text-align: right;\n",
       "    }\n",
       "</style>\n",
       "<table border=\"1\" class=\"dataframe\">\n",
       "  <thead>\n",
       "    <tr style=\"text-align: right;\">\n",
       "      <th></th>\n",
       "      <th>tweets</th>\n",
       "      <th>sentiment</th>\n",
       "      <th>label</th>\n",
       "    </tr>\n",
       "  </thead>\n",
       "  <tbody>\n",
       "    <tr>\n",
       "      <th>0</th>\n",
       "      <td>many american lack critical think skill stop l...</td>\n",
       "      <td>negative</td>\n",
       "      <td>-1</td>\n",
       "    </tr>\n",
       "    <tr>\n",
       "      <th>1</th>\n",
       "      <td>coronavirus germany have problem with the vacc...</td>\n",
       "      <td>negative</td>\n",
       "      <td>-1</td>\n",
       "    </tr>\n",
       "    <tr>\n",
       "      <th>2</th>\n",
       "      <td>you can not get vaxxed when you already have c...</td>\n",
       "      <td>negative</td>\n",
       "      <td>-1</td>\n",
       "    </tr>\n",
       "    <tr>\n",
       "      <th>3</th>\n",
       "      <td>shame on the provaxxers for their judgemental ...</td>\n",
       "      <td>negative</td>\n",
       "      <td>-1</td>\n",
       "    </tr>\n",
       "    <tr>\n",
       "      <th>4</th>\n",
       "      <td>someone die because of vaccine</td>\n",
       "      <td>negative</td>\n",
       "      <td>-1</td>\n",
       "    </tr>\n",
       "    <tr>\n",
       "      <th>...</th>\n",
       "      <td>...</td>\n",
       "      <td>...</td>\n",
       "      <td>...</td>\n",
       "    </tr>\n",
       "    <tr>\n",
       "      <th>3745</th>\n",
       "      <td>vaccination with sputnik start in patna india ...</td>\n",
       "      <td>positive</td>\n",
       "      <td>1</td>\n",
       "    </tr>\n",
       "    <tr>\n",
       "      <th>3746</th>\n",
       "      <td>thanks to great team truly blessing</td>\n",
       "      <td>positive</td>\n",
       "      <td>1</td>\n",
       "    </tr>\n",
       "    <tr>\n",
       "      <th>3747</th>\n",
       "      <td>enthusiastic vaccine booster</td>\n",
       "      <td>positive</td>\n",
       "      <td>1</td>\n",
       "    </tr>\n",
       "    <tr>\n",
       "      <th>3748</th>\n",
       "      <td>the pfizer vaccine be now authorize for year o...</td>\n",
       "      <td>positive</td>\n",
       "      <td>1</td>\n",
       "    </tr>\n",
       "    <tr>\n",
       "      <th>3749</th>\n",
       "      <td>so enthusiastic and show up for vaccine</td>\n",
       "      <td>positive</td>\n",
       "      <td>1</td>\n",
       "    </tr>\n",
       "  </tbody>\n",
       "</table>\n",
       "<p>3750 rows × 3 columns</p>\n",
       "</div>"
      ],
      "text/plain": [
       "                                                 tweets sentiment  label\n",
       "0     many american lack critical think skill stop l...  negative     -1\n",
       "1     coronavirus germany have problem with the vacc...  negative     -1\n",
       "2     you can not get vaxxed when you already have c...  negative     -1\n",
       "3     shame on the provaxxers for their judgemental ...  negative     -1\n",
       "4                        someone die because of vaccine  negative     -1\n",
       "...                                                 ...       ...    ...\n",
       "3745  vaccination with sputnik start in patna india ...  positive      1\n",
       "3746                thanks to great team truly blessing  positive      1\n",
       "3747                       enthusiastic vaccine booster  positive      1\n",
       "3748  the pfizer vaccine be now authorize for year o...  positive      1\n",
       "3749            so enthusiastic and show up for vaccine  positive      1\n",
       "\n",
       "[3750 rows x 3 columns]"
      ]
     },
     "execution_count": 36,
     "metadata": {},
     "output_type": "execute_result"
    }
   ],
   "source": [
    "df.to_csv('/content/drive/MyDrive/Colab Notebooks/TUGAS AKHIR /fixed_tweets.csv', encoding='latin1', index=False)\n",
    "df"
   ]
  },
  {
   "cell_type": "code",
   "execution_count": 32,
   "metadata": {
    "executionInfo": {
     "elapsed": 10,
     "status": "ok",
     "timestamp": 1634961581939,
     "user": {
      "displayName": "Miondlicht",
      "photoUrl": "https://lh3.googleusercontent.com/a/default-user=s64",
      "userId": "03919276898062335465"
     },
     "user_tz": -420
    },
    "id": "KXamjco0gxUT"
   },
   "outputs": [],
   "source": []
  }
 ],
 "metadata": {
  "colab": {
   "authorship_tag": "ABX9TyMnWcoY2tivVhCAHaul96kl",
   "mount_file_id": "1Tx3P9_Y6G-Js5QYYUWBxErOM5XXNmEW3",
   "name": "2.Preprocessing.ipynb",
   "provenance": []
  },
  "kernelspec": {
   "display_name": "Python 3",
   "language": "python",
   "name": "python3"
  },
  "language_info": {
   "codemirror_mode": {
    "name": "ipython",
    "version": 3
   },
   "file_extension": ".py",
   "mimetype": "text/x-python",
   "name": "python",
   "nbconvert_exporter": "python",
   "pygments_lexer": "ipython3",
   "version": "3.7.0"
  }
 },
 "nbformat": 4,
 "nbformat_minor": 1
}
